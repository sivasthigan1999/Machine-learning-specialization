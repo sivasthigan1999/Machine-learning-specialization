{
  "nbformat": 4,
  "nbformat_minor": 0,
  "metadata": {
    "colab": {
      "name": "Song_recommender.ipynb",
      "provenance": [],
      "collapsed_sections": []
    },
    "kernelspec": {
      "name": "python3",
      "display_name": "Python 3"
    },
    "language_info": {
      "name": "python"
    }
  },
  "cells": [
    {
      "cell_type": "code",
      "metadata": {
        "colab": {
          "base_uri": "https://localhost:8080/",
          "height": 1000
        },
        "id": "WJCMVYcrV4G3",
        "outputId": "8c637388-a9d7-4244-e87f-127fbad0b9ba"
      },
      "source": [
        "pip install turicreate"
      ],
      "execution_count": null,
      "outputs": [
        {
          "output_type": "stream",
          "text": [
            "Collecting turicreate\n",
            "  Downloading turicreate-6.4.1-cp37-cp37m-manylinux1_x86_64.whl (92.0 MB)\n",
            "\u001b[K     |████████████████████████████████| 92.0 MB 4.5 kB/s \n",
            "\u001b[?25hCollecting resampy==0.2.1\n",
            "  Downloading resampy-0.2.1.tar.gz (322 kB)\n",
            "\u001b[K     |████████████████████████████████| 322 kB 45.4 MB/s \n",
            "\u001b[?25hCollecting numba<0.51.0\n",
            "  Downloading numba-0.50.1-cp37-cp37m-manylinux2014_x86_64.whl (3.6 MB)\n",
            "\u001b[K     |████████████████████████████████| 3.6 MB 57.3 MB/s \n",
            "\u001b[?25hCollecting prettytable==0.7.2\n",
            "  Downloading prettytable-0.7.2.zip (28 kB)\n",
            "Collecting coremltools==3.3\n",
            "  Downloading coremltools-3.3-cp37-none-manylinux1_x86_64.whl (3.5 MB)\n",
            "\u001b[K     |████████████████████████████████| 3.5 MB 45.1 MB/s \n",
            "\u001b[?25hRequirement already satisfied: pillow>=5.2.0 in /usr/local/lib/python3.7/dist-packages (from turicreate) (7.1.2)\n",
            "Requirement already satisfied: numpy in /usr/local/lib/python3.7/dist-packages (from turicreate) (1.19.5)\n",
            "Requirement already satisfied: requests>=2.9.1 in /usr/local/lib/python3.7/dist-packages (from turicreate) (2.23.0)\n",
            "Collecting tensorflow<2.1.0,>=2.0.0\n",
            "  Downloading tensorflow-2.0.4-cp37-cp37m-manylinux2010_x86_64.whl (86.4 MB)\n",
            "\u001b[K     |████████████████████████████████| 86.4 MB 59 kB/s \n",
            "\u001b[?25hRequirement already satisfied: scipy>=1.1.0 in /usr/local/lib/python3.7/dist-packages (from turicreate) (1.4.1)\n",
            "Requirement already satisfied: six>=1.10.0 in /usr/local/lib/python3.7/dist-packages (from turicreate) (1.15.0)\n",
            "Requirement already satisfied: pandas>=0.23.2 in /usr/local/lib/python3.7/dist-packages (from turicreate) (1.1.5)\n",
            "Requirement already satisfied: decorator>=4.0.9 in /usr/local/lib/python3.7/dist-packages (from turicreate) (4.4.2)\n",
            "Requirement already satisfied: protobuf>=3.1.0 in /usr/local/lib/python3.7/dist-packages (from coremltools==3.3->turicreate) (3.17.3)\n",
            "Collecting llvmlite<0.34,>=0.33.0.dev0\n",
            "  Downloading llvmlite-0.33.0-cp37-cp37m-manylinux1_x86_64.whl (18.3 MB)\n",
            "\u001b[K     |████████████████████████████████| 18.3 MB 78 kB/s \n",
            "\u001b[?25hRequirement already satisfied: setuptools in /usr/local/lib/python3.7/dist-packages (from numba<0.51.0->turicreate) (57.4.0)\n",
            "Requirement already satisfied: pytz>=2017.2 in /usr/local/lib/python3.7/dist-packages (from pandas>=0.23.2->turicreate) (2018.9)\n",
            "Requirement already satisfied: python-dateutil>=2.7.3 in /usr/local/lib/python3.7/dist-packages (from pandas>=0.23.2->turicreate) (2.8.2)\n",
            "Requirement already satisfied: urllib3!=1.25.0,!=1.25.1,<1.26,>=1.21.1 in /usr/local/lib/python3.7/dist-packages (from requests>=2.9.1->turicreate) (1.24.3)\n",
            "Requirement already satisfied: idna<3,>=2.5 in /usr/local/lib/python3.7/dist-packages (from requests>=2.9.1->turicreate) (2.10)\n",
            "Requirement already satisfied: certifi>=2017.4.17 in /usr/local/lib/python3.7/dist-packages (from requests>=2.9.1->turicreate) (2021.5.30)\n",
            "Requirement already satisfied: chardet<4,>=3.0.2 in /usr/local/lib/python3.7/dist-packages (from requests>=2.9.1->turicreate) (3.0.4)\n",
            "Requirement already satisfied: termcolor>=1.1.0 in /usr/local/lib/python3.7/dist-packages (from tensorflow<2.1.0,>=2.0.0->turicreate) (1.1.0)\n",
            "Requirement already satisfied: google-pasta>=0.1.6 in /usr/local/lib/python3.7/dist-packages (from tensorflow<2.1.0,>=2.0.0->turicreate) (0.2.0)\n",
            "Requirement already satisfied: opt-einsum>=2.3.2 in /usr/local/lib/python3.7/dist-packages (from tensorflow<2.1.0,>=2.0.0->turicreate) (3.3.0)\n",
            "Collecting gast==0.2.2\n",
            "  Downloading gast-0.2.2.tar.gz (10 kB)\n",
            "Requirement already satisfied: grpcio>=1.8.6 in /usr/local/lib/python3.7/dist-packages (from tensorflow<2.1.0,>=2.0.0->turicreate) (1.39.0)\n",
            "Collecting h5py<=2.10.0\n",
            "  Downloading h5py-2.10.0-cp37-cp37m-manylinux1_x86_64.whl (2.9 MB)\n",
            "\u001b[K     |████████████████████████████████| 2.9 MB 47.0 MB/s \n",
            "\u001b[?25hCollecting tensorflow-estimator<2.1.0,>=2.0.0\n",
            "  Downloading tensorflow_estimator-2.0.1-py2.py3-none-any.whl (449 kB)\n",
            "\u001b[K     |████████████████████████████████| 449 kB 52.3 MB/s \n",
            "\u001b[?25hCollecting keras-applications>=1.0.8\n",
            "  Downloading Keras_Applications-1.0.8-py3-none-any.whl (50 kB)\n",
            "\u001b[K     |████████████████████████████████| 50 kB 6.7 MB/s \n",
            "\u001b[?25hRequirement already satisfied: keras-preprocessing>=1.0.5 in /usr/local/lib/python3.7/dist-packages (from tensorflow<2.1.0,>=2.0.0->turicreate) (1.1.2)\n",
            "Requirement already satisfied: wrapt>=1.11.1 in /usr/local/lib/python3.7/dist-packages (from tensorflow<2.1.0,>=2.0.0->turicreate) (1.12.1)\n",
            "Requirement already satisfied: absl-py>=0.7.0 in /usr/local/lib/python3.7/dist-packages (from tensorflow<2.1.0,>=2.0.0->turicreate) (0.12.0)\n",
            "Requirement already satisfied: astor>=0.6.0 in /usr/local/lib/python3.7/dist-packages (from tensorflow<2.1.0,>=2.0.0->turicreate) (0.8.1)\n",
            "Collecting numpy\n",
            "  Downloading numpy-1.18.5-cp37-cp37m-manylinux1_x86_64.whl (20.1 MB)\n",
            "\u001b[K     |████████████████████████████████| 20.1 MB 3.4 MB/s \n",
            "\u001b[?25hRequirement already satisfied: wheel>=0.26 in /usr/local/lib/python3.7/dist-packages (from tensorflow<2.1.0,>=2.0.0->turicreate) (0.37.0)\n",
            "Collecting tensorboard<2.1.0,>=2.0.0\n",
            "  Downloading tensorboard-2.0.2-py3-none-any.whl (3.8 MB)\n",
            "\u001b[K     |████████████████████████████████| 3.8 MB 75.5 MB/s \n",
            "\u001b[?25hRequirement already satisfied: werkzeug>=0.11.15 in /usr/local/lib/python3.7/dist-packages (from tensorboard<2.1.0,>=2.0.0->tensorflow<2.1.0,>=2.0.0->turicreate) (1.0.1)\n",
            "Requirement already satisfied: google-auth-oauthlib<0.5,>=0.4.1 in /usr/local/lib/python3.7/dist-packages (from tensorboard<2.1.0,>=2.0.0->tensorflow<2.1.0,>=2.0.0->turicreate) (0.4.5)\n",
            "Requirement already satisfied: markdown>=2.6.8 in /usr/local/lib/python3.7/dist-packages (from tensorboard<2.1.0,>=2.0.0->tensorflow<2.1.0,>=2.0.0->turicreate) (3.3.4)\n",
            "Requirement already satisfied: google-auth<2,>=1.6.3 in /usr/local/lib/python3.7/dist-packages (from tensorboard<2.1.0,>=2.0.0->tensorflow<2.1.0,>=2.0.0->turicreate) (1.34.0)\n",
            "Requirement already satisfied: rsa<5,>=3.1.4 in /usr/local/lib/python3.7/dist-packages (from google-auth<2,>=1.6.3->tensorboard<2.1.0,>=2.0.0->tensorflow<2.1.0,>=2.0.0->turicreate) (4.7.2)\n",
            "Requirement already satisfied: pyasn1-modules>=0.2.1 in /usr/local/lib/python3.7/dist-packages (from google-auth<2,>=1.6.3->tensorboard<2.1.0,>=2.0.0->tensorflow<2.1.0,>=2.0.0->turicreate) (0.2.8)\n",
            "Requirement already satisfied: cachetools<5.0,>=2.0.0 in /usr/local/lib/python3.7/dist-packages (from google-auth<2,>=1.6.3->tensorboard<2.1.0,>=2.0.0->tensorflow<2.1.0,>=2.0.0->turicreate) (4.2.2)\n",
            "Requirement already satisfied: requests-oauthlib>=0.7.0 in /usr/local/lib/python3.7/dist-packages (from google-auth-oauthlib<0.5,>=0.4.1->tensorboard<2.1.0,>=2.0.0->tensorflow<2.1.0,>=2.0.0->turicreate) (1.3.0)\n",
            "Requirement already satisfied: importlib-metadata in /usr/local/lib/python3.7/dist-packages (from markdown>=2.6.8->tensorboard<2.1.0,>=2.0.0->tensorflow<2.1.0,>=2.0.0->turicreate) (4.6.4)\n",
            "Requirement already satisfied: pyasn1<0.5.0,>=0.4.6 in /usr/local/lib/python3.7/dist-packages (from pyasn1-modules>=0.2.1->google-auth<2,>=1.6.3->tensorboard<2.1.0,>=2.0.0->tensorflow<2.1.0,>=2.0.0->turicreate) (0.4.8)\n",
            "Requirement already satisfied: oauthlib>=3.0.0 in /usr/local/lib/python3.7/dist-packages (from requests-oauthlib>=0.7.0->google-auth-oauthlib<0.5,>=0.4.1->tensorboard<2.1.0,>=2.0.0->tensorflow<2.1.0,>=2.0.0->turicreate) (3.1.1)\n",
            "Requirement already satisfied: zipp>=0.5 in /usr/local/lib/python3.7/dist-packages (from importlib-metadata->markdown>=2.6.8->tensorboard<2.1.0,>=2.0.0->tensorflow<2.1.0,>=2.0.0->turicreate) (3.5.0)\n",
            "Requirement already satisfied: typing-extensions>=3.6.4 in /usr/local/lib/python3.7/dist-packages (from importlib-metadata->markdown>=2.6.8->tensorboard<2.1.0,>=2.0.0->tensorflow<2.1.0,>=2.0.0->turicreate) (3.7.4.3)\n",
            "Building wheels for collected packages: prettytable, resampy, gast\n",
            "  Building wheel for prettytable (setup.py) ... \u001b[?25l\u001b[?25hdone\n",
            "  Created wheel for prettytable: filename=prettytable-0.7.2-py3-none-any.whl size=13714 sha256=a97d1cc58e322be2517a60c13bc9b7d5c7992442bc1c0d685d9c043739f41ebe\n",
            "  Stored in directory: /root/.cache/pip/wheels/b2/7f/f6/f180315b584f00445045ff1699b550fa895d09471337ce21c6\n",
            "  Building wheel for resampy (setup.py) ... \u001b[?25l\u001b[?25hdone\n",
            "  Created wheel for resampy: filename=resampy-0.2.1-py3-none-any.whl size=320860 sha256=9bcc4e20e3f45a39901ff9633394879c22a92980b0dfe99e76518e15d35ba6d2\n",
            "  Stored in directory: /root/.cache/pip/wheels/71/74/53/d5ceb7c5ee7a168c7d106041863e71ac3273f4a4677743a284\n",
            "  Building wheel for gast (setup.py) ... \u001b[?25l\u001b[?25hdone\n",
            "  Created wheel for gast: filename=gast-0.2.2-py3-none-any.whl size=7554 sha256=6c51cc0659ec1c6091a1a7691c729f8f91ef08acc09668866fcbbf4f89a75220\n",
            "  Stored in directory: /root/.cache/pip/wheels/21/7f/02/420f32a803f7d0967b48dd823da3f558c5166991bfd204eef3\n",
            "Successfully built prettytable resampy gast\n",
            "Installing collected packages: numpy, llvmlite, h5py, tensorflow-estimator, tensorboard, numba, keras-applications, gast, tensorflow, resampy, prettytable, coremltools, turicreate\n",
            "  Attempting uninstall: numpy\n",
            "    Found existing installation: numpy 1.19.5\n",
            "    Uninstalling numpy-1.19.5:\n",
            "      Successfully uninstalled numpy-1.19.5\n",
            "  Attempting uninstall: llvmlite\n",
            "    Found existing installation: llvmlite 0.34.0\n",
            "    Uninstalling llvmlite-0.34.0:\n",
            "      Successfully uninstalled llvmlite-0.34.0\n",
            "  Attempting uninstall: h5py\n",
            "    Found existing installation: h5py 3.1.0\n",
            "    Uninstalling h5py-3.1.0:\n",
            "      Successfully uninstalled h5py-3.1.0\n",
            "  Attempting uninstall: tensorflow-estimator\n",
            "    Found existing installation: tensorflow-estimator 2.6.0\n",
            "    Uninstalling tensorflow-estimator-2.6.0:\n",
            "      Successfully uninstalled tensorflow-estimator-2.6.0\n",
            "  Attempting uninstall: tensorboard\n",
            "    Found existing installation: tensorboard 2.6.0\n",
            "    Uninstalling tensorboard-2.6.0:\n",
            "      Successfully uninstalled tensorboard-2.6.0\n",
            "  Attempting uninstall: numba\n",
            "    Found existing installation: numba 0.51.2\n",
            "    Uninstalling numba-0.51.2:\n",
            "      Successfully uninstalled numba-0.51.2\n",
            "  Attempting uninstall: gast\n",
            "    Found existing installation: gast 0.4.0\n",
            "    Uninstalling gast-0.4.0:\n",
            "      Successfully uninstalled gast-0.4.0\n",
            "  Attempting uninstall: tensorflow\n",
            "    Found existing installation: tensorflow 2.6.0\n",
            "    Uninstalling tensorflow-2.6.0:\n",
            "      Successfully uninstalled tensorflow-2.6.0\n",
            "  Attempting uninstall: resampy\n",
            "    Found existing installation: resampy 0.2.2\n",
            "    Uninstalling resampy-0.2.2:\n",
            "      Successfully uninstalled resampy-0.2.2\n",
            "  Attempting uninstall: prettytable\n",
            "    Found existing installation: prettytable 2.1.0\n",
            "    Uninstalling prettytable-2.1.0:\n",
            "      Successfully uninstalled prettytable-2.1.0\n",
            "\u001b[31mERROR: pip's dependency resolver does not currently take into account all the packages that are installed. This behaviour is the source of the following dependency conflicts.\n",
            "tensorflow-probability 0.13.0 requires gast>=0.3.2, but you have gast 0.2.2 which is incompatible.\n",
            "librosa 0.8.1 requires resampy>=0.2.2, but you have resampy 0.2.1 which is incompatible.\n",
            "datascience 0.10.6 requires folium==0.2.1, but you have folium 0.8.3 which is incompatible.\n",
            "albumentations 0.1.12 requires imgaug<0.2.7,>=0.2.5, but you have imgaug 0.2.9 which is incompatible.\u001b[0m\n",
            "Successfully installed coremltools-3.3 gast-0.2.2 h5py-2.10.0 keras-applications-1.0.8 llvmlite-0.33.0 numba-0.50.1 numpy-1.18.5 prettytable-0.7.2 resampy-0.2.1 tensorboard-2.0.2 tensorflow-2.0.4 tensorflow-estimator-2.0.1 turicreate-6.4.1\n"
          ],
          "name": "stdout"
        },
        {
          "output_type": "display_data",
          "data": {
            "application/vnd.colab-display-data+json": {
              "pip_warning": {
                "packages": [
                  "numpy"
                ]
              }
            }
          },
          "metadata": {}
        }
      ]
    },
    {
      "cell_type": "code",
      "metadata": {
        "id": "mIyBqpedWBEP"
      },
      "source": [
        "import turicreate as tc"
      ],
      "execution_count": null,
      "outputs": []
    },
    {
      "cell_type": "code",
      "metadata": {
        "id": "CJXr_TvZW_n8"
      },
      "source": [
        "songs=tc.SFrame('/content/drive/MyDrive/song_data.sframe')\n"
      ],
      "execution_count": null,
      "outputs": []
    },
    {
      "cell_type": "code",
      "metadata": {
        "colab": {
          "base_uri": "https://localhost:8080/",
          "height": 750
        },
        "id": "wp6dCkx-gKFy",
        "outputId": "ae428f86-c849-474b-875f-49bf32d84e86"
      },
      "source": [
        "songs"
      ],
      "execution_count": null,
      "outputs": [
        {
          "output_type": "execute_result",
          "data": {
            "text/html": [
              "<div style=\"max-height:1000px;max-width:1500px;overflow:auto;\"><table frame=\"box\" rules=\"cols\">\n",
              "    <tr>\n",
              "        <th style=\"padding-left: 1em; padding-right: 1em; text-align: center\">user_id</th>\n",
              "        <th style=\"padding-left: 1em; padding-right: 1em; text-align: center\">song_id</th>\n",
              "        <th style=\"padding-left: 1em; padding-right: 1em; text-align: center\">listen_count</th>\n",
              "        <th style=\"padding-left: 1em; padding-right: 1em; text-align: center\">title</th>\n",
              "        <th style=\"padding-left: 1em; padding-right: 1em; text-align: center\">artist</th>\n",
              "    </tr>\n",
              "    <tr>\n",
              "        <td style=\"padding-left: 1em; padding-right: 1em; text-align: center; vertical-align: top\">b80344d063b5ccb3212f76538<br>f3d9e43d87dca9e ...</td>\n",
              "        <td style=\"padding-left: 1em; padding-right: 1em; text-align: center; vertical-align: top\">SOAKIMP12A8C130995</td>\n",
              "        <td style=\"padding-left: 1em; padding-right: 1em; text-align: center; vertical-align: top\">1</td>\n",
              "        <td style=\"padding-left: 1em; padding-right: 1em; text-align: center; vertical-align: top\">The Cove</td>\n",
              "        <td style=\"padding-left: 1em; padding-right: 1em; text-align: center; vertical-align: top\">Jack Johnson</td>\n",
              "    </tr>\n",
              "    <tr>\n",
              "        <td style=\"padding-left: 1em; padding-right: 1em; text-align: center; vertical-align: top\">b80344d063b5ccb3212f76538<br>f3d9e43d87dca9e ...</td>\n",
              "        <td style=\"padding-left: 1em; padding-right: 1em; text-align: center; vertical-align: top\">SOBBMDR12A8C13253B</td>\n",
              "        <td style=\"padding-left: 1em; padding-right: 1em; text-align: center; vertical-align: top\">2</td>\n",
              "        <td style=\"padding-left: 1em; padding-right: 1em; text-align: center; vertical-align: top\">Entre Dos Aguas</td>\n",
              "        <td style=\"padding-left: 1em; padding-right: 1em; text-align: center; vertical-align: top\">Paco De Lucia</td>\n",
              "    </tr>\n",
              "    <tr>\n",
              "        <td style=\"padding-left: 1em; padding-right: 1em; text-align: center; vertical-align: top\">b80344d063b5ccb3212f76538<br>f3d9e43d87dca9e ...</td>\n",
              "        <td style=\"padding-left: 1em; padding-right: 1em; text-align: center; vertical-align: top\">SOBXHDL12A81C204C0</td>\n",
              "        <td style=\"padding-left: 1em; padding-right: 1em; text-align: center; vertical-align: top\">1</td>\n",
              "        <td style=\"padding-left: 1em; padding-right: 1em; text-align: center; vertical-align: top\">Stronger</td>\n",
              "        <td style=\"padding-left: 1em; padding-right: 1em; text-align: center; vertical-align: top\">Kanye West</td>\n",
              "    </tr>\n",
              "    <tr>\n",
              "        <td style=\"padding-left: 1em; padding-right: 1em; text-align: center; vertical-align: top\">b80344d063b5ccb3212f76538<br>f3d9e43d87dca9e ...</td>\n",
              "        <td style=\"padding-left: 1em; padding-right: 1em; text-align: center; vertical-align: top\">SOBYHAJ12A6701BF1D</td>\n",
              "        <td style=\"padding-left: 1em; padding-right: 1em; text-align: center; vertical-align: top\">1</td>\n",
              "        <td style=\"padding-left: 1em; padding-right: 1em; text-align: center; vertical-align: top\">Constellations</td>\n",
              "        <td style=\"padding-left: 1em; padding-right: 1em; text-align: center; vertical-align: top\">Jack Johnson</td>\n",
              "    </tr>\n",
              "    <tr>\n",
              "        <td style=\"padding-left: 1em; padding-right: 1em; text-align: center; vertical-align: top\">b80344d063b5ccb3212f76538<br>f3d9e43d87dca9e ...</td>\n",
              "        <td style=\"padding-left: 1em; padding-right: 1em; text-align: center; vertical-align: top\">SODACBL12A8C13C273</td>\n",
              "        <td style=\"padding-left: 1em; padding-right: 1em; text-align: center; vertical-align: top\">1</td>\n",
              "        <td style=\"padding-left: 1em; padding-right: 1em; text-align: center; vertical-align: top\">Learn To Fly</td>\n",
              "        <td style=\"padding-left: 1em; padding-right: 1em; text-align: center; vertical-align: top\">Foo Fighters</td>\n",
              "    </tr>\n",
              "    <tr>\n",
              "        <td style=\"padding-left: 1em; padding-right: 1em; text-align: center; vertical-align: top\">b80344d063b5ccb3212f76538<br>f3d9e43d87dca9e ...</td>\n",
              "        <td style=\"padding-left: 1em; padding-right: 1em; text-align: center; vertical-align: top\">SODDNQT12A6D4F5F7E</td>\n",
              "        <td style=\"padding-left: 1em; padding-right: 1em; text-align: center; vertical-align: top\">5</td>\n",
              "        <td style=\"padding-left: 1em; padding-right: 1em; text-align: center; vertical-align: top\">Apuesta Por El Rock &#x27;N&#x27;<br>Roll ...</td>\n",
              "        <td style=\"padding-left: 1em; padding-right: 1em; text-align: center; vertical-align: top\">Héroes del Silencio</td>\n",
              "    </tr>\n",
              "    <tr>\n",
              "        <td style=\"padding-left: 1em; padding-right: 1em; text-align: center; vertical-align: top\">b80344d063b5ccb3212f76538<br>f3d9e43d87dca9e ...</td>\n",
              "        <td style=\"padding-left: 1em; padding-right: 1em; text-align: center; vertical-align: top\">SODXRTY12AB0180F3B</td>\n",
              "        <td style=\"padding-left: 1em; padding-right: 1em; text-align: center; vertical-align: top\">1</td>\n",
              "        <td style=\"padding-left: 1em; padding-right: 1em; text-align: center; vertical-align: top\">Paper Gangsta</td>\n",
              "        <td style=\"padding-left: 1em; padding-right: 1em; text-align: center; vertical-align: top\">Lady GaGa</td>\n",
              "    </tr>\n",
              "    <tr>\n",
              "        <td style=\"padding-left: 1em; padding-right: 1em; text-align: center; vertical-align: top\">b80344d063b5ccb3212f76538<br>f3d9e43d87dca9e ...</td>\n",
              "        <td style=\"padding-left: 1em; padding-right: 1em; text-align: center; vertical-align: top\">SOFGUAY12AB017B0A8</td>\n",
              "        <td style=\"padding-left: 1em; padding-right: 1em; text-align: center; vertical-align: top\">1</td>\n",
              "        <td style=\"padding-left: 1em; padding-right: 1em; text-align: center; vertical-align: top\">Stacked Actors</td>\n",
              "        <td style=\"padding-left: 1em; padding-right: 1em; text-align: center; vertical-align: top\">Foo Fighters</td>\n",
              "    </tr>\n",
              "    <tr>\n",
              "        <td style=\"padding-left: 1em; padding-right: 1em; text-align: center; vertical-align: top\">b80344d063b5ccb3212f76538<br>f3d9e43d87dca9e ...</td>\n",
              "        <td style=\"padding-left: 1em; padding-right: 1em; text-align: center; vertical-align: top\">SOFRQTD12A81C233C0</td>\n",
              "        <td style=\"padding-left: 1em; padding-right: 1em; text-align: center; vertical-align: top\">1</td>\n",
              "        <td style=\"padding-left: 1em; padding-right: 1em; text-align: center; vertical-align: top\">Sehr kosmisch</td>\n",
              "        <td style=\"padding-left: 1em; padding-right: 1em; text-align: center; vertical-align: top\">Harmonia</td>\n",
              "    </tr>\n",
              "    <tr>\n",
              "        <td style=\"padding-left: 1em; padding-right: 1em; text-align: center; vertical-align: top\">b80344d063b5ccb3212f76538<br>f3d9e43d87dca9e ...</td>\n",
              "        <td style=\"padding-left: 1em; padding-right: 1em; text-align: center; vertical-align: top\">SOHQWYZ12A6D4FA701</td>\n",
              "        <td style=\"padding-left: 1em; padding-right: 1em; text-align: center; vertical-align: top\">1</td>\n",
              "        <td style=\"padding-left: 1em; padding-right: 1em; text-align: center; vertical-align: top\">Heaven&#x27;s gonna burn your<br>eyes ...</td>\n",
              "        <td style=\"padding-left: 1em; padding-right: 1em; text-align: center; vertical-align: top\">Thievery Corporation<br>feat. Emiliana Torrini ...</td>\n",
              "    </tr>\n",
              "</table>\n",
              "<table frame=\"box\" rules=\"cols\">\n",
              "    <tr>\n",
              "        <th style=\"padding-left: 1em; padding-right: 1em; text-align: center\">song</th>\n",
              "    </tr>\n",
              "    <tr>\n",
              "        <td style=\"padding-left: 1em; padding-right: 1em; text-align: center; vertical-align: top\">The Cove - Jack Johnson</td>\n",
              "    </tr>\n",
              "    <tr>\n",
              "        <td style=\"padding-left: 1em; padding-right: 1em; text-align: center; vertical-align: top\">Entre Dos Aguas - Paco De<br>Lucia ...</td>\n",
              "    </tr>\n",
              "    <tr>\n",
              "        <td style=\"padding-left: 1em; padding-right: 1em; text-align: center; vertical-align: top\">Stronger - Kanye West</td>\n",
              "    </tr>\n",
              "    <tr>\n",
              "        <td style=\"padding-left: 1em; padding-right: 1em; text-align: center; vertical-align: top\">Constellations - Jack<br>Johnson ...</td>\n",
              "    </tr>\n",
              "    <tr>\n",
              "        <td style=\"padding-left: 1em; padding-right: 1em; text-align: center; vertical-align: top\">Learn To Fly - Foo<br>Fighters ...</td>\n",
              "    </tr>\n",
              "    <tr>\n",
              "        <td style=\"padding-left: 1em; padding-right: 1em; text-align: center; vertical-align: top\">Apuesta Por El Rock &#x27;N&#x27;<br>Roll - Héroes del ...</td>\n",
              "    </tr>\n",
              "    <tr>\n",
              "        <td style=\"padding-left: 1em; padding-right: 1em; text-align: center; vertical-align: top\">Paper Gangsta - Lady GaGa</td>\n",
              "    </tr>\n",
              "    <tr>\n",
              "        <td style=\"padding-left: 1em; padding-right: 1em; text-align: center; vertical-align: top\">Stacked Actors - Foo<br>Fighters ...</td>\n",
              "    </tr>\n",
              "    <tr>\n",
              "        <td style=\"padding-left: 1em; padding-right: 1em; text-align: center; vertical-align: top\">Sehr kosmisch - Harmonia</td>\n",
              "    </tr>\n",
              "    <tr>\n",
              "        <td style=\"padding-left: 1em; padding-right: 1em; text-align: center; vertical-align: top\">Heaven&#x27;s gonna burn your<br>eyes - Thievery ...</td>\n",
              "    </tr>\n",
              "</table>\n",
              "[1116609 rows x 6 columns]<br/>Note: Only the head of the SFrame is printed.<br/>You can use print_rows(num_rows=m, num_columns=n) to print more rows and columns.\n",
              "</div>"
            ],
            "text/plain": [
              "Columns:\n",
              "\tuser_id\tstr\n",
              "\tsong_id\tstr\n",
              "\tlisten_count\tint\n",
              "\ttitle\tstr\n",
              "\tartist\tstr\n",
              "\tsong\tstr\n",
              "\n",
              "Rows: 1116609\n",
              "\n",
              "Data:\n",
              "+-------------------------------+--------------------+--------------+\n",
              "|            user_id            |      song_id       | listen_count |\n",
              "+-------------------------------+--------------------+--------------+\n",
              "| b80344d063b5ccb3212f76538f... | SOAKIMP12A8C130995 |      1       |\n",
              "| b80344d063b5ccb3212f76538f... | SOBBMDR12A8C13253B |      2       |\n",
              "| b80344d063b5ccb3212f76538f... | SOBXHDL12A81C204C0 |      1       |\n",
              "| b80344d063b5ccb3212f76538f... | SOBYHAJ12A6701BF1D |      1       |\n",
              "| b80344d063b5ccb3212f76538f... | SODACBL12A8C13C273 |      1       |\n",
              "| b80344d063b5ccb3212f76538f... | SODDNQT12A6D4F5F7E |      5       |\n",
              "| b80344d063b5ccb3212f76538f... | SODXRTY12AB0180F3B |      1       |\n",
              "| b80344d063b5ccb3212f76538f... | SOFGUAY12AB017B0A8 |      1       |\n",
              "| b80344d063b5ccb3212f76538f... | SOFRQTD12A81C233C0 |      1       |\n",
              "| b80344d063b5ccb3212f76538f... | SOHQWYZ12A6D4FA701 |      1       |\n",
              "+-------------------------------+--------------------+--------------+\n",
              "+-------------------------------+-------------------------------+\n",
              "|             title             |             artist            |\n",
              "+-------------------------------+-------------------------------+\n",
              "|            The Cove           |          Jack Johnson         |\n",
              "|        Entre Dos Aguas        |         Paco De Lucia         |\n",
              "|            Stronger           |           Kanye West          |\n",
              "|         Constellations        |          Jack Johnson         |\n",
              "|          Learn To Fly         |          Foo Fighters         |\n",
              "|  Apuesta Por El Rock 'N' Roll |      Héroes del Silencio      |\n",
              "|         Paper Gangsta         |           Lady GaGa           |\n",
              "|         Stacked Actors        |          Foo Fighters         |\n",
              "|         Sehr kosmisch         |            Harmonia           |\n",
              "| Heaven's gonna burn your eyes | Thievery Corporation feat.... |\n",
              "+-------------------------------+-------------------------------+\n",
              "+-------------------------------+\n",
              "|              song             |\n",
              "+-------------------------------+\n",
              "|    The Cove - Jack Johnson    |\n",
              "| Entre Dos Aguas - Paco De ... |\n",
              "|     Stronger - Kanye West     |\n",
              "| Constellations - Jack Johnson |\n",
              "|  Learn To Fly - Foo Fighters  |\n",
              "| Apuesta Por El Rock 'N' Ro... |\n",
              "|   Paper Gangsta - Lady GaGa   |\n",
              "| Stacked Actors - Foo Fighters |\n",
              "|    Sehr kosmisch - Harmonia   |\n",
              "| Heaven's gonna burn your e... |\n",
              "+-------------------------------+\n",
              "[1116609 rows x 6 columns]\n",
              "Note: Only the head of the SFrame is printed.\n",
              "You can use print_rows(num_rows=m, num_columns=n) to print more rows and columns."
            ]
          },
          "metadata": {},
          "execution_count": 33
        }
      ]
    },
    {
      "cell_type": "code",
      "metadata": {
        "colab": {
          "base_uri": "https://localhost:8080/",
          "height": 807
        },
        "id": "x2Jlj1j1XMIl",
        "outputId": "46804b5d-6a33-402b-e45d-e871e8c2f737"
      },
      "source": [
        "songs['song'].show()"
      ],
      "execution_count": null,
      "outputs": [
        {
          "output_type": "display_data",
          "data": {
            "text/html": [
              "<pre>Materializing SArray</pre>"
            ],
            "text/plain": [
              "Materializing SArray"
            ]
          },
          "metadata": {}
        },
        {
          "output_type": "display_data",
          "data": {
            "text/html": [
              "<html>                 <body>                     <iframe style=\"border:0;margin:0\" width=\"920\" height=\"770\" srcdoc='<html lang=\"en\">                         <head>                             <script src=\"https://cdnjs.cloudflare.com/ajax/libs/vega/5.4.0/vega.js\"></script>                             <script src=\"https://cdnjs.cloudflare.com/ajax/libs/vega-embed/4.0.0/vega-embed.js\"></script>                             <script src=\"https://cdnjs.cloudflare.com/ajax/libs/vega-tooltip/0.5.1/vega-tooltip.min.js\"></script>                             <link rel=\"stylesheet\" type=\"text/css\" href=\"https://cdnjs.cloudflare.com/ajax/libs/vega-tooltip/0.5.1/vega-tooltip.min.css\">                             <style>                             .vega-actions > a{                                 color:white;                                 text-decoration: none;                                 font-family: \"Arial\";                                 cursor:pointer;                                 padding:5px;                                 background:#AAAAAA;                                 border-radius:4px;                                 padding-left:10px;                                 padding-right:10px;                                 margin-right:5px;                             }                             .vega-actions{                                 margin-top:20px;                                 text-align:center                             }                            .vega-actions > a{                                 background:#999999;                            }                             </style>                         </head>                         <body>                             <div id=\"vis\">                             </div>                             <script>                                 var vega_json = \"{\\\"$schema\\\": \\\"https://vega.github.io/schema/vega/v4.json\\\", \\\"autosize\\\": {\\\"type\\\": \\\"fit\\\", \\\"resize\\\": false, \\\"contains\\\": \\\"padding\\\"}, \\\"padding\\\": 8, \\\"metadata\\\": {\\\"bubbleOpts\\\": {\\\"showAllFields\\\": false, \\\"fields\\\": [{\\\"field\\\": \\\"count\\\"}, {\\\"field\\\": \\\"label\\\"}, {\\\"field\\\": \\\"percentage\\\"}]}}, \\\"width\\\": 720, \\\"height\\\": 550, \\\"title\\\": \\\"Distribution of Values [string]\\\", \\\"style\\\": \\\"cell\\\", \\\"data\\\": [{\\\"name\\\": \\\"pts_store_store\\\"}, {\\\"name\\\": \\\"source_2\\\", \\\"values\\\": [{\\\"label\\\": \\\"Sehr kosmisch - Harmonia\\\", \\\"label_idx\\\": 0, \\\"count\\\": 5970, \\\"percentage\\\": \\\"0.534654%\\\"}, {\\\"label\\\": \\\"Undo - Bj\\\\u00f6rk\\\", \\\"label_idx\\\": 1, \\\"count\\\": 5281, \\\"percentage\\\": \\\"0.47295%\\\"}, {\\\"label\\\": \\\"You&apos;re The One - Dwight Yoakam\\\", \\\"label_idx\\\": 2, \\\"count\\\": 4806, \\\"percentage\\\": \\\"0.43041%\\\"}, {\\\"label\\\": \\\"Dog Days Are Over (Radio Edit) - Florence + The Machine\\\", \\\"label_idx\\\": 3, \\\"count\\\": 4536, \\\"percentage\\\": \\\"0.40623%\\\"}, {\\\"label\\\": \\\"Revelry - Kings Of Leon\\\", \\\"label_idx\\\": 4, \\\"count\\\": 4339, \\\"percentage\\\": \\\"0.388587%\\\"}, {\\\"label\\\": \\\"Horn Concerto No. 4 in E flat K495: II. Romance (Andante cantabile) - Barry Tuckwell/Academy of St Martin-in-the-Fields/Sir Neville Marriner\\\", \\\"label_idx\\\": 5, \\\"count\\\": 3949, \\\"percentage\\\": \\\"0.35366%\\\"}, {\\\"label\\\": \\\"Secrets - OneRepublic\\\", \\\"label_idx\\\": 6, \\\"count\\\": 3916, \\\"percentage\\\": \\\"0.350705%\\\"}, {\\\"label\\\": \\\"Tive Sim - Cartola\\\", \\\"label_idx\\\": 7, \\\"count\\\": 3185, \\\"percentage\\\": \\\"0.285239%\\\"}, {\\\"label\\\": \\\"Fireflies - Charttraxx Karaoke\\\", \\\"label_idx\\\": 8, \\\"count\\\": 3171, \\\"percentage\\\": \\\"0.283985%\\\"}, {\\\"label\\\": \\\"Hey_ Soul Sister - Train\\\", \\\"label_idx\\\": 9, \\\"count\\\": 3132, \\\"percentage\\\": \\\"0.280492%\\\"}, {\\\"label\\\": \\\"Drop The World - Lil Wayne / Eminem\\\", \\\"label_idx\\\": 10, \\\"count\\\": 2570, \\\"percentage\\\": \\\"0.230161%\\\"}, {\\\"label\\\": \\\"OMG - Usher featuring will.i.am\\\", \\\"label_idx\\\": 11, \\\"count\\\": 2533, \\\"percentage\\\": \\\"0.226848%\\\"}, {\\\"label\\\": \\\"Other (9940 labels)\\\", \\\"label_idx\\\": 12, \\\"count\\\": 1069221, \\\"percentage\\\": \\\"95.7561%\\\"}]}, {\\\"name\\\": \\\"data_0\\\", \\\"source\\\": \\\"source_2\\\", \\\"transform\\\": [{\\\"type\\\": \\\"formula\\\", \\\"expr\\\": \\\"toNumber(datum[\\\\\\\"count\\\\\\\"])\\\", \\\"as\\\": \\\"count\\\"}, {\\\"type\\\": \\\"filter\\\", \\\"expr\\\": \\\"datum[\\\\\\\"count\\\\\\\"] !== null &amp;&amp; !isNaN(datum[\\\\\\\"count\\\\\\\"])\\\"}]}], \\\"signals\\\": [{\\\"name\\\": \\\"unit\\\", \\\"value\\\": {}, \\\"on\\\": [{\\\"events\\\": \\\"mousemove\\\", \\\"update\\\": \\\"isTuple(group()) ? group() : unit\\\"}]}, {\\\"name\\\": \\\"pts_store\\\", \\\"update\\\": \\\"data(\\\\\\\"pts_store_store\\\\\\\").length &amp;&amp; {count: data(\\\\\\\"pts_store_store\\\\\\\")[0].values[0]}\\\"}, {\\\"name\\\": \\\"pts_store_tuple\\\", \\\"value\\\": {}, \\\"on\\\": [{\\\"events\\\": [{\\\"source\\\": \\\"scope\\\", \\\"type\\\": \\\"click\\\"}], \\\"update\\\": \\\"datum &amp;&amp; item().mark.marktype !== &apos;group&apos; ? {unit: \\\\\\\"\\\\\\\", encodings: [\\\\\\\"x\\\\\\\"], fields: [\\\\\\\"count\\\\\\\"], values: [datum[\\\\\\\"count\\\\\\\"]]} : null\\\", \\\"force\\\": true}]}, {\\\"name\\\": \\\"pts_store_modify\\\", \\\"on\\\": [{\\\"events\\\": {\\\"signal\\\": \\\"pts_store_tuple\\\"}, \\\"update\\\": \\\"modify(\\\\\\\"pts_store_store\\\\\\\", pts_store_tuple, true)\\\"}]}], \\\"marks\\\": [{\\\"name\\\": \\\"marks\\\", \\\"type\\\": \\\"rect\\\", \\\"style\\\": [\\\"bar\\\"], \\\"from\\\": {\\\"data\\\": \\\"data_0\\\"}, \\\"encode\\\": {\\\"hover\\\": {\\\"fill\\\": {\\\"value\\\": \\\"#7EC2F3\\\"}}, \\\"update\\\": {\\\"x\\\": {\\\"scale\\\": \\\"x\\\", \\\"field\\\": \\\"count\\\"}, \\\"x2\\\": {\\\"scale\\\": \\\"x\\\", \\\"value\\\": 0}, \\\"y\\\": {\\\"scale\\\": \\\"y\\\", \\\"field\\\": \\\"label\\\"}, \\\"height\\\": {\\\"scale\\\": \\\"y\\\", \\\"band\\\": true}, \\\"fill\\\": {\\\"value\\\": \\\"#108EE9\\\"}}}}], \\\"scales\\\": [{\\\"name\\\": \\\"x\\\", \\\"type\\\": \\\"linear\\\", \\\"domain\\\": {\\\"data\\\": \\\"data_0\\\", \\\"field\\\": \\\"count\\\"}, \\\"range\\\": [0, {\\\"signal\\\": \\\"width\\\"}], \\\"nice\\\": true, \\\"zero\\\": true}, {\\\"name\\\": \\\"y\\\", \\\"type\\\": \\\"band\\\", \\\"domain\\\": {\\\"data\\\": \\\"data_0\\\", \\\"field\\\": \\\"label\\\", \\\"sort\\\": {\\\"op\\\": \\\"mean\\\", \\\"field\\\": \\\"label_idx\\\", \\\"order\\\": \\\"descending\\\"}}, \\\"range\\\": [{\\\"signal\\\": \\\"height\\\"}, 0], \\\"paddingInner\\\": 0.1, \\\"paddingOuter\\\": 0.05}], \\\"axes\\\": [{\\\"orient\\\": \\\"top\\\", \\\"scale\\\": \\\"x\\\", \\\"labelOverlap\\\": true, \\\"tickCount\\\": {\\\"signal\\\": \\\"ceil(width/40)\\\"}, \\\"title\\\": \\\"Count\\\", \\\"zindex\\\": 1}, {\\\"orient\\\": \\\"top\\\", \\\"scale\\\": \\\"x\\\", \\\"domain\\\": false, \\\"grid\\\": true, \\\"labels\\\": false, \\\"maxExtent\\\": 0, \\\"minExtent\\\": 0, \\\"tickCount\\\": {\\\"signal\\\": \\\"ceil(width/40)\\\"}, \\\"ticks\\\": false, \\\"zindex\\\": 0, \\\"gridScale\\\": \\\"y\\\"}, {\\\"scale\\\": \\\"y\\\", \\\"labelOverlap\\\": true, \\\"orient\\\": \\\"left\\\", \\\"title\\\": \\\"Values\\\", \\\"zindex\\\": 1}], \\\"config\\\": {\\\"axis\\\": {\\\"gridColor\\\": \\\"rgba(204,204,204,1.0)\\\", \\\"labelFont\\\": \\\"\\\\\\\"San Francisco\\\\\\\", HelveticaNeue, Arial\\\", \\\"labelFontSize\\\": 12, \\\"labelPadding\\\": 10, \\\"labelColor\\\": \\\"rgba(0,0,0,0.847)\\\", \\\"tickColor\\\": \\\"rgb(136,136,136)\\\", \\\"titleFont\\\": \\\"\\\\\\\"San Francisco\\\\\\\", HelveticaNeue, Arial\\\", \\\"titleFontWeight\\\": \\\"normal\\\", \\\"titlePadding\\\": 20, \\\"titleFontSize\\\": 14, \\\"titleColor\\\": \\\"rgba(0,0,0,0.847)\\\"}, \\\"axisY\\\": {\\\"minExtent\\\": 30}, \\\"legend\\\": {\\\"labelFont\\\": \\\"\\\\\\\"San Francisco\\\\\\\", HelveticaNeue, Arial\\\", \\\"labelColor\\\": \\\"rgba(0,0,0,0.847)\\\", \\\"titleFont\\\": \\\"\\\\\\\"San Francisco\\\\\\\", HelveticaNeue, Arial\\\", \\\"cornerRadius\\\": 30, \\\"gradientLength\\\": 608, \\\"titleColor\\\": \\\"rgba(0,0,0,0.847)\\\"}, \\\"range\\\": {\\\"heatmap\\\": {\\\"scheme\\\": \\\"greenblue\\\"}}, \\\"style\\\": {\\\"rect\\\": {\\\"stroke\\\": \\\"rgba(200, 200, 200, 0.5)\\\"}, \\\"cell\\\": {\\\"stroke\\\": \\\"transparent\\\"}, \\\"group-title\\\": {\\\"fontSize\\\": 29, \\\"font\\\": \\\"HelveticaNeue, Arial\\\", \\\"fontWeight\\\": \\\"normal\\\", \\\"fill\\\": \\\"rgba(0,0,0,0.65)\\\"}}, \\\"title\\\": {\\\"color\\\": \\\"rgba(0,0,0,0.847)\\\", \\\"font\\\": \\\"\\\\\\\"San Francisco\\\\\\\", HelveticaNeue, Arial\\\", \\\"fontSize\\\": 18, \\\"fontWeight\\\": \\\"normal\\\", \\\"offset\\\": 30}}}\";                                 var vega_json_parsed = JSON.parse(vega_json);                                 var toolTipOpts = {                                     showAllFields: true                                 };                                 if(vega_json_parsed[\"metadata\"] != null){                                     if(vega_json_parsed[\"metadata\"][\"bubbleOpts\"] != null){                                         toolTipOpts = vega_json_parsed[\"metadata\"][\"bubbleOpts\"];                                     };                                 };                                 vegaEmbed(\"#vis\", vega_json_parsed).then(function (result) {                                     vegaTooltip.vega(result.view, toolTipOpts);                                  });                             </script>                         </body>                     </html>' src=\"demo_iframe_srcdoc.htm\">                         <p>Your browser does not support iframes.</p>                     </iframe>                 </body>             </html>"
            ],
            "text/plain": [
              "<IPython.core.display.HTML object>"
            ]
          },
          "metadata": {}
        }
      ]
    },
    {
      "cell_type": "code",
      "metadata": {
        "colab": {
          "base_uri": "https://localhost:8080/"
        },
        "id": "EO6wAjuzfU1c",
        "outputId": "f08c3f4f-0845-438f-dbbe-30cd80090b84"
      },
      "source": [
        "len(songs)"
      ],
      "execution_count": null,
      "outputs": [
        {
          "output_type": "execute_result",
          "data": {
            "text/plain": [
              "1116609"
            ]
          },
          "metadata": {},
          "execution_count": 29
        }
      ]
    },
    {
      "cell_type": "code",
      "metadata": {
        "colab": {
          "base_uri": "https://localhost:8080/"
        },
        "id": "3nnZUkqIfWbC",
        "outputId": "bfee88e8-7923-4750-bf84-f3e4722e92b8"
      },
      "source": [
        "len(songs['song'])"
      ],
      "execution_count": null,
      "outputs": [
        {
          "output_type": "execute_result",
          "data": {
            "text/plain": [
              "1116609"
            ]
          },
          "metadata": {},
          "execution_count": 32
        }
      ]
    },
    {
      "cell_type": "markdown",
      "metadata": {
        "id": "-NGLTXoogo8l"
      },
      "source": [
        "## count no of actual users"
      ]
    },
    {
      "cell_type": "code",
      "metadata": {
        "colab": {
          "base_uri": "https://localhost:8080/"
        },
        "id": "8oRFjpnGfx-a",
        "outputId": "856634a9-dfc6-4237-8af8-8f2944879ccc"
      },
      "source": [
        "user=songs['user_id'].unique()\n",
        "songs['user_id']"
      ],
      "execution_count": null,
      "outputs": [
        {
          "output_type": "execute_result",
          "data": {
            "text/plain": [
              "dtype: str\n",
              "Rows: 1116609\n",
              "['b80344d063b5ccb3212f76538f3d9e43d87dca9e', 'b80344d063b5ccb3212f76538f3d9e43d87dca9e', 'b80344d063b5ccb3212f76538f3d9e43d87dca9e', 'b80344d063b5ccb3212f76538f3d9e43d87dca9e', 'b80344d063b5ccb3212f76538f3d9e43d87dca9e', 'b80344d063b5ccb3212f76538f3d9e43d87dca9e', 'b80344d063b5ccb3212f76538f3d9e43d87dca9e', 'b80344d063b5ccb3212f76538f3d9e43d87dca9e', 'b80344d063b5ccb3212f76538f3d9e43d87dca9e', 'b80344d063b5ccb3212f76538f3d9e43d87dca9e', 'b80344d063b5ccb3212f76538f3d9e43d87dca9e', 'b80344d063b5ccb3212f76538f3d9e43d87dca9e', 'b80344d063b5ccb3212f76538f3d9e43d87dca9e', 'b80344d063b5ccb3212f76538f3d9e43d87dca9e', 'b80344d063b5ccb3212f76538f3d9e43d87dca9e', 'b80344d063b5ccb3212f76538f3d9e43d87dca9e', 'b80344d063b5ccb3212f76538f3d9e43d87dca9e', 'b80344d063b5ccb3212f76538f3d9e43d87dca9e', 'b80344d063b5ccb3212f76538f3d9e43d87dca9e', 'b80344d063b5ccb3212f76538f3d9e43d87dca9e', 'b80344d063b5ccb3212f76538f3d9e43d87dca9e', 'b80344d063b5ccb3212f76538f3d9e43d87dca9e', 'b80344d063b5ccb3212f76538f3d9e43d87dca9e', 'b80344d063b5ccb3212f76538f3d9e43d87dca9e', 'b80344d063b5ccb3212f76538f3d9e43d87dca9e', 'b80344d063b5ccb3212f76538f3d9e43d87dca9e', 'b80344d063b5ccb3212f76538f3d9e43d87dca9e', 'b80344d063b5ccb3212f76538f3d9e43d87dca9e', 'b80344d063b5ccb3212f76538f3d9e43d87dca9e', 'b80344d063b5ccb3212f76538f3d9e43d87dca9e', 'b80344d063b5ccb3212f76538f3d9e43d87dca9e', 'b80344d063b5ccb3212f76538f3d9e43d87dca9e', 'b80344d063b5ccb3212f76538f3d9e43d87dca9e', 'b80344d063b5ccb3212f76538f3d9e43d87dca9e', 'b80344d063b5ccb3212f76538f3d9e43d87dca9e', 'b80344d063b5ccb3212f76538f3d9e43d87dca9e', 'b80344d063b5ccb3212f76538f3d9e43d87dca9e', 'b80344d063b5ccb3212f76538f3d9e43d87dca9e', 'b80344d063b5ccb3212f76538f3d9e43d87dca9e', 'b80344d063b5ccb3212f76538f3d9e43d87dca9e', 'b80344d063b5ccb3212f76538f3d9e43d87dca9e', 'b80344d063b5ccb3212f76538f3d9e43d87dca9e', 'b80344d063b5ccb3212f76538f3d9e43d87dca9e', 'b80344d063b5ccb3212f76538f3d9e43d87dca9e', 'b80344d063b5ccb3212f76538f3d9e43d87dca9e', '85c1f87fea955d09b4bec2e36aee110927aedf9a', 'bd4c6e843f00bd476847fb75c47b4fb430a06856', 'bd4c6e843f00bd476847fb75c47b4fb430a06856', 'bd4c6e843f00bd476847fb75c47b4fb430a06856', 'bd4c6e843f00bd476847fb75c47b4fb430a06856', 'bd4c6e843f00bd476847fb75c47b4fb430a06856', 'bd4c6e843f00bd476847fb75c47b4fb430a06856', 'bd4c6e843f00bd476847fb75c47b4fb430a06856', 'bd4c6e843f00bd476847fb75c47b4fb430a06856', '8937134734f869debcab8f23d77465b4caaa85df', '8937134734f869debcab8f23d77465b4caaa85df', '969cc6fb74e076a68e36a04409cb9d3765757508', '969cc6fb74e076a68e36a04409cb9d3765757508', '969cc6fb74e076a68e36a04409cb9d3765757508', '969cc6fb74e076a68e36a04409cb9d3765757508', '969cc6fb74e076a68e36a04409cb9d3765757508', '969cc6fb74e076a68e36a04409cb9d3765757508', '969cc6fb74e076a68e36a04409cb9d3765757508', '969cc6fb74e076a68e36a04409cb9d3765757508', '969cc6fb74e076a68e36a04409cb9d3765757508', '969cc6fb74e076a68e36a04409cb9d3765757508', '969cc6fb74e076a68e36a04409cb9d3765757508', '969cc6fb74e076a68e36a04409cb9d3765757508', '969cc6fb74e076a68e36a04409cb9d3765757508', '969cc6fb74e076a68e36a04409cb9d3765757508', '969cc6fb74e076a68e36a04409cb9d3765757508', '969cc6fb74e076a68e36a04409cb9d3765757508', '969cc6fb74e076a68e36a04409cb9d3765757508', '969cc6fb74e076a68e36a04409cb9d3765757508', '969cc6fb74e076a68e36a04409cb9d3765757508', '4bd88bfb25263a75bbdd467e74018f4ae570e5df', '4bd88bfb25263a75bbdd467e74018f4ae570e5df', '4bd88bfb25263a75bbdd467e74018f4ae570e5df', '4bd88bfb25263a75bbdd467e74018f4ae570e5df', '4bd88bfb25263a75bbdd467e74018f4ae570e5df', '4bd88bfb25263a75bbdd467e74018f4ae570e5df', '4bd88bfb25263a75bbdd467e74018f4ae570e5df', '4bd88bfb25263a75bbdd467e74018f4ae570e5df', '4bd88bfb25263a75bbdd467e74018f4ae570e5df', '4bd88bfb25263a75bbdd467e74018f4ae570e5df', '4bd88bfb25263a75bbdd467e74018f4ae570e5df', '4bd88bfb25263a75bbdd467e74018f4ae570e5df', '4bd88bfb25263a75bbdd467e74018f4ae570e5df', 'e006b1a48f466bf59feefed32bec6494495a4436', 'e006b1a48f466bf59feefed32bec6494495a4436', 'e006b1a48f466bf59feefed32bec6494495a4436', 'e006b1a48f466bf59feefed32bec6494495a4436', 'e006b1a48f466bf59feefed32bec6494495a4436', 'e006b1a48f466bf59feefed32bec6494495a4436', 'e006b1a48f466bf59feefed32bec6494495a4436', 'e006b1a48f466bf59feefed32bec6494495a4436', 'e006b1a48f466bf59feefed32bec6494495a4436', 'e006b1a48f466bf59feefed32bec6494495a4436', 'e006b1a48f466bf59feefed32bec6494495a4436', 'e006b1a48f466bf59feefed32bec6494495a4436', ... ]"
            ]
          },
          "metadata": {},
          "execution_count": 66
        }
      ]
    },
    {
      "cell_type": "code",
      "metadata": {
        "colab": {
          "base_uri": "https://localhost:8080/"
        },
        "id": "MhCRh-REgOHw",
        "outputId": "c506dd73-6824-4542-93e6-1a462744438f"
      },
      "source": [
        "user"
      ],
      "execution_count": null,
      "outputs": [
        {
          "output_type": "execute_result",
          "data": {
            "text/plain": [
              "dtype: str\n",
              "Rows: 66346\n",
              "['c66c10a9567f0d82ff31441a9fd5063e5cd9dfe8', '02f015d32ac2cd1e52d26e3ec36048711dd5711b', 'f933855d675606737fdc191e9edff7625d08aae8', '4867d5516a280db13695b9b9c7ce6b574f34c6b4', '279292bb36dbfc7f505e36ebf038c81eb1d1d63e', '968f1baebc490d3c6999ee6c85c5cab8b726b347', 'c067c22072a17d33310d7223d7b79f819e48cf42', '4454c4a192a467664286c8b58447709131ebdcf6', '2c494678b5582807c16390f13d076f785e20934e', '900ed526660df9c3442ebe736db94eb0bc251b73', '799816a69ec82a23a3a344971b485bc5417ec078', '5d1ddbcf13592d73dadf477d63150192853d2462', '9011eacdc36af44e94ade6279f72083851361717', '3c3ce43ec19f03b761cbf1560472259dd8e6273e', 'd47126849532947bd7539709a7137d9746ac5280', '27926be2f9f93310ecaa4776af106bed82779c92', 'abfa517fd05216bb3cd5be0eb0d3a6d2c8a6a9ee', 'bf0aa600675ebebaec558e0a007769564199e28f', 'f6c596a519698c97f1591ad89f540d76f6a04f1a', 'a34314df8787c38474847520beb1aff59611af28', 'f95cf2639491a235881359cfacfbe99dbe9784e1', '5469c2e5cb0ee63f615f3edea2052858ecee5fe3', '0a04a4a93700fd51e0b61c208d069441288902a6', 'cbd4a0abd843ac271604ec43e2c1d9e54f499ef9', '3e0a00a7113740a9da53c764f3929117e8a18047', '18078526a165fa4a81b3a0a882e544dec846891c', '696787172dd3f5169dc94deef97e427cee86147d', '8fd604f1be29bb92ce4bd0ba5c7b63d5f1495376', '3a7111f4cdf3c5a85fd4053e3cc2333562e1e0cb', '603f8e91b6144c9b8b4eca138c99302376dc9124', '93e9ce0f48be40773df5bbd51791399a58002d6d', 'c27baaf4da66de473a267747a9f012b73671a005', '31f6fd9d9936adb9f7d0f157fd960c0a676ccfd6', '9d009b13dcd24bea1118776267a58ba3ae5b32ff', 'b976d221efcd6f1e3fe584b975b81552b142b421', '146e1965d1d3907048e9b222aea09b021ed85b48', 'a5044fe28df35ba90fc49449cf1fdaff5243be43', 'c9e869673fb58ca30f01ef29b223db2f9ffbbab9', '7c17be2beb1943f10947d7a6bd47ba0354693d53', '5c604b6fc3d4077dfca40a57eea49388b69a19d6', '532e98155cbfd1e1a474a28ed96e59e50f7c5baf', 'ee43b175ed753b2e2bce806c903d4661ad351a91', '2b1287e7cdd062baeb72ef39b549eea3ace15bee', 'e7d45529c0fbfdae459c232e5aac3ecd6f3c058d', 'e372c27f6cb071518ae500589ae02c126954c148', '8a8eb87dc4de1a671451e4f6745739c77b97c202', '65d22e40eb8867148ef392fb121b835cc6173831', 'd7bbb57afcb969acbfe1289e0687b54a4f1d6bb4', '44390e2c54f1307b56fb0b1d4b4b89ee181942fe', '1b55335067b61f27f3724284ccb8a7a1f6a53c83', 'dc4a6ab83084f5f1c858793fa22f1200d5b6c267', '8d0854e6d4223772b1aeadd6a04811c5cda2ccad', '87e8797703f2f705763d9d28a07c266a8af28ac6', 'b4c75391d49ce797c1af18468f1aa3ae5943f9de', '3621baf59d58962f2d0e1c8923ac08e663caafae', '83b1428917b47a6b130ed471b09033820be78a8c', '1969c10e3841ccd955f1786dc8e64a60790b824f', 'b2dc258c4784e95ba9130e8c609573da7568a908', '0c3f9ea9fb5f25764db3091ee6422199385f4a15', '0ecb1f480ebb237dc7821c898c94219cdfe38789', '9b10c5b0569c679d9d7e258c37c0acb99cbbce02', '39487deef9345b1e22881245cabf4e7c53b6cf6e', 'bfd6cfaf4a0e517336cda1fe1a7bdd61231b8b7e', 'b36d02f372054fb885cbfe7e9c4f47408112e513', '88325c1fc54d4227b223a7ca7c68c2bdc39df54b', '18325842a941bc58449ee71d659a08d1c1bd2383', '8e0a6e777e23b5a165b52e50b2124e93dd9fb3a3', '5f98b842f9546755d5da7bc0ea1627e97ac07cea', '7ad06615d118067e1bf973aa86c672874e0eb78f', '0f7ba73c2939bbc3914c98d71b577c24369b4078', 'd9101b0cf86a9566a1fcaab6b8e9c792f46df0dd', '3c20642cad8a370809cac6ccf62148e7d5deb519', '9685135efd0757150edb8d49e192fbb301e70e94', '71c17371dff96abe86663a7dc83e4334f3e4a67f', 'd3ed03c249e90d0f2c578508169e4ababf9aa62f', '165315cd76410271392b99dc4a8810a6052841ef', '6ddd3bc5d91eec7fa7357bfef99cbc291733df75', 'ab0535d8909c4ef7c1ade3c19067d361faf767ce', '2e70dcc04f82bd858b953b7abbf8161aef5eeb40', '3f2a5636078d12dab36f61f92efc1fc62f72f815', '0cf98ccbc30deb219ff1865a5e0d121ecfabfc69', '878d66c89048528dd629cab65760188353624aff', '304476196c6e2c67cc4fa90a4bbf2c34f1a3487d', '9f78f038854c3ffb9e864ad281a7201d4dd999b2', '75864fe1e1674afe546612ecfd2217f062610a79', '0cd3ba0dbab3f4ca74ccf141ece12ac3efd2305f', '6698f2f408019c8f882bfc4859b7837ae152fe3e', 'b472a8e0407792249a28e8a24f0f82e6cc860822', '883f9cc576ca7c9308b5a56575e1484609c7f83f', '32c21cf95945621ab219218f985a83f30ef94009', 'c30e1f670638e025eeff06bcc8664c1784d05cd6', '1573aa5b56e21f344bee930348014240303598ef', 'b2b08a84654f90585e0dc3c5155d330fb8e4ba59', 'dbbf324c3afe1683c7d3bac2fc9179b5bf306e5a', '360b4499ebb6a98afbcfe95377ff8709eb95faac', '682bcdfc315860324467164e555207c966ef0c5c', '441ff37480cf19f36d1f3e77de2b3d21a7af310b', '4a74f5398a0277392fdb50072da96985a2f7ee49', 'd6a27334038094abda6e00a7a87c782500eda337', '908d133f745bcab047d97dd0ecd1da3f53ee53d4', ... ]"
            ]
          },
          "metadata": {},
          "execution_count": 47
        }
      ]
    },
    {
      "cell_type": "code",
      "metadata": {
        "colab": {
          "base_uri": "https://localhost:8080/"
        },
        "id": "X-IgDjgAgPfm",
        "outputId": "fa5e2657-397f-4b2d-899e-9bda55ead12c"
      },
      "source": [
        "song=songs['song'].unique()\n",
        "song"
      ],
      "execution_count": null,
      "outputs": [
        {
          "output_type": "execute_result",
          "data": {
            "text/plain": [
              "dtype: str\n",
              "Rows: 9952\n",
              "['Welcome Home (Sanitarium) - Metallica', 'Save Me (Album Version) - Shinedown', 'No Surprise - Daughtry', 'Wake Up Call - Maroon 5', 'Dogs Are Everywhere - Pulp', 'Your Star - The All-American Rejects', 'Swing - Zero 7', 'I Can\\x19t Wait - Nu Shooz', 'U.R.A Fever - The Kills', 'Frankie And Johnny - Sidney Bechet', 'The Christmas Song - Chris Isaak', 'Here And Now - Zoegirl', 'Hot N Cold (Manhattan Clique Remix Radio Edit) - Katy Perry', 'Dust in The Wind - Kansas', 'Bone Machine - Pixies', 'Hoodoo - Muse', 'Other Towns And Cities - Camera Obscura', 'I Use To Think I Was Run - Rev Run', 'Adrift - Jack Johnson', 'Cricketz [feat. Tyga] (Explicit Album Version) - New Boyz', \"You Can't Catch Me - The Rolling Stones\", 'Born With A Broken Heart (Album Version) - Kenny Wayne Shepherd Band', 'Erotic City ( LP Version) - Prince & The Revolution', 'I Wanna Be Your Lover (LP Version) - Prince', \"Should've Known Better - Sick Puppies\", 'Velvet Snow - Kings Of Leon', 'I Can Dance - Brian Poole & The Tremeloes', 'Sultans of El Sur - The Mercury Program', 'Lambada - Kaoma', 'The Climb - Miley Cyrus', 'How Can I Keep From Singing? - Enya', 'Q-Ball - Brotha Lynch Hung', 'Pleasant Valley Sunday - The Monkees', 'Your Love - The Outfield', 'We Belong Together - Mariah Carey', 'Breakbeat Suckers - Cirrus', 'Triumph - Wu-Tang Clan featuring CappaDonna', 'Radio_ Radio - Elvis Costello & The Attractions', 'By The Sword (featuring Andrew Stockdale or Wolfmother) - Slash', 'Tomorrow - Avril Lavigne', 'After The Love Has Gone - Damage', 'Stickshifts And Safetybelts - Cake', 'Release Me - Agnes', \"It's Time I Go (Jazz) - Joyce Cooling\", 'Pansy Twist - Huggy Bear', 'Outside (Original LP Version) - Staind', 'Mary (Album) - Zac Brown Band', 'You - Gold Panda', 'Vitamin - Incubus', 'Let Me Fall (From Cirque du Soleil) (Album Version) - Josh Groban', 'Red To Black (Album Version) - Fort Minor (Featuring Kenna_ Jonah Matranga And Styles Of Beyond)', 'Flux - Bloc Party', 'Wide Eyes - Local Natives', 'Fear - OneRepublic', 'Fire - Ohio Players', 'Spring nicht - Tokio Hotel', \"Stacy's Mom - Fountains Of Wayne\", 'A Comet Appears (Album) - The Shins', 'Si Yo Fuera Un Chico - Beyoncé', 'Breathe - Taylor Swift / Colbie Caillat', 'Beauties Can Die - M83', 'Genom tunna tyger - Markus Krunegård', 'Drunken Lullabies - Flogging Molly', '(I Just) Died In Your Arms - Cutting Crew', 'Welcome To The World - Kevin Rudolf / Rick Ross', 'Once Upon A December (LP Version) - Liz Callaway', 'From Where You Are - Lifehouse', \"Moth's Wings - Passion Pit\", 'Cold Gin - Kiss', 'Ecstasy (2003 Digital Remaster) - Vinnie Vincent Invasion', 'Figures - The Whitest Boy Alive', 'Lalibela - Caribou', 'Therapy - All Time Low', \"Hey Daddy (Daddy's Home) - Usher\", \"I'm On Fire - Bruce Springsteen\", 'Big Time Sensuality - Björk', 'Blue Mind - Alexi Murdoch', 'Lost - Katy Perry', 'Congratulations - Traveling Wilburys', 'All Outta Angst - NOFX', \"Jane Says ( Live )( LP Version ) - Jane's Addiction\", \"Superheroes / Human After All / Rock'n Roll - Daft Punk\", 'Californication (Album Version) - Red Hot Chili Peppers', 'When The Night Feels My Song - Bedouin Soundclash', 'I Got Nerve (Karaoke) - Aruna Abrams/Ken Hauptman/Jeannie Lurie', 'This Is Not A Test - She & Him', 'Foxtrot Uniform Charlie Kilo - Bloodhound Gang', 'You Sang To Me - Marc Anthony', 'Deja Vu - Yeah Yeah Yeahs', 'Guns And Horses - Ellie Goulding', \"Ironmasters - The Men They Couldn't Hang\", 'I Gotta Feeling - Black Eyed Peas', 'Take It Easy (love Nothing) (Album Version) - Bright Eyes', 'Rosemary - Scott Walker', 'Also Frightened - Animal Collective', 'Sura (2008 Digital Remaster) - CCCP - Fedeli Alla Linea', 'Canada - Five Iron Frenzy', \"Road Trippin' (Album Version) - Red Hot Chili Peppers\", 'Still Got The Blues [Live 2001] - Gary Moore', 'About A Girl (Album Version) - The Academy Is...', ... ]"
            ]
          },
          "metadata": {},
          "execution_count": 37
        }
      ]
    },
    {
      "cell_type": "markdown",
      "metadata": {
        "id": "Snoea_kchxS3"
      },
      "source": [
        "## Create song recommender"
      ]
    },
    {
      "cell_type": "code",
      "metadata": {
        "id": "RytOTGRphaQr"
      },
      "source": [
        "test_data,train_data=songs.random_split(.8,seed=0)"
      ],
      "execution_count": null,
      "outputs": []
    },
    {
      "cell_type": "markdown",
      "metadata": {
        "id": "KOxc9dA1iTy9"
      },
      "source": [
        "## Creating popularity model"
      ]
    },
    {
      "cell_type": "code",
      "metadata": {
        "colab": {
          "base_uri": "https://localhost:8080/",
          "height": 134
        },
        "id": "xdJAYY3CiRKR",
        "outputId": "a574b5e6-19bb-4bbf-b713-075501cb777b"
      },
      "source": [
        "polularity_model=tc.popularity_recommender.create(train_data,user_id='user_id',item_id='song')"
      ],
      "execution_count": null,
      "outputs": [
        {
          "output_type": "display_data",
          "data": {
            "text/html": [
              "<pre>Warning: Ignoring columns song_id, listen_count, title, artist;</pre>"
            ],
            "text/plain": [
              "Warning: Ignoring columns song_id, listen_count, title, artist;"
            ]
          },
          "metadata": {}
        },
        {
          "output_type": "display_data",
          "data": {
            "text/html": [
              "<pre> To use one of these as a rating column, specify the column name to be used as target</pre>"
            ],
            "text/plain": [
              " To use one of these as a rating column, specify the column name to be used as target"
            ]
          },
          "metadata": {}
        },
        {
          "output_type": "display_data",
          "data": {
            "text/html": [
              "<pre>    and use a method that allows the use of a target.</pre>"
            ],
            "text/plain": [
              "    and use a method that allows the use of a target."
            ]
          },
          "metadata": {}
        },
        {
          "output_type": "display_data",
          "data": {
            "text/html": [
              "<pre>Preparing data set.</pre>"
            ],
            "text/plain": [
              "Preparing data set."
            ]
          },
          "metadata": {}
        },
        {
          "output_type": "display_data",
          "data": {
            "text/html": [
              "<pre>    Data has 223029 observations with 58628 users and 9950 items.</pre>"
            ],
            "text/plain": [
              "    Data has 223029 observations with 58628 users and 9950 items."
            ]
          },
          "metadata": {}
        },
        {
          "output_type": "display_data",
          "data": {
            "text/html": [
              "<pre>    Data prepared in: 0.492063s</pre>"
            ],
            "text/plain": [
              "    Data prepared in: 0.492063s"
            ]
          },
          "metadata": {}
        },
        {
          "output_type": "display_data",
          "data": {
            "text/html": [
              "<pre>223029 observations to process; with 9950 unique items.</pre>"
            ],
            "text/plain": [
              "223029 observations to process; with 9950 unique items."
            ]
          },
          "metadata": {}
        }
      ]
    },
    {
      "cell_type": "markdown",
      "metadata": {
        "id": "LcbnizCxkaCB"
      },
      "source": [
        "## Simple popularity based recommended model"
      ]
    },
    {
      "cell_type": "code",
      "metadata": {
        "colab": {
          "base_uri": "https://localhost:8080/",
          "height": 409
        },
        "id": "CRkD83cUkZhL",
        "outputId": "950c0192-70c9-48af-c872-beb8e489b90d"
      },
      "source": [
        "polularity_model.recommend(users=[user[2]])"
      ],
      "execution_count": null,
      "outputs": [
        {
          "output_type": "execute_result",
          "data": {
            "text/html": [
              "<div style=\"max-height:1000px;max-width:1500px;overflow:auto;\"><table frame=\"box\" rules=\"cols\">\n",
              "    <tr>\n",
              "        <th style=\"padding-left: 1em; padding-right: 1em; text-align: center\">user_id</th>\n",
              "        <th style=\"padding-left: 1em; padding-right: 1em; text-align: center\">song</th>\n",
              "        <th style=\"padding-left: 1em; padding-right: 1em; text-align: center\">score</th>\n",
              "        <th style=\"padding-left: 1em; padding-right: 1em; text-align: center\">rank</th>\n",
              "    </tr>\n",
              "    <tr>\n",
              "        <td style=\"padding-left: 1em; padding-right: 1em; text-align: center; vertical-align: top\">f933855d675606737fdc191e9<br>edff7625d08aae8 ...</td>\n",
              "        <td style=\"padding-left: 1em; padding-right: 1em; text-align: center; vertical-align: top\">Sehr kosmisch - Harmonia</td>\n",
              "        <td style=\"padding-left: 1em; padding-right: 1em; text-align: center; vertical-align: top\">1216.0</td>\n",
              "        <td style=\"padding-left: 1em; padding-right: 1em; text-align: center; vertical-align: top\">1</td>\n",
              "    </tr>\n",
              "    <tr>\n",
              "        <td style=\"padding-left: 1em; padding-right: 1em; text-align: center; vertical-align: top\">f933855d675606737fdc191e9<br>edff7625d08aae8 ...</td>\n",
              "        <td style=\"padding-left: 1em; padding-right: 1em; text-align: center; vertical-align: top\">Undo - Björk</td>\n",
              "        <td style=\"padding-left: 1em; padding-right: 1em; text-align: center; vertical-align: top\">1054.0</td>\n",
              "        <td style=\"padding-left: 1em; padding-right: 1em; text-align: center; vertical-align: top\">2</td>\n",
              "    </tr>\n",
              "    <tr>\n",
              "        <td style=\"padding-left: 1em; padding-right: 1em; text-align: center; vertical-align: top\">f933855d675606737fdc191e9<br>edff7625d08aae8 ...</td>\n",
              "        <td style=\"padding-left: 1em; padding-right: 1em; text-align: center; vertical-align: top\">You&#x27;re The One - Dwight<br>Yoakam ...</td>\n",
              "        <td style=\"padding-left: 1em; padding-right: 1em; text-align: center; vertical-align: top\">1025.0</td>\n",
              "        <td style=\"padding-left: 1em; padding-right: 1em; text-align: center; vertical-align: top\">3</td>\n",
              "    </tr>\n",
              "    <tr>\n",
              "        <td style=\"padding-left: 1em; padding-right: 1em; text-align: center; vertical-align: top\">f933855d675606737fdc191e9<br>edff7625d08aae8 ...</td>\n",
              "        <td style=\"padding-left: 1em; padding-right: 1em; text-align: center; vertical-align: top\">Dog Days Are Over (Radio<br>Edit) - Florence + The ...</td>\n",
              "        <td style=\"padding-left: 1em; padding-right: 1em; text-align: center; vertical-align: top\">903.0</td>\n",
              "        <td style=\"padding-left: 1em; padding-right: 1em; text-align: center; vertical-align: top\">4</td>\n",
              "    </tr>\n",
              "    <tr>\n",
              "        <td style=\"padding-left: 1em; padding-right: 1em; text-align: center; vertical-align: top\">f933855d675606737fdc191e9<br>edff7625d08aae8 ...</td>\n",
              "        <td style=\"padding-left: 1em; padding-right: 1em; text-align: center; vertical-align: top\">Revelry - Kings Of Leon</td>\n",
              "        <td style=\"padding-left: 1em; padding-right: 1em; text-align: center; vertical-align: top\">812.0</td>\n",
              "        <td style=\"padding-left: 1em; padding-right: 1em; text-align: center; vertical-align: top\">5</td>\n",
              "    </tr>\n",
              "    <tr>\n",
              "        <td style=\"padding-left: 1em; padding-right: 1em; text-align: center; vertical-align: top\">f933855d675606737fdc191e9<br>edff7625d08aae8 ...</td>\n",
              "        <td style=\"padding-left: 1em; padding-right: 1em; text-align: center; vertical-align: top\">Horn Concerto No. 4 in E<br>flat K495: II. Romance ...</td>\n",
              "        <td style=\"padding-left: 1em; padding-right: 1em; text-align: center; vertical-align: top\">788.0</td>\n",
              "        <td style=\"padding-left: 1em; padding-right: 1em; text-align: center; vertical-align: top\">6</td>\n",
              "    </tr>\n",
              "    <tr>\n",
              "        <td style=\"padding-left: 1em; padding-right: 1em; text-align: center; vertical-align: top\">f933855d675606737fdc191e9<br>edff7625d08aae8 ...</td>\n",
              "        <td style=\"padding-left: 1em; padding-right: 1em; text-align: center; vertical-align: top\">Secrets - OneRepublic</td>\n",
              "        <td style=\"padding-left: 1em; padding-right: 1em; text-align: center; vertical-align: top\">768.0</td>\n",
              "        <td style=\"padding-left: 1em; padding-right: 1em; text-align: center; vertical-align: top\">7</td>\n",
              "    </tr>\n",
              "    <tr>\n",
              "        <td style=\"padding-left: 1em; padding-right: 1em; text-align: center; vertical-align: top\">f933855d675606737fdc191e9<br>edff7625d08aae8 ...</td>\n",
              "        <td style=\"padding-left: 1em; padding-right: 1em; text-align: center; vertical-align: top\">Tive Sim - Cartola</td>\n",
              "        <td style=\"padding-left: 1em; padding-right: 1em; text-align: center; vertical-align: top\">664.0</td>\n",
              "        <td style=\"padding-left: 1em; padding-right: 1em; text-align: center; vertical-align: top\">8</td>\n",
              "    </tr>\n",
              "    <tr>\n",
              "        <td style=\"padding-left: 1em; padding-right: 1em; text-align: center; vertical-align: top\">f933855d675606737fdc191e9<br>edff7625d08aae8 ...</td>\n",
              "        <td style=\"padding-left: 1em; padding-right: 1em; text-align: center; vertical-align: top\">Fireflies - Charttraxx<br>Karaoke ...</td>\n",
              "        <td style=\"padding-left: 1em; padding-right: 1em; text-align: center; vertical-align: top\">639.0</td>\n",
              "        <td style=\"padding-left: 1em; padding-right: 1em; text-align: center; vertical-align: top\">9</td>\n",
              "    </tr>\n",
              "    <tr>\n",
              "        <td style=\"padding-left: 1em; padding-right: 1em; text-align: center; vertical-align: top\">f933855d675606737fdc191e9<br>edff7625d08aae8 ...</td>\n",
              "        <td style=\"padding-left: 1em; padding-right: 1em; text-align: center; vertical-align: top\">Hey_ Soul Sister - Train</td>\n",
              "        <td style=\"padding-left: 1em; padding-right: 1em; text-align: center; vertical-align: top\">594.0</td>\n",
              "        <td style=\"padding-left: 1em; padding-right: 1em; text-align: center; vertical-align: top\">10</td>\n",
              "    </tr>\n",
              "</table>\n",
              "[10 rows x 4 columns]<br/>\n",
              "</div>"
            ],
            "text/plain": [
              "Columns:\n",
              "\tuser_id\tstr\n",
              "\tsong\tstr\n",
              "\tscore\tfloat\n",
              "\trank\tint\n",
              "\n",
              "Rows: 10\n",
              "\n",
              "Data:\n",
              "+-------------------------------+--------------------------------+--------+------+\n",
              "|            user_id            |              song              | score  | rank |\n",
              "+-------------------------------+--------------------------------+--------+------+\n",
              "| f933855d675606737fdc191e9e... |    Sehr kosmisch - Harmonia    | 1216.0 |  1   |\n",
              "| f933855d675606737fdc191e9e... |          Undo - Björk          | 1054.0 |  2   |\n",
              "| f933855d675606737fdc191e9e... | You're The One - Dwight Yoakam | 1025.0 |  3   |\n",
              "| f933855d675606737fdc191e9e... | Dog Days Are Over (Radio E...  | 903.0  |  4   |\n",
              "| f933855d675606737fdc191e9e... |    Revelry - Kings Of Leon     | 812.0  |  5   |\n",
              "| f933855d675606737fdc191e9e... | Horn Concerto No. 4 in E f...  | 788.0  |  6   |\n",
              "| f933855d675606737fdc191e9e... |     Secrets - OneRepublic      | 768.0  |  7   |\n",
              "| f933855d675606737fdc191e9e... |       Tive Sim - Cartola       | 664.0  |  8   |\n",
              "| f933855d675606737fdc191e9e... | Fireflies - Charttraxx Karaoke | 639.0  |  9   |\n",
              "| f933855d675606737fdc191e9e... |    Hey_ Soul Sister - Train    | 594.0  |  10  |\n",
              "+-------------------------------+--------------------------------+--------+------+\n",
              "[10 rows x 4 columns]"
            ]
          },
          "metadata": {},
          "execution_count": 54
        }
      ]
    },
    {
      "cell_type": "code",
      "metadata": {
        "colab": {
          "base_uri": "https://localhost:8080/",
          "height": 409
        },
        "id": "fugrXybGjmDP",
        "outputId": "91731fbc-7180-47df-eaa9-200d88c4af1b"
      },
      "source": [
        "polularity_model.recommend(users=[user[1]])"
      ],
      "execution_count": null,
      "outputs": [
        {
          "output_type": "execute_result",
          "data": {
            "text/html": [
              "<div style=\"max-height:1000px;max-width:1500px;overflow:auto;\"><table frame=\"box\" rules=\"cols\">\n",
              "    <tr>\n",
              "        <th style=\"padding-left: 1em; padding-right: 1em; text-align: center\">user_id</th>\n",
              "        <th style=\"padding-left: 1em; padding-right: 1em; text-align: center\">song</th>\n",
              "        <th style=\"padding-left: 1em; padding-right: 1em; text-align: center\">score</th>\n",
              "        <th style=\"padding-left: 1em; padding-right: 1em; text-align: center\">rank</th>\n",
              "    </tr>\n",
              "    <tr>\n",
              "        <td style=\"padding-left: 1em; padding-right: 1em; text-align: center; vertical-align: top\">02f015d32ac2cd1e52d26e3ec<br>36048711dd5711b ...</td>\n",
              "        <td style=\"padding-left: 1em; padding-right: 1em; text-align: center; vertical-align: top\">Sehr kosmisch - Harmonia</td>\n",
              "        <td style=\"padding-left: 1em; padding-right: 1em; text-align: center; vertical-align: top\">1216.0</td>\n",
              "        <td style=\"padding-left: 1em; padding-right: 1em; text-align: center; vertical-align: top\">1</td>\n",
              "    </tr>\n",
              "    <tr>\n",
              "        <td style=\"padding-left: 1em; padding-right: 1em; text-align: center; vertical-align: top\">02f015d32ac2cd1e52d26e3ec<br>36048711dd5711b ...</td>\n",
              "        <td style=\"padding-left: 1em; padding-right: 1em; text-align: center; vertical-align: top\">Undo - Björk</td>\n",
              "        <td style=\"padding-left: 1em; padding-right: 1em; text-align: center; vertical-align: top\">1054.0</td>\n",
              "        <td style=\"padding-left: 1em; padding-right: 1em; text-align: center; vertical-align: top\">2</td>\n",
              "    </tr>\n",
              "    <tr>\n",
              "        <td style=\"padding-left: 1em; padding-right: 1em; text-align: center; vertical-align: top\">02f015d32ac2cd1e52d26e3ec<br>36048711dd5711b ...</td>\n",
              "        <td style=\"padding-left: 1em; padding-right: 1em; text-align: center; vertical-align: top\">You&#x27;re The One - Dwight<br>Yoakam ...</td>\n",
              "        <td style=\"padding-left: 1em; padding-right: 1em; text-align: center; vertical-align: top\">1025.0</td>\n",
              "        <td style=\"padding-left: 1em; padding-right: 1em; text-align: center; vertical-align: top\">3</td>\n",
              "    </tr>\n",
              "    <tr>\n",
              "        <td style=\"padding-left: 1em; padding-right: 1em; text-align: center; vertical-align: top\">02f015d32ac2cd1e52d26e3ec<br>36048711dd5711b ...</td>\n",
              "        <td style=\"padding-left: 1em; padding-right: 1em; text-align: center; vertical-align: top\">Dog Days Are Over (Radio<br>Edit) - Florence + The ...</td>\n",
              "        <td style=\"padding-left: 1em; padding-right: 1em; text-align: center; vertical-align: top\">903.0</td>\n",
              "        <td style=\"padding-left: 1em; padding-right: 1em; text-align: center; vertical-align: top\">4</td>\n",
              "    </tr>\n",
              "    <tr>\n",
              "        <td style=\"padding-left: 1em; padding-right: 1em; text-align: center; vertical-align: top\">02f015d32ac2cd1e52d26e3ec<br>36048711dd5711b ...</td>\n",
              "        <td style=\"padding-left: 1em; padding-right: 1em; text-align: center; vertical-align: top\">Revelry - Kings Of Leon</td>\n",
              "        <td style=\"padding-left: 1em; padding-right: 1em; text-align: center; vertical-align: top\">812.0</td>\n",
              "        <td style=\"padding-left: 1em; padding-right: 1em; text-align: center; vertical-align: top\">5</td>\n",
              "    </tr>\n",
              "    <tr>\n",
              "        <td style=\"padding-left: 1em; padding-right: 1em; text-align: center; vertical-align: top\">02f015d32ac2cd1e52d26e3ec<br>36048711dd5711b ...</td>\n",
              "        <td style=\"padding-left: 1em; padding-right: 1em; text-align: center; vertical-align: top\">Horn Concerto No. 4 in E<br>flat K495: II. Romance ...</td>\n",
              "        <td style=\"padding-left: 1em; padding-right: 1em; text-align: center; vertical-align: top\">788.0</td>\n",
              "        <td style=\"padding-left: 1em; padding-right: 1em; text-align: center; vertical-align: top\">6</td>\n",
              "    </tr>\n",
              "    <tr>\n",
              "        <td style=\"padding-left: 1em; padding-right: 1em; text-align: center; vertical-align: top\">02f015d32ac2cd1e52d26e3ec<br>36048711dd5711b ...</td>\n",
              "        <td style=\"padding-left: 1em; padding-right: 1em; text-align: center; vertical-align: top\">Secrets - OneRepublic</td>\n",
              "        <td style=\"padding-left: 1em; padding-right: 1em; text-align: center; vertical-align: top\">768.0</td>\n",
              "        <td style=\"padding-left: 1em; padding-right: 1em; text-align: center; vertical-align: top\">7</td>\n",
              "    </tr>\n",
              "    <tr>\n",
              "        <td style=\"padding-left: 1em; padding-right: 1em; text-align: center; vertical-align: top\">02f015d32ac2cd1e52d26e3ec<br>36048711dd5711b ...</td>\n",
              "        <td style=\"padding-left: 1em; padding-right: 1em; text-align: center; vertical-align: top\">Tive Sim - Cartola</td>\n",
              "        <td style=\"padding-left: 1em; padding-right: 1em; text-align: center; vertical-align: top\">664.0</td>\n",
              "        <td style=\"padding-left: 1em; padding-right: 1em; text-align: center; vertical-align: top\">8</td>\n",
              "    </tr>\n",
              "    <tr>\n",
              "        <td style=\"padding-left: 1em; padding-right: 1em; text-align: center; vertical-align: top\">02f015d32ac2cd1e52d26e3ec<br>36048711dd5711b ...</td>\n",
              "        <td style=\"padding-left: 1em; padding-right: 1em; text-align: center; vertical-align: top\">Fireflies - Charttraxx<br>Karaoke ...</td>\n",
              "        <td style=\"padding-left: 1em; padding-right: 1em; text-align: center; vertical-align: top\">639.0</td>\n",
              "        <td style=\"padding-left: 1em; padding-right: 1em; text-align: center; vertical-align: top\">9</td>\n",
              "    </tr>\n",
              "    <tr>\n",
              "        <td style=\"padding-left: 1em; padding-right: 1em; text-align: center; vertical-align: top\">02f015d32ac2cd1e52d26e3ec<br>36048711dd5711b ...</td>\n",
              "        <td style=\"padding-left: 1em; padding-right: 1em; text-align: center; vertical-align: top\">Hey_ Soul Sister - Train</td>\n",
              "        <td style=\"padding-left: 1em; padding-right: 1em; text-align: center; vertical-align: top\">594.0</td>\n",
              "        <td style=\"padding-left: 1em; padding-right: 1em; text-align: center; vertical-align: top\">10</td>\n",
              "    </tr>\n",
              "</table>\n",
              "[10 rows x 4 columns]<br/>\n",
              "</div>"
            ],
            "text/plain": [
              "Columns:\n",
              "\tuser_id\tstr\n",
              "\tsong\tstr\n",
              "\tscore\tfloat\n",
              "\trank\tint\n",
              "\n",
              "Rows: 10\n",
              "\n",
              "Data:\n",
              "+-------------------------------+--------------------------------+--------+------+\n",
              "|            user_id            |              song              | score  | rank |\n",
              "+-------------------------------+--------------------------------+--------+------+\n",
              "| 02f015d32ac2cd1e52d26e3ec3... |    Sehr kosmisch - Harmonia    | 1216.0 |  1   |\n",
              "| 02f015d32ac2cd1e52d26e3ec3... |          Undo - Björk          | 1054.0 |  2   |\n",
              "| 02f015d32ac2cd1e52d26e3ec3... | You're The One - Dwight Yoakam | 1025.0 |  3   |\n",
              "| 02f015d32ac2cd1e52d26e3ec3... | Dog Days Are Over (Radio E...  | 903.0  |  4   |\n",
              "| 02f015d32ac2cd1e52d26e3ec3... |    Revelry - Kings Of Leon     | 812.0  |  5   |\n",
              "| 02f015d32ac2cd1e52d26e3ec3... | Horn Concerto No. 4 in E f...  | 788.0  |  6   |\n",
              "| 02f015d32ac2cd1e52d26e3ec3... |     Secrets - OneRepublic      | 768.0  |  7   |\n",
              "| 02f015d32ac2cd1e52d26e3ec3... |       Tive Sim - Cartola       | 664.0  |  8   |\n",
              "| 02f015d32ac2cd1e52d26e3ec3... | Fireflies - Charttraxx Karaoke | 639.0  |  9   |\n",
              "| 02f015d32ac2cd1e52d26e3ec3... |    Hey_ Soul Sister - Train    | 594.0  |  10  |\n",
              "+-------------------------------+--------------------------------+--------+------+\n",
              "[10 rows x 4 columns]"
            ]
          },
          "metadata": {},
          "execution_count": 52
        }
      ]
    },
    {
      "cell_type": "markdown",
      "metadata": {
        "id": "09cRxbDxyect"
      },
      "source": [
        "## Song recomender with personalization"
      ]
    },
    {
      "cell_type": "code",
      "metadata": {
        "colab": {
          "base_uri": "https://localhost:8080/",
          "height": 435
        },
        "id": "1gNCmYVAlmNz",
        "outputId": "fb52f0a0-c764-464d-eea6-f58da7a2cbcc"
      },
      "source": [
        "personalized_model=tc.item_similarity_recommender.create(train_data,user_id='user_id',item_id='song')"
      ],
      "execution_count": null,
      "outputs": [
        {
          "output_type": "display_data",
          "data": {
            "text/html": [
              "<pre>Warning: Ignoring columns song_id, listen_count, title, artist;</pre>"
            ],
            "text/plain": [
              "Warning: Ignoring columns song_id, listen_count, title, artist;"
            ]
          },
          "metadata": {}
        },
        {
          "output_type": "display_data",
          "data": {
            "text/html": [
              "<pre> To use one of these as a rating column, specify the column name to be used as target</pre>"
            ],
            "text/plain": [
              " To use one of these as a rating column, specify the column name to be used as target"
            ]
          },
          "metadata": {}
        },
        {
          "output_type": "display_data",
          "data": {
            "text/html": [
              "<pre>    and use a method that allows the use of a target.</pre>"
            ],
            "text/plain": [
              "    and use a method that allows the use of a target."
            ]
          },
          "metadata": {}
        },
        {
          "output_type": "display_data",
          "data": {
            "text/html": [
              "<pre>Preparing data set.</pre>"
            ],
            "text/plain": [
              "Preparing data set."
            ]
          },
          "metadata": {}
        },
        {
          "output_type": "display_data",
          "data": {
            "text/html": [
              "<pre>    Data has 223029 observations with 58628 users and 9950 items.</pre>"
            ],
            "text/plain": [
              "    Data has 223029 observations with 58628 users and 9950 items."
            ]
          },
          "metadata": {}
        },
        {
          "output_type": "display_data",
          "data": {
            "text/html": [
              "<pre>    Data prepared in: 0.474808s</pre>"
            ],
            "text/plain": [
              "    Data prepared in: 0.474808s"
            ]
          },
          "metadata": {}
        },
        {
          "output_type": "display_data",
          "data": {
            "text/html": [
              "<pre>Training model from provided data.</pre>"
            ],
            "text/plain": [
              "Training model from provided data."
            ]
          },
          "metadata": {}
        },
        {
          "output_type": "display_data",
          "data": {
            "text/html": [
              "<pre>Gathering per-item and per-user statistics.</pre>"
            ],
            "text/plain": [
              "Gathering per-item and per-user statistics."
            ]
          },
          "metadata": {}
        },
        {
          "output_type": "display_data",
          "data": {
            "text/html": [
              "<pre>+--------------------------------+------------+</pre>"
            ],
            "text/plain": [
              "+--------------------------------+------------+"
            ]
          },
          "metadata": {}
        },
        {
          "output_type": "display_data",
          "data": {
            "text/html": [
              "<pre>| Elapsed Time (Item Statistics) | % Complete |</pre>"
            ],
            "text/plain": [
              "| Elapsed Time (Item Statistics) | % Complete |"
            ]
          },
          "metadata": {}
        },
        {
          "output_type": "display_data",
          "data": {
            "text/html": [
              "<pre>+--------------------------------+------------+</pre>"
            ],
            "text/plain": [
              "+--------------------------------+------------+"
            ]
          },
          "metadata": {}
        },
        {
          "output_type": "display_data",
          "data": {
            "text/html": [
              "<pre>| 1.83ms                         | 1.5        |</pre>"
            ],
            "text/plain": [
              "| 1.83ms                         | 1.5        |"
            ]
          },
          "metadata": {}
        },
        {
          "output_type": "display_data",
          "data": {
            "text/html": [
              "<pre>| 26.677ms                       | 100        |</pre>"
            ],
            "text/plain": [
              "| 26.677ms                       | 100        |"
            ]
          },
          "metadata": {}
        },
        {
          "output_type": "display_data",
          "data": {
            "text/html": [
              "<pre>+--------------------------------+------------+</pre>"
            ],
            "text/plain": [
              "+--------------------------------+------------+"
            ]
          },
          "metadata": {}
        },
        {
          "output_type": "display_data",
          "data": {
            "text/html": [
              "<pre>Setting up lookup tables.</pre>"
            ],
            "text/plain": [
              "Setting up lookup tables."
            ]
          },
          "metadata": {}
        },
        {
          "output_type": "display_data",
          "data": {
            "text/html": [
              "<pre>Processing data in one pass using dense lookup tables.</pre>"
            ],
            "text/plain": [
              "Processing data in one pass using dense lookup tables."
            ]
          },
          "metadata": {}
        },
        {
          "output_type": "display_data",
          "data": {
            "text/html": [
              "<pre>+-------------------------------------+------------------+-----------------+</pre>"
            ],
            "text/plain": [
              "+-------------------------------------+------------------+-----------------+"
            ]
          },
          "metadata": {}
        },
        {
          "output_type": "display_data",
          "data": {
            "text/html": [
              "<pre>| Elapsed Time (Constructing Lookups) | Total % Complete | Items Processed |</pre>"
            ],
            "text/plain": [
              "| Elapsed Time (Constructing Lookups) | Total % Complete | Items Processed |"
            ]
          },
          "metadata": {}
        },
        {
          "output_type": "display_data",
          "data": {
            "text/html": [
              "<pre>+-------------------------------------+------------------+-----------------+</pre>"
            ],
            "text/plain": [
              "+-------------------------------------+------------------+-----------------+"
            ]
          },
          "metadata": {}
        },
        {
          "output_type": "display_data",
          "data": {
            "text/html": [
              "<pre>| 134.384ms                           | 0                | 0               |</pre>"
            ],
            "text/plain": [
              "| 134.384ms                           | 0                | 0               |"
            ]
          },
          "metadata": {}
        },
        {
          "output_type": "display_data",
          "data": {
            "text/html": [
              "<pre>| 1.27s                               | 100              | 9950            |</pre>"
            ],
            "text/plain": [
              "| 1.27s                               | 100              | 9950            |"
            ]
          },
          "metadata": {}
        },
        {
          "output_type": "display_data",
          "data": {
            "text/html": [
              "<pre>+-------------------------------------+------------------+-----------------+</pre>"
            ],
            "text/plain": [
              "+-------------------------------------+------------------+-----------------+"
            ]
          },
          "metadata": {}
        },
        {
          "output_type": "display_data",
          "data": {
            "text/html": [
              "<pre>Finalizing lookup tables.</pre>"
            ],
            "text/plain": [
              "Finalizing lookup tables."
            ]
          },
          "metadata": {}
        },
        {
          "output_type": "display_data",
          "data": {
            "text/html": [
              "<pre>Generating candidate set for working with new users.</pre>"
            ],
            "text/plain": [
              "Generating candidate set for working with new users."
            ]
          },
          "metadata": {}
        },
        {
          "output_type": "display_data",
          "data": {
            "text/html": [
              "<pre>Finished training in 1.31942s</pre>"
            ],
            "text/plain": [
              "Finished training in 1.31942s"
            ]
          },
          "metadata": {}
        }
      ]
    },
    {
      "cell_type": "markdown",
      "metadata": {
        "id": "6doi0sR0zFAH"
      },
      "source": [
        "## Applying personalized method to make song recomendation"
      ]
    },
    {
      "cell_type": "code",
      "metadata": {
        "colab": {
          "base_uri": "https://localhost:8080/",
          "height": 409
        },
        "id": "fb0lGYXky2qS",
        "outputId": "3a2b8d20-b26e-4822-db53-3d97b72bd80e"
      },
      "source": [
        "personalized_model.recommend(users=[user[1]])"
      ],
      "execution_count": null,
      "outputs": [
        {
          "output_type": "execute_result",
          "data": {
            "text/html": [
              "<div style=\"max-height:1000px;max-width:1500px;overflow:auto;\"><table frame=\"box\" rules=\"cols\">\n",
              "    <tr>\n",
              "        <th style=\"padding-left: 1em; padding-right: 1em; text-align: center\">user_id</th>\n",
              "        <th style=\"padding-left: 1em; padding-right: 1em; text-align: center\">song</th>\n",
              "        <th style=\"padding-left: 1em; padding-right: 1em; text-align: center\">score</th>\n",
              "        <th style=\"padding-left: 1em; padding-right: 1em; text-align: center\">rank</th>\n",
              "    </tr>\n",
              "    <tr>\n",
              "        <td style=\"padding-left: 1em; padding-right: 1em; text-align: center; vertical-align: top\">02f015d32ac2cd1e52d26e3ec<br>36048711dd5711b ...</td>\n",
              "        <td style=\"padding-left: 1em; padding-right: 1em; text-align: center; vertical-align: top\">Highway 20 Ride (Album) -<br>Zac Brown Band ...</td>\n",
              "        <td style=\"padding-left: 1em; padding-right: 1em; text-align: center; vertical-align: top\">0.030969202518463135</td>\n",
              "        <td style=\"padding-left: 1em; padding-right: 1em; text-align: center; vertical-align: top\">1</td>\n",
              "    </tr>\n",
              "    <tr>\n",
              "        <td style=\"padding-left: 1em; padding-right: 1em; text-align: center; vertical-align: top\">02f015d32ac2cd1e52d26e3ec<br>36048711dd5711b ...</td>\n",
              "        <td style=\"padding-left: 1em; padding-right: 1em; text-align: center; vertical-align: top\">Jolene (Album) - Zac<br>Brown Band ...</td>\n",
              "        <td style=\"padding-left: 1em; padding-right: 1em; text-align: center; vertical-align: top\">0.025862067937850952</td>\n",
              "        <td style=\"padding-left: 1em; padding-right: 1em; text-align: center; vertical-align: top\">2</td>\n",
              "    </tr>\n",
              "    <tr>\n",
              "        <td style=\"padding-left: 1em; padding-right: 1em; text-align: center; vertical-align: top\">02f015d32ac2cd1e52d26e3ec<br>36048711dd5711b ...</td>\n",
              "        <td style=\"padding-left: 1em; padding-right: 1em; text-align: center; vertical-align: top\">What I Want - Daughtry<br>featuring Slash ...</td>\n",
              "        <td style=\"padding-left: 1em; padding-right: 1em; text-align: center; vertical-align: top\">0.025649338960647583</td>\n",
              "        <td style=\"padding-left: 1em; padding-right: 1em; text-align: center; vertical-align: top\">3</td>\n",
              "    </tr>\n",
              "    <tr>\n",
              "        <td style=\"padding-left: 1em; padding-right: 1em; text-align: center; vertical-align: top\">02f015d32ac2cd1e52d26e3ec<br>36048711dd5711b ...</td>\n",
              "        <td style=\"padding-left: 1em; padding-right: 1em; text-align: center; vertical-align: top\">It&#x27;s Not Ok (Album) - Zac<br>Brown Band ...</td>\n",
              "        <td style=\"padding-left: 1em; padding-right: 1em; text-align: center; vertical-align: top\">0.025000005960464478</td>\n",
              "        <td style=\"padding-left: 1em; padding-right: 1em; text-align: center; vertical-align: top\">4</td>\n",
              "    </tr>\n",
              "    <tr>\n",
              "        <td style=\"padding-left: 1em; padding-right: 1em; text-align: center; vertical-align: top\">02f015d32ac2cd1e52d26e3ec<br>36048711dd5711b ...</td>\n",
              "        <td style=\"padding-left: 1em; padding-right: 1em; text-align: center; vertical-align: top\">Breakin&#x27; At The Cracks -<br>Colbie Caillat ...</td>\n",
              "        <td style=\"padding-left: 1em; padding-right: 1em; text-align: center; vertical-align: top\">0.025000005960464478</td>\n",
              "        <td style=\"padding-left: 1em; padding-right: 1em; text-align: center; vertical-align: top\">5</td>\n",
              "    </tr>\n",
              "    <tr>\n",
              "        <td style=\"padding-left: 1em; padding-right: 1em; text-align: center; vertical-align: top\">02f015d32ac2cd1e52d26e3ec<br>36048711dd5711b ...</td>\n",
              "        <td style=\"padding-left: 1em; padding-right: 1em; text-align: center; vertical-align: top\">Sic &#x27;Em On A Chicken<br>(Album) - Zac Brown Band ...</td>\n",
              "        <td style=\"padding-left: 1em; padding-right: 1em; text-align: center; vertical-align: top\">0.02439025044441223</td>\n",
              "        <td style=\"padding-left: 1em; padding-right: 1em; text-align: center; vertical-align: top\">6</td>\n",
              "    </tr>\n",
              "    <tr>\n",
              "        <td style=\"padding-left: 1em; padding-right: 1em; text-align: center; vertical-align: top\">02f015d32ac2cd1e52d26e3ec<br>36048711dd5711b ...</td>\n",
              "        <td style=\"padding-left: 1em; padding-right: 1em; text-align: center; vertical-align: top\">Guys Like Me - Eric<br>Church ...</td>\n",
              "        <td style=\"padding-left: 1em; padding-right: 1em; text-align: center; vertical-align: top\">0.02173912525177002</td>\n",
              "        <td style=\"padding-left: 1em; padding-right: 1em; text-align: center; vertical-align: top\">7</td>\n",
              "    </tr>\n",
              "    <tr>\n",
              "        <td style=\"padding-left: 1em; padding-right: 1em; text-align: center; vertical-align: top\">02f015d32ac2cd1e52d26e3ec<br>36048711dd5711b ...</td>\n",
              "        <td style=\"padding-left: 1em; padding-right: 1em; text-align: center; vertical-align: top\">Good Directions - Billy<br>Currington ...</td>\n",
              "        <td style=\"padding-left: 1em; padding-right: 1em; text-align: center; vertical-align: top\">0.02127659320831299</td>\n",
              "        <td style=\"padding-left: 1em; padding-right: 1em; text-align: center; vertical-align: top\">8</td>\n",
              "    </tr>\n",
              "    <tr>\n",
              "        <td style=\"padding-left: 1em; padding-right: 1em; text-align: center; vertical-align: top\">02f015d32ac2cd1e52d26e3ec<br>36048711dd5711b ...</td>\n",
              "        <td style=\"padding-left: 1em; padding-right: 1em; text-align: center; vertical-align: top\">Walk A Little Straighter<br>- Billy Currington ...</td>\n",
              "        <td style=\"padding-left: 1em; padding-right: 1em; text-align: center; vertical-align: top\">0.020833343267440796</td>\n",
              "        <td style=\"padding-left: 1em; padding-right: 1em; text-align: center; vertical-align: top\">9</td>\n",
              "    </tr>\n",
              "    <tr>\n",
              "        <td style=\"padding-left: 1em; padding-right: 1em; text-align: center; vertical-align: top\">02f015d32ac2cd1e52d26e3ec<br>36048711dd5711b ...</td>\n",
              "        <td style=\"padding-left: 1em; padding-right: 1em; text-align: center; vertical-align: top\">Long Black Train - Josh<br>Turner ...</td>\n",
              "        <td style=\"padding-left: 1em; padding-right: 1em; text-align: center; vertical-align: top\">0.02079758048057556</td>\n",
              "        <td style=\"padding-left: 1em; padding-right: 1em; text-align: center; vertical-align: top\">10</td>\n",
              "    </tr>\n",
              "</table>\n",
              "[10 rows x 4 columns]<br/>\n",
              "</div>"
            ],
            "text/plain": [
              "Columns:\n",
              "\tuser_id\tstr\n",
              "\tsong\tstr\n",
              "\tscore\tfloat\n",
              "\trank\tint\n",
              "\n",
              "Rows: 10\n",
              "\n",
              "Data:\n",
              "+-------------------------------+--------------------------------+\n",
              "|            user_id            |              song              |\n",
              "+-------------------------------+--------------------------------+\n",
              "| 02f015d32ac2cd1e52d26e3ec3... | Highway 20 Ride (Album) - ...  |\n",
              "| 02f015d32ac2cd1e52d26e3ec3... | Jolene (Album) - Zac Brown...  |\n",
              "| 02f015d32ac2cd1e52d26e3ec3... | What I Want - Daughtry fea...  |\n",
              "| 02f015d32ac2cd1e52d26e3ec3... | It's Not Ok (Album) - Zac ...  |\n",
              "| 02f015d32ac2cd1e52d26e3ec3... | Breakin' At The Cracks - C...  |\n",
              "| 02f015d32ac2cd1e52d26e3ec3... | Sic 'Em On A Chicken (Albu...  |\n",
              "| 02f015d32ac2cd1e52d26e3ec3... |   Guys Like Me - Eric Church   |\n",
              "| 02f015d32ac2cd1e52d26e3ec3... | Good Directions - Billy Cu...  |\n",
              "| 02f015d32ac2cd1e52d26e3ec3... | Walk A Little Straighter -...  |\n",
              "| 02f015d32ac2cd1e52d26e3ec3... | Long Black Train - Josh Turner |\n",
              "+-------------------------------+--------------------------------+\n",
              "+----------------------+------+\n",
              "|        score         | rank |\n",
              "+----------------------+------+\n",
              "| 0.030969202518463135 |  1   |\n",
              "| 0.025862067937850952 |  2   |\n",
              "| 0.025649338960647583 |  3   |\n",
              "| 0.025000005960464478 |  4   |\n",
              "| 0.025000005960464478 |  5   |\n",
              "| 0.02439025044441223  |  6   |\n",
              "| 0.02173912525177002  |  7   |\n",
              "| 0.02127659320831299  |  8   |\n",
              "| 0.020833343267440796 |  9   |\n",
              "| 0.02079758048057556  |  10  |\n",
              "+----------------------+------+\n",
              "[10 rows x 4 columns]"
            ]
          },
          "metadata": {},
          "execution_count": 84
        }
      ]
    },
    {
      "cell_type": "code",
      "metadata": {
        "colab": {
          "base_uri": "https://localhost:8080/",
          "height": 409
        },
        "id": "midwkqn9zA3M",
        "outputId": "20830c31-0ee1-43b3-ec08-944bb3ae3ab9"
      },
      "source": [
        "personalized_model.recommend(users=[user[3]])"
      ],
      "execution_count": null,
      "outputs": [
        {
          "output_type": "execute_result",
          "data": {
            "text/html": [
              "<div style=\"max-height:1000px;max-width:1500px;overflow:auto;\"><table frame=\"box\" rules=\"cols\">\n",
              "    <tr>\n",
              "        <th style=\"padding-left: 1em; padding-right: 1em; text-align: center\">user_id</th>\n",
              "        <th style=\"padding-left: 1em; padding-right: 1em; text-align: center\">song</th>\n",
              "        <th style=\"padding-left: 1em; padding-right: 1em; text-align: center\">score</th>\n",
              "        <th style=\"padding-left: 1em; padding-right: 1em; text-align: center\">rank</th>\n",
              "    </tr>\n",
              "    <tr>\n",
              "        <td style=\"padding-left: 1em; padding-right: 1em; text-align: center; vertical-align: top\">4867d5516a280db13695b9b9c<br>7ce6b574f34c6b4 ...</td>\n",
              "        <td style=\"padding-left: 1em; padding-right: 1em; text-align: center; vertical-align: top\">The Birds - Telefon Tel<br>Aviv ...</td>\n",
              "        <td style=\"padding-left: 1em; padding-right: 1em; text-align: center; vertical-align: top\">0.018181812763214112</td>\n",
              "        <td style=\"padding-left: 1em; padding-right: 1em; text-align: center; vertical-align: top\">1</td>\n",
              "    </tr>\n",
              "    <tr>\n",
              "        <td style=\"padding-left: 1em; padding-right: 1em; text-align: center; vertical-align: top\">4867d5516a280db13695b9b9c<br>7ce6b574f34c6b4 ...</td>\n",
              "        <td style=\"padding-left: 1em; padding-right: 1em; text-align: center; vertical-align: top\">A Song About Hope -<br>Ulrich Schnauss ...</td>\n",
              "        <td style=\"padding-left: 1em; padding-right: 1em; text-align: center; vertical-align: top\">0.016666662693023682</td>\n",
              "        <td style=\"padding-left: 1em; padding-right: 1em; text-align: center; vertical-align: top\">2</td>\n",
              "    </tr>\n",
              "    <tr>\n",
              "        <td style=\"padding-left: 1em; padding-right: 1em; text-align: center; vertical-align: top\">4867d5516a280db13695b9b9c<br>7ce6b574f34c6b4 ...</td>\n",
              "        <td style=\"padding-left: 1em; padding-right: 1em; text-align: center; vertical-align: top\">For Good - Ulrich<br>Schnauss ...</td>\n",
              "        <td style=\"padding-left: 1em; padding-right: 1em; text-align: center; vertical-align: top\">0.01538461446762085</td>\n",
              "        <td style=\"padding-left: 1em; padding-right: 1em; text-align: center; vertical-align: top\">3</td>\n",
              "    </tr>\n",
              "    <tr>\n",
              "        <td style=\"padding-left: 1em; padding-right: 1em; text-align: center; vertical-align: top\">4867d5516a280db13695b9b9c<br>7ce6b574f34c6b4 ...</td>\n",
              "        <td style=\"padding-left: 1em; padding-right: 1em; text-align: center; vertical-align: top\">Spirit Fingers - Four Tet</td>\n",
              "        <td style=\"padding-left: 1em; padding-right: 1em; text-align: center; vertical-align: top\">0.01538461446762085</td>\n",
              "        <td style=\"padding-left: 1em; padding-right: 1em; text-align: center; vertical-align: top\">4</td>\n",
              "    </tr>\n",
              "    <tr>\n",
              "        <td style=\"padding-left: 1em; padding-right: 1em; text-align: center; vertical-align: top\">4867d5516a280db13695b9b9c<br>7ce6b574f34c6b4 ...</td>\n",
              "        <td style=\"padding-left: 1em; padding-right: 1em; text-align: center; vertical-align: top\">Never Content - Air<br>France ...</td>\n",
              "        <td style=\"padding-left: 1em; padding-right: 1em; text-align: center; vertical-align: top\">0.0125</td>\n",
              "        <td style=\"padding-left: 1em; padding-right: 1em; text-align: center; vertical-align: top\">5</td>\n",
              "    </tr>\n",
              "    <tr>\n",
              "        <td style=\"padding-left: 1em; padding-right: 1em; text-align: center; vertical-align: top\">4867d5516a280db13695b9b9c<br>7ce6b574f34c6b4 ...</td>\n",
              "        <td style=\"padding-left: 1em; padding-right: 1em; text-align: center; vertical-align: top\">Clocks - Coldplay</td>\n",
              "        <td style=\"padding-left: 1em; padding-right: 1em; text-align: center; vertical-align: top\">0.010862481594085694</td>\n",
              "        <td style=\"padding-left: 1em; padding-right: 1em; text-align: center; vertical-align: top\">6</td>\n",
              "    </tr>\n",
              "    <tr>\n",
              "        <td style=\"padding-left: 1em; padding-right: 1em; text-align: center; vertical-align: top\">4867d5516a280db13695b9b9c<br>7ce6b574f34c6b4 ...</td>\n",
              "        <td style=\"padding-left: 1em; padding-right: 1em; text-align: center; vertical-align: top\">Whatever It Takes -<br>Lifehouse ...</td>\n",
              "        <td style=\"padding-left: 1em; padding-right: 1em; text-align: center; vertical-align: top\">0.010526311397552491</td>\n",
              "        <td style=\"padding-left: 1em; padding-right: 1em; text-align: center; vertical-align: top\">7</td>\n",
              "    </tr>\n",
              "    <tr>\n",
              "        <td style=\"padding-left: 1em; padding-right: 1em; text-align: center; vertical-align: top\">4867d5516a280db13695b9b9c<br>7ce6b574f34c6b4 ...</td>\n",
              "        <td style=\"padding-left: 1em; padding-right: 1em; text-align: center; vertical-align: top\">Life In Technicolor ii -<br>Coldplay ...</td>\n",
              "        <td style=\"padding-left: 1em; padding-right: 1em; text-align: center; vertical-align: top\">0.00997176170349121</td>\n",
              "        <td style=\"padding-left: 1em; padding-right: 1em; text-align: center; vertical-align: top\">8</td>\n",
              "    </tr>\n",
              "    <tr>\n",
              "        <td style=\"padding-left: 1em; padding-right: 1em; text-align: center; vertical-align: top\">4867d5516a280db13695b9b9c<br>7ce6b574f34c6b4 ...</td>\n",
              "        <td style=\"padding-left: 1em; padding-right: 1em; text-align: center; vertical-align: top\">Only - Nine Inch Nails</td>\n",
              "        <td style=\"padding-left: 1em; padding-right: 1em; text-align: center; vertical-align: top\">0.009302330017089844</td>\n",
              "        <td style=\"padding-left: 1em; padding-right: 1em; text-align: center; vertical-align: top\">9</td>\n",
              "    </tr>\n",
              "    <tr>\n",
              "        <td style=\"padding-left: 1em; padding-right: 1em; text-align: center; vertical-align: top\">4867d5516a280db13695b9b9c<br>7ce6b574f34c6b4 ...</td>\n",
              "        <td style=\"padding-left: 1em; padding-right: 1em; text-align: center; vertical-align: top\">Yellow - Coldplay</td>\n",
              "        <td style=\"padding-left: 1em; padding-right: 1em; text-align: center; vertical-align: top\">0.009217154979705811</td>\n",
              "        <td style=\"padding-left: 1em; padding-right: 1em; text-align: center; vertical-align: top\">10</td>\n",
              "    </tr>\n",
              "</table>\n",
              "[10 rows x 4 columns]<br/>\n",
              "</div>"
            ],
            "text/plain": [
              "Columns:\n",
              "\tuser_id\tstr\n",
              "\tsong\tstr\n",
              "\tscore\tfloat\n",
              "\trank\tint\n",
              "\n",
              "Rows: 10\n",
              "\n",
              "Data:\n",
              "+-------------------------------+-------------------------------+\n",
              "|            user_id            |              song             |\n",
              "+-------------------------------+-------------------------------+\n",
              "| 4867d5516a280db13695b9b9c7... |  The Birds - Telefon Tel Aviv |\n",
              "| 4867d5516a280db13695b9b9c7... | A Song About Hope - Ulrich... |\n",
              "| 4867d5516a280db13695b9b9c7... |   For Good - Ulrich Schnauss  |\n",
              "| 4867d5516a280db13695b9b9c7... |   Spirit Fingers - Four Tet   |\n",
              "| 4867d5516a280db13695b9b9c7... |   Never Content - Air France  |\n",
              "| 4867d5516a280db13695b9b9c7... |       Clocks - Coldplay       |\n",
              "| 4867d5516a280db13695b9b9c7... | Whatever It Takes - Lifehouse |\n",
              "| 4867d5516a280db13695b9b9c7... | Life In Technicolor ii - C... |\n",
              "| 4867d5516a280db13695b9b9c7... |     Only - Nine Inch Nails    |\n",
              "| 4867d5516a280db13695b9b9c7... |       Yellow - Coldplay       |\n",
              "+-------------------------------+-------------------------------+\n",
              "+----------------------+------+\n",
              "|        score         | rank |\n",
              "+----------------------+------+\n",
              "| 0.018181812763214112 |  1   |\n",
              "| 0.016666662693023682 |  2   |\n",
              "| 0.01538461446762085  |  3   |\n",
              "| 0.01538461446762085  |  4   |\n",
              "|        0.0125        |  5   |\n",
              "| 0.010862481594085694 |  6   |\n",
              "| 0.010526311397552491 |  7   |\n",
              "| 0.00997176170349121  |  8   |\n",
              "| 0.009302330017089844 |  9   |\n",
              "| 0.009217154979705811 |  10  |\n",
              "+----------------------+------+\n",
              "[10 rows x 4 columns]"
            ]
          },
          "metadata": {},
          "execution_count": 85
        }
      ]
    },
    {
      "cell_type": "code",
      "metadata": {
        "colab": {
          "base_uri": "https://localhost:8080/",
          "height": 409
        },
        "id": "3giA0z58zt25",
        "outputId": "50e23b39-ff09-4290-ffc9-f46dd44eb7a8"
      },
      "source": [
        "personalized_model.get_similar_items(['Save Me (Album Version) - Shinedown'])"
      ],
      "execution_count": null,
      "outputs": [
        {
          "output_type": "execute_result",
          "data": {
            "text/html": [
              "<div style=\"max-height:1000px;max-width:1500px;overflow:auto;\"><table frame=\"box\" rules=\"cols\">\n",
              "    <tr>\n",
              "        <th style=\"padding-left: 1em; padding-right: 1em; text-align: center\">song</th>\n",
              "        <th style=\"padding-left: 1em; padding-right: 1em; text-align: center\">similar</th>\n",
              "        <th style=\"padding-left: 1em; padding-right: 1em; text-align: center\">score</th>\n",
              "        <th style=\"padding-left: 1em; padding-right: 1em; text-align: center\">rank</th>\n",
              "    </tr>\n",
              "    <tr>\n",
              "        <td style=\"padding-left: 1em; padding-right: 1em; text-align: center; vertical-align: top\">Save Me (Album Version) -<br>Shinedown ...</td>\n",
              "        <td style=\"padding-left: 1em; padding-right: 1em; text-align: center; vertical-align: top\">Stand Here With Me -<br>Creed ...</td>\n",
              "        <td style=\"padding-left: 1em; padding-right: 1em; text-align: center; vertical-align: top\">0.07692307233810425</td>\n",
              "        <td style=\"padding-left: 1em; padding-right: 1em; text-align: center; vertical-align: top\">1</td>\n",
              "    </tr>\n",
              "    <tr>\n",
              "        <td style=\"padding-left: 1em; padding-right: 1em; text-align: center; vertical-align: top\">Save Me (Album Version) -<br>Shinedown ...</td>\n",
              "        <td style=\"padding-left: 1em; padding-right: 1em; text-align: center; vertical-align: top\">Pages - 3 Doors Down</td>\n",
              "        <td style=\"padding-left: 1em; padding-right: 1em; text-align: center; vertical-align: top\">0.07142859697341919</td>\n",
              "        <td style=\"padding-left: 1em; padding-right: 1em; text-align: center; vertical-align: top\">2</td>\n",
              "    </tr>\n",
              "    <tr>\n",
              "        <td style=\"padding-left: 1em; padding-right: 1em; text-align: center; vertical-align: top\">Save Me (Album Version) -<br>Shinedown ...</td>\n",
              "        <td style=\"padding-left: 1em; padding-right: 1em; text-align: center; vertical-align: top\">Your Time Has Come -<br>Audioslave ...</td>\n",
              "        <td style=\"padding-left: 1em; padding-right: 1em; text-align: center; vertical-align: top\">0.0625</td>\n",
              "        <td style=\"padding-left: 1em; padding-right: 1em; text-align: center; vertical-align: top\">3</td>\n",
              "    </tr>\n",
              "    <tr>\n",
              "        <td style=\"padding-left: 1em; padding-right: 1em; text-align: center; vertical-align: top\">Save Me (Album Version) -<br>Shinedown ...</td>\n",
              "        <td style=\"padding-left: 1em; padding-right: 1em; text-align: center; vertical-align: top\">Baby (Album Version) -<br>Serj Tankian ...</td>\n",
              "        <td style=\"padding-left: 1em; padding-right: 1em; text-align: center; vertical-align: top\">0.05882352590560913</td>\n",
              "        <td style=\"padding-left: 1em; padding-right: 1em; text-align: center; vertical-align: top\">4</td>\n",
              "    </tr>\n",
              "    <tr>\n",
              "        <td style=\"padding-left: 1em; padding-right: 1em; text-align: center; vertical-align: top\">Save Me (Album Version) -<br>Shinedown ...</td>\n",
              "        <td style=\"padding-left: 1em; padding-right: 1em; text-align: center; vertical-align: top\">Cry For Help (Album<br>Version) - Shinedown ...</td>\n",
              "        <td style=\"padding-left: 1em; padding-right: 1em; text-align: center; vertical-align: top\">0.05882352590560913</td>\n",
              "        <td style=\"padding-left: 1em; padding-right: 1em; text-align: center; vertical-align: top\">5</td>\n",
              "    </tr>\n",
              "    <tr>\n",
              "        <td style=\"padding-left: 1em; padding-right: 1em; text-align: center; vertical-align: top\">Save Me (Album Version) -<br>Shinedown ...</td>\n",
              "        <td style=\"padding-left: 1em; padding-right: 1em; text-align: center; vertical-align: top\">The Wicker Man - Iron<br>Maiden ...</td>\n",
              "        <td style=\"padding-left: 1em; padding-right: 1em; text-align: center; vertical-align: top\">0.05555558204650879</td>\n",
              "        <td style=\"padding-left: 1em; padding-right: 1em; text-align: center; vertical-align: top\">6</td>\n",
              "    </tr>\n",
              "    <tr>\n",
              "        <td style=\"padding-left: 1em; padding-right: 1em; text-align: center; vertical-align: top\">Save Me (Album Version) -<br>Shinedown ...</td>\n",
              "        <td style=\"padding-left: 1em; padding-right: 1em; text-align: center; vertical-align: top\">Wrong Way To Hollywood<br>(Live) - Wall Of Voodoo ...</td>\n",
              "        <td style=\"padding-left: 1em; padding-right: 1em; text-align: center; vertical-align: top\">0.05555558204650879</td>\n",
              "        <td style=\"padding-left: 1em; padding-right: 1em; text-align: center; vertical-align: top\">7</td>\n",
              "    </tr>\n",
              "    <tr>\n",
              "        <td style=\"padding-left: 1em; padding-right: 1em; text-align: center; vertical-align: top\">Save Me (Album Version) -<br>Shinedown ...</td>\n",
              "        <td style=\"padding-left: 1em; padding-right: 1em; text-align: center; vertical-align: top\">Newspaper Reporter -<br>Watermelon Slim ...</td>\n",
              "        <td style=\"padding-left: 1em; padding-right: 1em; text-align: center; vertical-align: top\">0.05263155698776245</td>\n",
              "        <td style=\"padding-left: 1em; padding-right: 1em; text-align: center; vertical-align: top\">8</td>\n",
              "    </tr>\n",
              "    <tr>\n",
              "        <td style=\"padding-left: 1em; padding-right: 1em; text-align: center; vertical-align: top\">Save Me (Album Version) -<br>Shinedown ...</td>\n",
              "        <td style=\"padding-left: 1em; padding-right: 1em; text-align: center; vertical-align: top\">Moon Baby - Godsmack</td>\n",
              "        <td style=\"padding-left: 1em; padding-right: 1em; text-align: center; vertical-align: top\">0.05263155698776245</td>\n",
              "        <td style=\"padding-left: 1em; padding-right: 1em; text-align: center; vertical-align: top\">9</td>\n",
              "    </tr>\n",
              "    <tr>\n",
              "        <td style=\"padding-left: 1em; padding-right: 1em; text-align: center; vertical-align: top\">Save Me (Album Version) -<br>Shinedown ...</td>\n",
              "        <td style=\"padding-left: 1em; padding-right: 1em; text-align: center; vertical-align: top\">She Is My Sin - Nightwish</td>\n",
              "        <td style=\"padding-left: 1em; padding-right: 1em; text-align: center; vertical-align: top\">0.050000011920928955</td>\n",
              "        <td style=\"padding-left: 1em; padding-right: 1em; text-align: center; vertical-align: top\">10</td>\n",
              "    </tr>\n",
              "</table>\n",
              "[10 rows x 4 columns]<br/>\n",
              "</div>"
            ],
            "text/plain": [
              "Columns:\n",
              "\tsong\tstr\n",
              "\tsimilar\tstr\n",
              "\tscore\tfloat\n",
              "\trank\tint\n",
              "\n",
              "Rows: 10\n",
              "\n",
              "Data:\n",
              "+-------------------------------+-------------------------------+\n",
              "|              song             |            similar            |\n",
              "+-------------------------------+-------------------------------+\n",
              "| Save Me (Album Version) - ... |   Stand Here With Me - Creed  |\n",
              "| Save Me (Album Version) - ... |      Pages - 3 Doors Down     |\n",
              "| Save Me (Album Version) - ... | Your Time Has Come - Audio... |\n",
              "| Save Me (Album Version) - ... | Baby (Album Version) - Ser... |\n",
              "| Save Me (Album Version) - ... | Cry For Help (Album Versio... |\n",
              "| Save Me (Album Version) - ... |  The Wicker Man - Iron Maiden |\n",
              "| Save Me (Album Version) - ... | Wrong Way To Hollywood (Li... |\n",
              "| Save Me (Album Version) - ... | Newspaper Reporter - Water... |\n",
              "| Save Me (Album Version) - ... |      Moon Baby - Godsmack     |\n",
              "| Save Me (Album Version) - ... |   She Is My Sin - Nightwish   |\n",
              "+-------------------------------+-------------------------------+\n",
              "+----------------------+------+\n",
              "|        score         | rank |\n",
              "+----------------------+------+\n",
              "| 0.07692307233810425  |  1   |\n",
              "| 0.07142859697341919  |  2   |\n",
              "|        0.0625        |  3   |\n",
              "| 0.05882352590560913  |  4   |\n",
              "| 0.05882352590560913  |  5   |\n",
              "| 0.05555558204650879  |  6   |\n",
              "| 0.05555558204650879  |  7   |\n",
              "| 0.05263155698776245  |  8   |\n",
              "| 0.05263155698776245  |  9   |\n",
              "| 0.050000011920928955 |  10  |\n",
              "+----------------------+------+\n",
              "[10 rows x 4 columns]"
            ]
          },
          "metadata": {},
          "execution_count": 86
        }
      ]
    },
    {
      "cell_type": "code",
      "metadata": {
        "colab": {
          "base_uri": "https://localhost:8080/",
          "height": 375
        },
        "id": "f5Fg_niI2rH9",
        "outputId": "2659af19-a8da-4127-ef1a-578a5abdd2c3"
      },
      "source": [
        "personalized_model.get_similar_items(['No Surprise - Daughtry', 'Wake Up Call - Maroon 5'])"
      ],
      "execution_count": null,
      "outputs": [
        {
          "output_type": "execute_result",
          "data": {
            "text/html": [
              "<div style=\"max-height:1000px;max-width:1500px;overflow:auto;\"><table frame=\"box\" rules=\"cols\">\n",
              "    <tr>\n",
              "        <th style=\"padding-left: 1em; padding-right: 1em; text-align: center\">song</th>\n",
              "        <th style=\"padding-left: 1em; padding-right: 1em; text-align: center\">similar</th>\n",
              "        <th style=\"padding-left: 1em; padding-right: 1em; text-align: center\">score</th>\n",
              "        <th style=\"padding-left: 1em; padding-right: 1em; text-align: center\">rank</th>\n",
              "    </tr>\n",
              "    <tr>\n",
              "        <td style=\"padding-left: 1em; padding-right: 1em; text-align: center; vertical-align: top\">No Surprise - Daughtry</td>\n",
              "        <td style=\"padding-left: 1em; padding-right: 1em; text-align: center; vertical-align: top\">Vzpominky IV. - Pavel<br>Dobes ...</td>\n",
              "        <td style=\"padding-left: 1em; padding-right: 1em; text-align: center; vertical-align: top\">0.02898550033569336</td>\n",
              "        <td style=\"padding-left: 1em; padding-right: 1em; text-align: center; vertical-align: top\">1</td>\n",
              "    </tr>\n",
              "    <tr>\n",
              "        <td style=\"padding-left: 1em; padding-right: 1em; text-align: center; vertical-align: top\">No Surprise - Daughtry</td>\n",
              "        <td style=\"padding-left: 1em; padding-right: 1em; text-align: center; vertical-align: top\">Whatever It Takes -<br>Lifehouse ...</td>\n",
              "        <td style=\"padding-left: 1em; padding-right: 1em; text-align: center; vertical-align: top\">0.02898550033569336</td>\n",
              "        <td style=\"padding-left: 1em; padding-right: 1em; text-align: center; vertical-align: top\">2</td>\n",
              "    </tr>\n",
              "    <tr>\n",
              "        <td style=\"padding-left: 1em; padding-right: 1em; text-align: center; vertical-align: top\">No Surprise - Daughtry</td>\n",
              "        <td style=\"padding-left: 1em; padding-right: 1em; text-align: center; vertical-align: top\">April 8th - Neutral Milk<br>Hotel ...</td>\n",
              "        <td style=\"padding-left: 1em; padding-right: 1em; text-align: center; vertical-align: top\">0.016666650772094727</td>\n",
              "        <td style=\"padding-left: 1em; padding-right: 1em; text-align: center; vertical-align: top\">3</td>\n",
              "    </tr>\n",
              "    <tr>\n",
              "        <td style=\"padding-left: 1em; padding-right: 1em; text-align: center; vertical-align: top\">No Surprise - Daughtry</td>\n",
              "        <td style=\"padding-left: 1em; padding-right: 1em; text-align: center; vertical-align: top\">Without You - Hinder</td>\n",
              "        <td style=\"padding-left: 1em; padding-right: 1em; text-align: center; vertical-align: top\">0.016393423080444336</td>\n",
              "        <td style=\"padding-left: 1em; padding-right: 1em; text-align: center; vertical-align: top\">4</td>\n",
              "    </tr>\n",
              "    <tr>\n",
              "        <td style=\"padding-left: 1em; padding-right: 1em; text-align: center; vertical-align: top\">No Surprise - Daughtry</td>\n",
              "        <td style=\"padding-left: 1em; padding-right: 1em; text-align: center; vertical-align: top\">T.H.E.H.I.V.E.S. - The<br>Hives ...</td>\n",
              "        <td style=\"padding-left: 1em; padding-right: 1em; text-align: center; vertical-align: top\">0.016393423080444336</td>\n",
              "        <td style=\"padding-left: 1em; padding-right: 1em; text-align: center; vertical-align: top\">5</td>\n",
              "    </tr>\n",
              "    <tr>\n",
              "        <td style=\"padding-left: 1em; padding-right: 1em; text-align: center; vertical-align: top\">No Surprise - Daughtry</td>\n",
              "        <td style=\"padding-left: 1em; padding-right: 1em; text-align: center; vertical-align: top\">Come With Me -<br>L&#x27;orchestre du boutique ...</td>\n",
              "        <td style=\"padding-left: 1em; padding-right: 1em; text-align: center; vertical-align: top\">0.016393423080444336</td>\n",
              "        <td style=\"padding-left: 1em; padding-right: 1em; text-align: center; vertical-align: top\">6</td>\n",
              "    </tr>\n",
              "    <tr>\n",
              "        <td style=\"padding-left: 1em; padding-right: 1em; text-align: center; vertical-align: top\">No Surprise - Daughtry</td>\n",
              "        <td style=\"padding-left: 1em; padding-right: 1em; text-align: center; vertical-align: top\">Mercy - Moby</td>\n",
              "        <td style=\"padding-left: 1em; padding-right: 1em; text-align: center; vertical-align: top\">0.016129016876220703</td>\n",
              "        <td style=\"padding-left: 1em; padding-right: 1em; text-align: center; vertical-align: top\">7</td>\n",
              "    </tr>\n",
              "    <tr>\n",
              "        <td style=\"padding-left: 1em; padding-right: 1em; text-align: center; vertical-align: top\">No Surprise - Daughtry</td>\n",
              "        <td style=\"padding-left: 1em; padding-right: 1em; text-align: center; vertical-align: top\">Bedlam 1-2-3 - Exodus</td>\n",
              "        <td style=\"padding-left: 1em; padding-right: 1em; text-align: center; vertical-align: top\">0.016129016876220703</td>\n",
              "        <td style=\"padding-left: 1em; padding-right: 1em; text-align: center; vertical-align: top\">8</td>\n",
              "    </tr>\n",
              "    <tr>\n",
              "        <td style=\"padding-left: 1em; padding-right: 1em; text-align: center; vertical-align: top\">No Surprise - Daughtry</td>\n",
              "        <td style=\"padding-left: 1em; padding-right: 1em; text-align: center; vertical-align: top\">Two Worlds Collide - Demi<br>Lovato ...</td>\n",
              "        <td style=\"padding-left: 1em; padding-right: 1em; text-align: center; vertical-align: top\">0.016129016876220703</td>\n",
              "        <td style=\"padding-left: 1em; padding-right: 1em; text-align: center; vertical-align: top\">9</td>\n",
              "    </tr>\n",
              "    <tr>\n",
              "        <td style=\"padding-left: 1em; padding-right: 1em; text-align: center; vertical-align: top\">No Surprise - Daughtry</td>\n",
              "        <td style=\"padding-left: 1em; padding-right: 1em; text-align: center; vertical-align: top\">By Your Side - Lifehouse</td>\n",
              "        <td style=\"padding-left: 1em; padding-right: 1em; text-align: center; vertical-align: top\">0.0158730149269104</td>\n",
              "        <td style=\"padding-left: 1em; padding-right: 1em; text-align: center; vertical-align: top\">10</td>\n",
              "    </tr>\n",
              "</table>\n",
              "[20 rows x 4 columns]<br/>Note: Only the head of the SFrame is printed.<br/>You can use print_rows(num_rows=m, num_columns=n) to print more rows and columns.\n",
              "</div>"
            ],
            "text/plain": [
              "Columns:\n",
              "\tsong\tstr\n",
              "\tsimilar\tstr\n",
              "\tscore\tfloat\n",
              "\trank\tint\n",
              "\n",
              "Rows: 20\n",
              "\n",
              "Data:\n",
              "+------------------------+--------------------------------+----------------------+\n",
              "|          song          |            similar             |        score         |\n",
              "+------------------------+--------------------------------+----------------------+\n",
              "| No Surprise - Daughtry |  Vzpominky IV. - Pavel Dobes   | 0.02898550033569336  |\n",
              "| No Surprise - Daughtry | Whatever It Takes - Lifehouse  | 0.02898550033569336  |\n",
              "| No Surprise - Daughtry | April 8th - Neutral Milk Hotel | 0.016666650772094727 |\n",
              "| No Surprise - Daughtry |      Without You - Hinder      | 0.016393423080444336 |\n",
              "| No Surprise - Daughtry |  T.H.E.H.I.V.E.S. - The Hives  | 0.016393423080444336 |\n",
              "| No Surprise - Daughtry | Come With Me - L'orchestre...  | 0.016393423080444336 |\n",
              "| No Surprise - Daughtry |          Mercy - Moby          | 0.016129016876220703 |\n",
              "| No Surprise - Daughtry |     Bedlam 1-2-3 - Exodus      | 0.016129016876220703 |\n",
              "| No Surprise - Daughtry | Two Worlds Collide - Demi ...  | 0.016129016876220703 |\n",
              "| No Surprise - Daughtry |    By Your Side - Lifehouse    |  0.0158730149269104  |\n",
              "+------------------------+--------------------------------+----------------------+\n",
              "+------+\n",
              "| rank |\n",
              "+------+\n",
              "|  1   |\n",
              "|  2   |\n",
              "|  3   |\n",
              "|  4   |\n",
              "|  5   |\n",
              "|  6   |\n",
              "|  7   |\n",
              "|  8   |\n",
              "|  9   |\n",
              "|  10  |\n",
              "+------+\n",
              "[20 rows x 4 columns]\n",
              "Note: Only the head of the SFrame is printed.\n",
              "You can use print_rows(num_rows=m, num_columns=n) to print more rows and columns."
            ]
          },
          "metadata": {},
          "execution_count": 87
        }
      ]
    },
    {
      "cell_type": "code",
      "metadata": {
        "colab": {
          "base_uri": "https://localhost:8080/",
          "height": 700
        },
        "id": "w_YvAPjy-uR5",
        "outputId": "bfe111bd-f9c1-4b90-e84b-abd7675c25e5"
      },
      "source": [
        "kayne=songs[songs['artist']=='Kanye West']\n",
        "kayne"
      ],
      "execution_count": null,
      "outputs": [
        {
          "output_type": "execute_result",
          "data": {
            "text/html": [
              "<div style=\"max-height:1000px;max-width:1500px;overflow:auto;\"><table frame=\"box\" rules=\"cols\">\n",
              "    <tr>\n",
              "        <th style=\"padding-left: 1em; padding-right: 1em; text-align: center\">user_id</th>\n",
              "        <th style=\"padding-left: 1em; padding-right: 1em; text-align: center\">song_id</th>\n",
              "        <th style=\"padding-left: 1em; padding-right: 1em; text-align: center\">listen_count</th>\n",
              "        <th style=\"padding-left: 1em; padding-right: 1em; text-align: center\">title</th>\n",
              "        <th style=\"padding-left: 1em; padding-right: 1em; text-align: center\">artist</th>\n",
              "    </tr>\n",
              "    <tr>\n",
              "        <td style=\"padding-left: 1em; padding-right: 1em; text-align: center; vertical-align: top\">b80344d063b5ccb3212f76538<br>f3d9e43d87dca9e ...</td>\n",
              "        <td style=\"padding-left: 1em; padding-right: 1em; text-align: center; vertical-align: top\">SOBXHDL12A81C204C0</td>\n",
              "        <td style=\"padding-left: 1em; padding-right: 1em; text-align: center; vertical-align: top\">1</td>\n",
              "        <td style=\"padding-left: 1em; padding-right: 1em; text-align: center; vertical-align: top\">Stronger</td>\n",
              "        <td style=\"padding-left: 1em; padding-right: 1em; text-align: center; vertical-align: top\">Kanye West</td>\n",
              "    </tr>\n",
              "    <tr>\n",
              "        <td style=\"padding-left: 1em; padding-right: 1em; text-align: center; vertical-align: top\">b80344d063b5ccb3212f76538<br>f3d9e43d87dca9e ...</td>\n",
              "        <td style=\"padding-left: 1em; padding-right: 1em; text-align: center; vertical-align: top\">SOMLMKI12A81C204BC</td>\n",
              "        <td style=\"padding-left: 1em; padding-right: 1em; text-align: center; vertical-align: top\">1</td>\n",
              "        <td style=\"padding-left: 1em; padding-right: 1em; text-align: center; vertical-align: top\">Champion</td>\n",
              "        <td style=\"padding-left: 1em; padding-right: 1em; text-align: center; vertical-align: top\">Kanye West</td>\n",
              "    </tr>\n",
              "    <tr>\n",
              "        <td style=\"padding-left: 1em; padding-right: 1em; text-align: center; vertical-align: top\">5d5e0142e54c3bb7b69f548c2<br>ee55066c90700eb ...</td>\n",
              "        <td style=\"padding-left: 1em; padding-right: 1em; text-align: center; vertical-align: top\">SORFASW12A81C22AE7</td>\n",
              "        <td style=\"padding-left: 1em; padding-right: 1em; text-align: center; vertical-align: top\">2</td>\n",
              "        <td style=\"padding-left: 1em; padding-right: 1em; text-align: center; vertical-align: top\">Stronger</td>\n",
              "        <td style=\"padding-left: 1em; padding-right: 1em; text-align: center; vertical-align: top\">Kanye West</td>\n",
              "    </tr>\n",
              "    <tr>\n",
              "        <td style=\"padding-left: 1em; padding-right: 1em; text-align: center; vertical-align: top\">537340ff896dea11328910013<br>cfe759413e1eeb3 ...</td>\n",
              "        <td style=\"padding-left: 1em; padding-right: 1em; text-align: center; vertical-align: top\">SOBXHDL12A81C204C0</td>\n",
              "        <td style=\"padding-left: 1em; padding-right: 1em; text-align: center; vertical-align: top\">2</td>\n",
              "        <td style=\"padding-left: 1em; padding-right: 1em; text-align: center; vertical-align: top\">Stronger</td>\n",
              "        <td style=\"padding-left: 1em; padding-right: 1em; text-align: center; vertical-align: top\">Kanye West</td>\n",
              "    </tr>\n",
              "    <tr>\n",
              "        <td style=\"padding-left: 1em; padding-right: 1em; text-align: center; vertical-align: top\">7dd192c8bd4f27f573cb15e86<br>56442aadd7a9c01 ...</td>\n",
              "        <td style=\"padding-left: 1em; padding-right: 1em; text-align: center; vertical-align: top\">SOOLPFK12A58A7BDE3</td>\n",
              "        <td style=\"padding-left: 1em; padding-right: 1em; text-align: center; vertical-align: top\">5</td>\n",
              "        <td style=\"padding-left: 1em; padding-right: 1em; text-align: center; vertical-align: top\">Flashing Lights</td>\n",
              "        <td style=\"padding-left: 1em; padding-right: 1em; text-align: center; vertical-align: top\">Kanye West</td>\n",
              "    </tr>\n",
              "    <tr>\n",
              "        <td style=\"padding-left: 1em; padding-right: 1em; text-align: center; vertical-align: top\">8fce200f3912e9608e3b1463c<br>db9c3529aab5c08 ...</td>\n",
              "        <td style=\"padding-left: 1em; padding-right: 1em; text-align: center; vertical-align: top\">SOBXHDL12A81C204C0</td>\n",
              "        <td style=\"padding-left: 1em; padding-right: 1em; text-align: center; vertical-align: top\">2</td>\n",
              "        <td style=\"padding-left: 1em; padding-right: 1em; text-align: center; vertical-align: top\">Stronger</td>\n",
              "        <td style=\"padding-left: 1em; padding-right: 1em; text-align: center; vertical-align: top\">Kanye West</td>\n",
              "    </tr>\n",
              "    <tr>\n",
              "        <td style=\"padding-left: 1em; padding-right: 1em; text-align: center; vertical-align: top\">8fce200f3912e9608e3b1463c<br>db9c3529aab5c08 ...</td>\n",
              "        <td style=\"padding-left: 1em; padding-right: 1em; text-align: center; vertical-align: top\">SOIBSWV12A6D4F6AB3</td>\n",
              "        <td style=\"padding-left: 1em; padding-right: 1em; text-align: center; vertical-align: top\">1</td>\n",
              "        <td style=\"padding-left: 1em; padding-right: 1em; text-align: center; vertical-align: top\">Through The Wire</td>\n",
              "        <td style=\"padding-left: 1em; padding-right: 1em; text-align: center; vertical-align: top\">Kanye West</td>\n",
              "    </tr>\n",
              "    <tr>\n",
              "        <td style=\"padding-left: 1em; padding-right: 1em; text-align: center; vertical-align: top\">a56bf59af6edc5ae6c92d61dd<br>d214989332864e8 ...</td>\n",
              "        <td style=\"padding-left: 1em; padding-right: 1em; text-align: center; vertical-align: top\">SONGNHO12AB0183915</td>\n",
              "        <td style=\"padding-left: 1em; padding-right: 1em; text-align: center; vertical-align: top\">1</td>\n",
              "        <td style=\"padding-left: 1em; padding-right: 1em; text-align: center; vertical-align: top\">Bad News</td>\n",
              "        <td style=\"padding-left: 1em; padding-right: 1em; text-align: center; vertical-align: top\">Kanye West</td>\n",
              "    </tr>\n",
              "    <tr>\n",
              "        <td style=\"padding-left: 1em; padding-right: 1em; text-align: center; vertical-align: top\">8fa25e588aeedaa539674babb<br>75729ac9f31f15e ...</td>\n",
              "        <td style=\"padding-left: 1em; padding-right: 1em; text-align: center; vertical-align: top\">SOOLPFK12A58A7BDE3</td>\n",
              "        <td style=\"padding-left: 1em; padding-right: 1em; text-align: center; vertical-align: top\">1</td>\n",
              "        <td style=\"padding-left: 1em; padding-right: 1em; text-align: center; vertical-align: top\">Flashing Lights</td>\n",
              "        <td style=\"padding-left: 1em; padding-right: 1em; text-align: center; vertical-align: top\">Kanye West</td>\n",
              "    </tr>\n",
              "    <tr>\n",
              "        <td style=\"padding-left: 1em; padding-right: 1em; text-align: center; vertical-align: top\">e8612acfb1572297ea0eaaa1f<br>27927d55fdcec65 ...</td>\n",
              "        <td style=\"padding-left: 1em; padding-right: 1em; text-align: center; vertical-align: top\">SOIYWPZ12A81C204EF</td>\n",
              "        <td style=\"padding-left: 1em; padding-right: 1em; text-align: center; vertical-align: top\">2</td>\n",
              "        <td style=\"padding-left: 1em; padding-right: 1em; text-align: center; vertical-align: top\">Homecoming</td>\n",
              "        <td style=\"padding-left: 1em; padding-right: 1em; text-align: center; vertical-align: top\">Kanye West</td>\n",
              "    </tr>\n",
              "</table>\n",
              "<table frame=\"box\" rules=\"cols\">\n",
              "    <tr>\n",
              "        <th style=\"padding-left: 1em; padding-right: 1em; text-align: center\">song</th>\n",
              "    </tr>\n",
              "    <tr>\n",
              "        <td style=\"padding-left: 1em; padding-right: 1em; text-align: center; vertical-align: top\">Stronger - Kanye West</td>\n",
              "    </tr>\n",
              "    <tr>\n",
              "        <td style=\"padding-left: 1em; padding-right: 1em; text-align: center; vertical-align: top\">Champion - Kanye West</td>\n",
              "    </tr>\n",
              "    <tr>\n",
              "        <td style=\"padding-left: 1em; padding-right: 1em; text-align: center; vertical-align: top\">Stronger - Kanye West</td>\n",
              "    </tr>\n",
              "    <tr>\n",
              "        <td style=\"padding-left: 1em; padding-right: 1em; text-align: center; vertical-align: top\">Stronger - Kanye West</td>\n",
              "    </tr>\n",
              "    <tr>\n",
              "        <td style=\"padding-left: 1em; padding-right: 1em; text-align: center; vertical-align: top\">Flashing Lights - Kanye<br>West ...</td>\n",
              "    </tr>\n",
              "    <tr>\n",
              "        <td style=\"padding-left: 1em; padding-right: 1em; text-align: center; vertical-align: top\">Stronger - Kanye West</td>\n",
              "    </tr>\n",
              "    <tr>\n",
              "        <td style=\"padding-left: 1em; padding-right: 1em; text-align: center; vertical-align: top\">Through The Wire - Kanye<br>West ...</td>\n",
              "    </tr>\n",
              "    <tr>\n",
              "        <td style=\"padding-left: 1em; padding-right: 1em; text-align: center; vertical-align: top\">Bad News - Kanye West</td>\n",
              "    </tr>\n",
              "    <tr>\n",
              "        <td style=\"padding-left: 1em; padding-right: 1em; text-align: center; vertical-align: top\">Flashing Lights - Kanye<br>West ...</td>\n",
              "    </tr>\n",
              "    <tr>\n",
              "        <td style=\"padding-left: 1em; padding-right: 1em; text-align: center; vertical-align: top\">Homecoming - Kanye West</td>\n",
              "    </tr>\n",
              "</table>\n",
              "[? rows x 6 columns]<br/>Note: Only the head of the SFrame is printed. This SFrame is lazily evaluated.<br/>You can use sf.materialize() to force materialization.\n",
              "</div>"
            ],
            "text/plain": [
              "Columns:\n",
              "\tuser_id\tstr\n",
              "\tsong_id\tstr\n",
              "\tlisten_count\tint\n",
              "\ttitle\tstr\n",
              "\tartist\tstr\n",
              "\tsong\tstr\n",
              "\n",
              "Rows: Unknown\n",
              "\n",
              "Data:\n",
              "+-------------------------------+--------------------+--------------+\n",
              "|            user_id            |      song_id       | listen_count |\n",
              "+-------------------------------+--------------------+--------------+\n",
              "| b80344d063b5ccb3212f76538f... | SOBXHDL12A81C204C0 |      1       |\n",
              "| b80344d063b5ccb3212f76538f... | SOMLMKI12A81C204BC |      1       |\n",
              "| 5d5e0142e54c3bb7b69f548c2e... | SORFASW12A81C22AE7 |      2       |\n",
              "| 537340ff896dea11328910013c... | SOBXHDL12A81C204C0 |      2       |\n",
              "| 7dd192c8bd4f27f573cb15e865... | SOOLPFK12A58A7BDE3 |      5       |\n",
              "| 8fce200f3912e9608e3b1463cd... | SOBXHDL12A81C204C0 |      2       |\n",
              "| 8fce200f3912e9608e3b1463cd... | SOIBSWV12A6D4F6AB3 |      1       |\n",
              "| a56bf59af6edc5ae6c92d61ddd... | SONGNHO12AB0183915 |      1       |\n",
              "| 8fa25e588aeedaa539674babb7... | SOOLPFK12A58A7BDE3 |      1       |\n",
              "| e8612acfb1572297ea0eaaa1f2... | SOIYWPZ12A81C204EF |      2       |\n",
              "+-------------------------------+--------------------+--------------+\n",
              "+------------------+------------+-------------------------------+\n",
              "|      title       |   artist   |              song             |\n",
              "+------------------+------------+-------------------------------+\n",
              "|     Stronger     | Kanye West |     Stronger - Kanye West     |\n",
              "|     Champion     | Kanye West |     Champion - Kanye West     |\n",
              "|     Stronger     | Kanye West |     Stronger - Kanye West     |\n",
              "|     Stronger     | Kanye West |     Stronger - Kanye West     |\n",
              "| Flashing Lights  | Kanye West |  Flashing Lights - Kanye West |\n",
              "|     Stronger     | Kanye West |     Stronger - Kanye West     |\n",
              "| Through The Wire | Kanye West | Through The Wire - Kanye West |\n",
              "|     Bad News     | Kanye West |     Bad News - Kanye West     |\n",
              "| Flashing Lights  | Kanye West |  Flashing Lights - Kanye West |\n",
              "|    Homecoming    | Kanye West |    Homecoming - Kanye West    |\n",
              "+------------------+------------+-------------------------------+\n",
              "[? rows x 6 columns]\n",
              "Note: Only the head of the SFrame is printed. This SFrame is lazily evaluated.\n",
              "You can use sf.materialize() to force materialization."
            ]
          },
          "metadata": {},
          "execution_count": 97
        }
      ]
    },
    {
      "cell_type": "code",
      "metadata": {
        "id": "Nfth0k1YAImE"
      },
      "source": [
        "unique_user_kayne=kayne['user_id'].unique()"
      ],
      "execution_count": null,
      "outputs": []
    },
    {
      "cell_type": "code",
      "metadata": {
        "colab": {
          "base_uri": "https://localhost:8080/"
        },
        "id": "GiINa5iaAQe7",
        "outputId": "15c9f12b-09fa-448d-dc0d-06ee8d2eb37c"
      },
      "source": [
        "unique_user_kayne"
      ],
      "execution_count": null,
      "outputs": [
        {
          "output_type": "execute_result",
          "data": {
            "text/plain": [
              "dtype: str\n",
              "Rows: 2522\n",
              "['900ed526660df9c3442ebe736db94eb0bc251b73', '5c604b6fc3d4077dfca40a57eea49388b69a19d6', 'b4c75391d49ce797c1af18468f1aa3ae5943f9de', '18325842a941bc58449ee71d659a08d1c1bd2383', '9685135efd0757150edb8d49e192fbb301e70e94', '71c17371dff96abe86663a7dc83e4334f3e4a67f', '9f78f038854c3ffb9e864ad281a7201d4dd999b2', 'b8474ad076d711b04a8732baab59872e72b487ff', 'd98c7abec08395694f7e469a8780d5cb54c809ba', 'b82c94bab6013453c2a0618f2079dff7c74599f0', '8c1022e54b28810ca20abb601328f1105f025125', '3abef8c80a5c697fcf7da4495bef26899ed13c77', 'c4f5e1f732f7ee646b58045d23643243abb561de', 'a90a12b1d303da46ecb3f77b8efd0d03370a9e86', 'e0c4690cbdd89e8817e7a25bce072b1ddc9618a5', '4c7f3dcad92dcb7e625aeb61e3b79d2fdffccc93', '744c384772ec76b403094d3ee97d2d6e07d3e0c3', 'ac76f1fb38d2c9c27178cccc502c2be2cc5b9acf', '82c458f2e9bc30f87890b408e5b965114989edf4', '37b97745b5649ca367aab9e4999528b470ecc692', 'd6dbb0578fe5baf513cad07fbf07801f89fd9313', '99d724639a1e51f53770236f24c87e2ca9126ec6', '07ca4e60b62326eeef7cff3bd95da257dc96b812', 'd36f8a8106e7f8f1dc111eb5cb5cc9dbe5ae07a9', '58fcc1ee8eb4bff5a9bedff6e7510f0167367c1a', '7a1e5f38af5197ee59857b48ac1eb2854e84a000', '2f03ae415b7efb7c015cdc79fa6166dcf1ddef32', '87fa091833add3a9b90404d4bae5d2cd709f632b', '790839cdd4ee24d5998952c1175848a51ec510a8', 'f34ffb77d1ca071bfa40fcf51fa5b716cd8f4219', 'fc7e6b0ab9b9ecd499369837f29ec8af3aa74489', '2bf4aa323998874797bff1b9a7d4049e38c2e706', 'efa2438cc0dba26b71b88fbf2b4fc27641c9a902', 'd0e43e3058cbd5a55ab57b5d367b154c35650419', 'e843882b389e96078a7b94476d9d1e884bd812e7', 'eb7f101c8b52a56d0e73100f5dbbd609df79c620', '9116c65d75343f5ac19f27b2eb8b1b447855e2ba', 'd6837d433e0f6731840991046ea4db076c1060db', 'ed328acd96a4147df93f64586eb56103ffa26c5e', '5d5e0142e54c3bb7b69f548c2ee55066c90700eb', '55a33f397fe9ef6dde63f140ff47666bc7a9247b', '95e20b2c4f1259ebf5cf4b05cbe9e7f7b9b79f74', '1dd37d51b9998623083f5b276ba8e95fdf72a0d5', 'f1a5555ab79f8a31c8d79112f7be7a84349bf92f', 'ff9de5c42ae7797c4cdcfb04370e77c51c80beef', '382868b3daba2e6924877d39492079944e998b55', 'de94198175aeadef534c4584691817d154cb9d41', 'd08fc0b2e67e4dc36b1b04397420a1cc2af137c0', '8584451eb3d5182afcbf9b5cc19e20e21f7cede2', 'c99946eb35e4afe71c11bc98fb5e5673a121db93', 'bdaba23f8e99fe6766d093d6849783e6316a500c', 'c1329a0da27e6ee4b09e570a71312111d4f0189c', '18142d8258c86a7f92be79afaff23390a4fd527a', 'c6a107ef87bd4fe87e399b5cf1c8d1e9c49f18de', '9ae6728cbd759d2cd5ab4ccbdc1ee0b35331c78b', '086ec1b75b81368a614a2ffb73087e1ce4e5f008', '59cdfbf5b20ad2c01fcc0f91efae59d8cc193be3', '31ba2ce3ed47b193d0e8c3ba9bbc44f452542e38', '3ad8a10d38d8fb5a1947217c946f7091a12bd53b', 'b4ed2e915b089c7d8d75d129a868212816c73f87', 'ba21d60c0ee0a8fe17c37477f9428b19f69a6ee7', '83188c3328c10898012181b0f430519396f9f184', '9cdfc2f12bb7591afefca28682345667f3bca6e4', '12789b3b67efc997897d019fff50e226357ebbfd', '536b99fac3204bc6667991d6efc1b8e9cbf4680e', 'e3f8995093f0eef5b2d42524ae7a0be636267501', '8e560b427cb35f48ff51b5cc8b9f83672af25b1e', 'f63dd9cbfdb69a6fc1bae4f9722e4c4781a3ddb1', 'df35169cca3926c1deb012edf045d2e161c353f2', 'f6763e5bf2e5ee2e363c1593728aac0e2aa38a10', 'a84a112e35ae2f5ddf7eca7d816a1f2765a9cc02', 'dc17f3b44d24b8ce3de605967f9ed3263c53b6fc', '205a0c66dd63a3e53b03ef4f195b17fe540aa119', '02f4560725c8d330688f0c392789ba2d53654632', '705449d46b99784af9bca24a0fa4abf91695e47e', '3a2e72debb878bdc9abc0938ae4dc5789c20a3b2', 'c58b794a6ce3dc723729f846c63cd4059c157515', '0bc4db4d1c154eb886f2b7093d39551f8db032fe', '32b05b10e8a25ebccb561adaa7033d3eefa8900e', 'ca3929eaabe4b0f59515c775b0dd5436f1ff09d6', '3f8f6107fc8a5ed5770a84baf3bd08c284c97cf0', 'fac8e47cd0cda54f910ab135cc977553717d69a6', '312efc1c3eb41bf1fa1d1e57443f74509fcb222e', '99c592d0064709497b9e18186ee9ccd75e02bdca', 'dea2c7bf2fd8001b6f09f01dff1217ea76a28ac9', '5c4f5bef192bc76cee4c4cbcd44d7ba5a2df5737', '4c9ef5f5ebe80d3f949bdcdb724800a7e33f2268', 'f9eecc6b0326348a943a91d750472d65d14a3c94', '932ad377a3bb70d0d32969f4941f0268d560afc9', '6a1432a23977a6515dcf49092f3424fecce2fd44', '871d004a886a45317e425b5516ba3391b50e2443', '8c9fdb5f1bb4e817ca4fdcbd2a7810fc286064d6', '62b62d87446db8c34cb64c2f3371ab1493ca0271', 'c697d270d46e1ee69569f60265c287b84f65ec80', 'd0f0134594ad065e29e9a236da4c38e7ab7bd3e8', '904fac1e1c7470c1c47bc3d2cd5f95b8dbedcecf', '4eef50154960c5238764dbda04e76df48206ec3b', '04935d7e3f0be93ac79e3d9c088aa1a0af6d9d80', '417862529ebc6866ea0baa9f4a066d7cbfbb4adb', 'bf02313f9b057d4d69124a7c1c4023f44167c065', ... ]"
            ]
          },
          "metadata": {},
          "execution_count": 101
        }
      ]
    },
    {
      "cell_type": "code",
      "metadata": {
        "colab": {
          "base_uri": "https://localhost:8080/"
        },
        "id": "gmGxhWtxAZJD",
        "outputId": "2a196f45-68ef-41ce-a49b-ad941a1c646b"
      },
      "source": [
        "kayne['listen_count'].sum()"
      ],
      "execution_count": null,
      "outputs": [
        {
          "output_type": "execute_result",
          "data": {
            "text/plain": [
              "9992"
            ]
          },
          "metadata": {},
          "execution_count": 103
        }
      ]
    },
    {
      "cell_type": "markdown",
      "metadata": {
        "id": "lSk51nzyDj5M"
      },
      "source": [
        "## find which artist has more listen count"
      ]
    },
    {
      "cell_type": "code",
      "metadata": {
        "id": "QnwOuFYMBAt4"
      },
      "source": [
        "k=songs.groupby(key_column_names='artist', operations={'total_count': tc.aggregate.SUM('listen_count')})"
      ],
      "execution_count": null,
      "outputs": []
    },
    {
      "cell_type": "code",
      "metadata": {
        "colab": {
          "base_uri": "https://localhost:8080/",
          "height": 275
        },
        "id": "jO2J_8y7H7vz",
        "outputId": "036f3215-5d89-4290-ed70-70c2b7701ea9"
      },
      "source": [
        "k"
      ],
      "execution_count": null,
      "outputs": [
        {
          "output_type": "execute_result",
          "data": {
            "text/html": [
              "<div style=\"max-height:1000px;max-width:1500px;overflow:auto;\"><table frame=\"box\" rules=\"cols\">\n",
              "    <tr>\n",
              "        <th style=\"padding-left: 1em; padding-right: 1em; text-align: center\">artist</th>\n",
              "        <th style=\"padding-left: 1em; padding-right: 1em; text-align: center\">total_count</th>\n",
              "    </tr>\n",
              "    <tr>\n",
              "        <td style=\"padding-left: 1em; padding-right: 1em; text-align: center; vertical-align: top\">The Dells</td>\n",
              "        <td style=\"padding-left: 1em; padding-right: 1em; text-align: center; vertical-align: top\">274</td>\n",
              "    </tr>\n",
              "    <tr>\n",
              "        <td style=\"padding-left: 1em; padding-right: 1em; text-align: center; vertical-align: top\">Diana Ross</td>\n",
              "        <td style=\"padding-left: 1em; padding-right: 1em; text-align: center; vertical-align: top\">302</td>\n",
              "    </tr>\n",
              "    <tr>\n",
              "        <td style=\"padding-left: 1em; padding-right: 1em; text-align: center; vertical-align: top\">Kurtis Blow</td>\n",
              "        <td style=\"padding-left: 1em; padding-right: 1em; text-align: center; vertical-align: top\">239</td>\n",
              "    </tr>\n",
              "    <tr>\n",
              "        <td style=\"padding-left: 1em; padding-right: 1em; text-align: center; vertical-align: top\">She &amp; Him</td>\n",
              "        <td style=\"padding-left: 1em; padding-right: 1em; text-align: center; vertical-align: top\">2199</td>\n",
              "    </tr>\n",
              "    <tr>\n",
              "        <td style=\"padding-left: 1em; padding-right: 1em; text-align: center; vertical-align: top\">Ensiferum</td>\n",
              "        <td style=\"padding-left: 1em; padding-right: 1em; text-align: center; vertical-align: top\">210</td>\n",
              "    </tr>\n",
              "    <tr>\n",
              "        <td style=\"padding-left: 1em; padding-right: 1em; text-align: center; vertical-align: top\">Beth Quist</td>\n",
              "        <td style=\"padding-left: 1em; padding-right: 1em; text-align: center; vertical-align: top\">379</td>\n",
              "    </tr>\n",
              "    <tr>\n",
              "        <td style=\"padding-left: 1em; padding-right: 1em; text-align: center; vertical-align: top\">Vangelis</td>\n",
              "        <td style=\"padding-left: 1em; padding-right: 1em; text-align: center; vertical-align: top\">324</td>\n",
              "    </tr>\n",
              "    <tr>\n",
              "        <td style=\"padding-left: 1em; padding-right: 1em; text-align: center; vertical-align: top\">Graham Nash</td>\n",
              "        <td style=\"padding-left: 1em; padding-right: 1em; text-align: center; vertical-align: top\">252</td>\n",
              "    </tr>\n",
              "    <tr>\n",
              "        <td style=\"padding-left: 1em; padding-right: 1em; text-align: center; vertical-align: top\">Death From Above 1979</td>\n",
              "        <td style=\"padding-left: 1em; padding-right: 1em; text-align: center; vertical-align: top\">109</td>\n",
              "    </tr>\n",
              "    <tr>\n",
              "        <td style=\"padding-left: 1em; padding-right: 1em; text-align: center; vertical-align: top\">Eamon</td>\n",
              "        <td style=\"padding-left: 1em; padding-right: 1em; text-align: center; vertical-align: top\">181</td>\n",
              "    </tr>\n",
              "</table>\n",
              "[3375 rows x 2 columns]<br/>Note: Only the head of the SFrame is printed.<br/>You can use print_rows(num_rows=m, num_columns=n) to print more rows and columns.\n",
              "</div>"
            ],
            "text/plain": [
              "Columns:\n",
              "\tartist\tstr\n",
              "\ttotal_count\tint\n",
              "\n",
              "Rows: 3375\n",
              "\n",
              "Data:\n",
              "+-----------------------+-------------+\n",
              "|         artist        | total_count |\n",
              "+-----------------------+-------------+\n",
              "|       The Dells       |     274     |\n",
              "|       Diana Ross      |     302     |\n",
              "|      Kurtis Blow      |     239     |\n",
              "|       She & Him       |     2199    |\n",
              "|       Ensiferum       |     210     |\n",
              "|       Beth Quist      |     379     |\n",
              "|        Vangelis       |     324     |\n",
              "|      Graham Nash      |     252     |\n",
              "| Death From Above 1979 |     109     |\n",
              "|         Eamon         |     181     |\n",
              "+-----------------------+-------------+\n",
              "[3375 rows x 2 columns]\n",
              "Note: Only the head of the SFrame is printed.\n",
              "You can use print_rows(num_rows=m, num_columns=n) to print more rows and columns."
            ]
          },
          "metadata": {},
          "execution_count": 139
        }
      ]
    },
    {
      "cell_type": "code",
      "metadata": {
        "colab": {
          "base_uri": "https://localhost:8080/",
          "height": 308
        },
        "id": "dViiB-3ZBtgI",
        "outputId": "34f527df-f4db-4949-c309-bef37fe9c05b"
      },
      "source": [
        "\n",
        "k.sort('total_count')"
      ],
      "execution_count": null,
      "outputs": [
        {
          "output_type": "execute_result",
          "data": {
            "text/html": [
              "<div style=\"max-height:1000px;max-width:1500px;overflow:auto;\"><table frame=\"box\" rules=\"cols\">\n",
              "    <tr>\n",
              "        <th style=\"padding-left: 1em; padding-right: 1em; text-align: center\">artist</th>\n",
              "        <th style=\"padding-left: 1em; padding-right: 1em; text-align: center\">total_count</th>\n",
              "    </tr>\n",
              "    <tr>\n",
              "        <td style=\"padding-left: 1em; padding-right: 1em; text-align: center; vertical-align: top\">William Tabbert</td>\n",
              "        <td style=\"padding-left: 1em; padding-right: 1em; text-align: center; vertical-align: top\">14</td>\n",
              "    </tr>\n",
              "    <tr>\n",
              "        <td style=\"padding-left: 1em; padding-right: 1em; text-align: center; vertical-align: top\">Reel Feelings</td>\n",
              "        <td style=\"padding-left: 1em; padding-right: 1em; text-align: center; vertical-align: top\">24</td>\n",
              "    </tr>\n",
              "    <tr>\n",
              "        <td style=\"padding-left: 1em; padding-right: 1em; text-align: center; vertical-align: top\">Beyoncé feat. Bun B and<br>Slim Thug ...</td>\n",
              "        <td style=\"padding-left: 1em; padding-right: 1em; text-align: center; vertical-align: top\">26</td>\n",
              "    </tr>\n",
              "    <tr>\n",
              "        <td style=\"padding-left: 1em; padding-right: 1em; text-align: center; vertical-align: top\">Diplo</td>\n",
              "        <td style=\"padding-left: 1em; padding-right: 1em; text-align: center; vertical-align: top\">30</td>\n",
              "    </tr>\n",
              "    <tr>\n",
              "        <td style=\"padding-left: 1em; padding-right: 1em; text-align: center; vertical-align: top\">Boggle Karaoke</td>\n",
              "        <td style=\"padding-left: 1em; padding-right: 1em; text-align: center; vertical-align: top\">30</td>\n",
              "    </tr>\n",
              "    <tr>\n",
              "        <td style=\"padding-left: 1em; padding-right: 1em; text-align: center; vertical-align: top\">harvey summers</td>\n",
              "        <td style=\"padding-left: 1em; padding-right: 1em; text-align: center; vertical-align: top\">31</td>\n",
              "    </tr>\n",
              "    <tr>\n",
              "        <td style=\"padding-left: 1em; padding-right: 1em; text-align: center; vertical-align: top\">Nâdiya</td>\n",
              "        <td style=\"padding-left: 1em; padding-right: 1em; text-align: center; vertical-align: top\">36</td>\n",
              "    </tr>\n",
              "    <tr>\n",
              "        <td style=\"padding-left: 1em; padding-right: 1em; text-align: center; vertical-align: top\">Jody Bernal</td>\n",
              "        <td style=\"padding-left: 1em; padding-right: 1em; text-align: center; vertical-align: top\">38</td>\n",
              "    </tr>\n",
              "    <tr>\n",
              "        <td style=\"padding-left: 1em; padding-right: 1em; text-align: center; vertical-align: top\">Aneta Langerova</td>\n",
              "        <td style=\"padding-left: 1em; padding-right: 1em; text-align: center; vertical-align: top\">38</td>\n",
              "    </tr>\n",
              "    <tr>\n",
              "        <td style=\"padding-left: 1em; padding-right: 1em; text-align: center; vertical-align: top\">Kanye West / Talib Kweli<br>/ Q-Tip / Common / ...</td>\n",
              "        <td style=\"padding-left: 1em; padding-right: 1em; text-align: center; vertical-align: top\">38</td>\n",
              "    </tr>\n",
              "</table>\n",
              "[3375 rows x 2 columns]<br/>Note: Only the head of the SFrame is printed.<br/>You can use print_rows(num_rows=m, num_columns=n) to print more rows and columns.\n",
              "</div>"
            ],
            "text/plain": [
              "Columns:\n",
              "\tartist\tstr\n",
              "\ttotal_count\tint\n",
              "\n",
              "Rows: 3375\n",
              "\n",
              "Data:\n",
              "+-------------------------------+-------------+\n",
              "|             artist            | total_count |\n",
              "+-------------------------------+-------------+\n",
              "|        William Tabbert        |      14     |\n",
              "|         Reel Feelings         |      24     |\n",
              "| Beyoncé feat. Bun B and Sl... |      26     |\n",
              "|             Diplo             |      30     |\n",
              "|         Boggle Karaoke        |      30     |\n",
              "|         harvey summers        |      31     |\n",
              "|             Nâdiya            |      36     |\n",
              "|          Jody Bernal          |      38     |\n",
              "|        Aneta Langerova        |      38     |\n",
              "| Kanye West / Talib Kweli /... |      38     |\n",
              "+-------------------------------+-------------+\n",
              "[3375 rows x 2 columns]\n",
              "Note: Only the head of the SFrame is printed.\n",
              "You can use print_rows(num_rows=m, num_columns=n) to print more rows and columns."
            ]
          },
          "metadata": {},
          "execution_count": 138
        }
      ]
    },
    {
      "cell_type": "code",
      "metadata": {
        "colab": {
          "base_uri": "https://localhost:8080/",
          "height": 275
        },
        "id": "levVu3sLCHWM",
        "outputId": "778941af-8af8-4e28-ff85-1ad5301798e7"
      },
      "source": [
        "k.sort(key_column_names='total_count',ascending=False)"
      ],
      "execution_count": null,
      "outputs": [
        {
          "output_type": "execute_result",
          "data": {
            "text/html": [
              "<div style=\"max-height:1000px;max-width:1500px;overflow:auto;\"><table frame=\"box\" rules=\"cols\">\n",
              "    <tr>\n",
              "        <th style=\"padding-left: 1em; padding-right: 1em; text-align: center\">artist</th>\n",
              "        <th style=\"padding-left: 1em; padding-right: 1em; text-align: center\">total_count</th>\n",
              "    </tr>\n",
              "    <tr>\n",
              "        <td style=\"padding-left: 1em; padding-right: 1em; text-align: center; vertical-align: top\">Kings Of Leon</td>\n",
              "        <td style=\"padding-left: 1em; padding-right: 1em; text-align: center; vertical-align: top\">43218</td>\n",
              "    </tr>\n",
              "    <tr>\n",
              "        <td style=\"padding-left: 1em; padding-right: 1em; text-align: center; vertical-align: top\">Dwight Yoakam</td>\n",
              "        <td style=\"padding-left: 1em; padding-right: 1em; text-align: center; vertical-align: top\">40619</td>\n",
              "    </tr>\n",
              "    <tr>\n",
              "        <td style=\"padding-left: 1em; padding-right: 1em; text-align: center; vertical-align: top\">Björk</td>\n",
              "        <td style=\"padding-left: 1em; padding-right: 1em; text-align: center; vertical-align: top\">38889</td>\n",
              "    </tr>\n",
              "    <tr>\n",
              "        <td style=\"padding-left: 1em; padding-right: 1em; text-align: center; vertical-align: top\">Coldplay</td>\n",
              "        <td style=\"padding-left: 1em; padding-right: 1em; text-align: center; vertical-align: top\">35362</td>\n",
              "    </tr>\n",
              "    <tr>\n",
              "        <td style=\"padding-left: 1em; padding-right: 1em; text-align: center; vertical-align: top\">Florence + The Machine</td>\n",
              "        <td style=\"padding-left: 1em; padding-right: 1em; text-align: center; vertical-align: top\">33387</td>\n",
              "    </tr>\n",
              "    <tr>\n",
              "        <td style=\"padding-left: 1em; padding-right: 1em; text-align: center; vertical-align: top\">Justin Bieber</td>\n",
              "        <td style=\"padding-left: 1em; padding-right: 1em; text-align: center; vertical-align: top\">29715</td>\n",
              "    </tr>\n",
              "    <tr>\n",
              "        <td style=\"padding-left: 1em; padding-right: 1em; text-align: center; vertical-align: top\">Alliance Ethnik</td>\n",
              "        <td style=\"padding-left: 1em; padding-right: 1em; text-align: center; vertical-align: top\">26689</td>\n",
              "    </tr>\n",
              "    <tr>\n",
              "        <td style=\"padding-left: 1em; padding-right: 1em; text-align: center; vertical-align: top\">OneRepublic</td>\n",
              "        <td style=\"padding-left: 1em; padding-right: 1em; text-align: center; vertical-align: top\">25754</td>\n",
              "    </tr>\n",
              "    <tr>\n",
              "        <td style=\"padding-left: 1em; padding-right: 1em; text-align: center; vertical-align: top\">Train</td>\n",
              "        <td style=\"padding-left: 1em; padding-right: 1em; text-align: center; vertical-align: top\">25402</td>\n",
              "    </tr>\n",
              "    <tr>\n",
              "        <td style=\"padding-left: 1em; padding-right: 1em; text-align: center; vertical-align: top\">The Black Keys</td>\n",
              "        <td style=\"padding-left: 1em; padding-right: 1em; text-align: center; vertical-align: top\">22184</td>\n",
              "    </tr>\n",
              "</table>\n",
              "[3375 rows x 2 columns]<br/>Note: Only the head of the SFrame is printed.<br/>You can use print_rows(num_rows=m, num_columns=n) to print more rows and columns.\n",
              "</div>"
            ],
            "text/plain": [
              "Columns:\n",
              "\tartist\tstr\n",
              "\ttotal_count\tint\n",
              "\n",
              "Rows: 3375\n",
              "\n",
              "Data:\n",
              "+------------------------+-------------+\n",
              "|         artist         | total_count |\n",
              "+------------------------+-------------+\n",
              "|     Kings Of Leon      |    43218    |\n",
              "|     Dwight Yoakam      |    40619    |\n",
              "|         Björk          |    38889    |\n",
              "|        Coldplay        |    35362    |\n",
              "| Florence + The Machine |    33387    |\n",
              "|     Justin Bieber      |    29715    |\n",
              "|    Alliance Ethnik     |    26689    |\n",
              "|      OneRepublic       |    25754    |\n",
              "|         Train          |    25402    |\n",
              "|     The Black Keys     |    22184    |\n",
              "+------------------------+-------------+\n",
              "[3375 rows x 2 columns]\n",
              "Note: Only the head of the SFrame is printed.\n",
              "You can use print_rows(num_rows=m, num_columns=n) to print more rows and columns."
            ]
          },
          "metadata": {},
          "execution_count": 113
        }
      ]
    },
    {
      "cell_type": "code",
      "metadata": {
        "id": "ia8HeAVsCI8D"
      },
      "source": [
        "Coldplay=songs[songs['artist']=='Coldplay']\n",
        "unique_user_Coldplay=Coldplay['user_id'].unique()"
      ],
      "execution_count": null,
      "outputs": []
    },
    {
      "cell_type": "code",
      "metadata": {
        "colab": {
          "base_uri": "https://localhost:8080/",
          "height": 717
        },
        "id": "IzpP151tCdlj",
        "outputId": "e5edbc3d-972d-4156-8148-d19cf72e2cac"
      },
      "source": [
        "Coldplay"
      ],
      "execution_count": null,
      "outputs": [
        {
          "output_type": "execute_result",
          "data": {
            "text/html": [
              "<div style=\"max-height:1000px;max-width:1500px;overflow:auto;\"><table frame=\"box\" rules=\"cols\">\n",
              "    <tr>\n",
              "        <th style=\"padding-left: 1em; padding-right: 1em; text-align: center\">user_id</th>\n",
              "        <th style=\"padding-left: 1em; padding-right: 1em; text-align: center\">song_id</th>\n",
              "        <th style=\"padding-left: 1em; padding-right: 1em; text-align: center\">listen_count</th>\n",
              "        <th style=\"padding-left: 1em; padding-right: 1em; text-align: center\">title</th>\n",
              "        <th style=\"padding-left: 1em; padding-right: 1em; text-align: center\">artist</th>\n",
              "    </tr>\n",
              "    <tr>\n",
              "        <td style=\"padding-left: 1em; padding-right: 1em; text-align: center; vertical-align: top\">9d6f0ead607ac2a6c2460e4d1<br>4fb439a146b7dec ...</td>\n",
              "        <td style=\"padding-left: 1em; padding-right: 1em; text-align: center; vertical-align: top\">SOAUBGU12A6701C57A</td>\n",
              "        <td style=\"padding-left: 1em; padding-right: 1em; text-align: center; vertical-align: top\">2</td>\n",
              "        <td style=\"padding-left: 1em; padding-right: 1em; text-align: center; vertical-align: top\">Swallowed In The Sea</td>\n",
              "        <td style=\"padding-left: 1em; padding-right: 1em; text-align: center; vertical-align: top\">Coldplay</td>\n",
              "    </tr>\n",
              "    <tr>\n",
              "        <td style=\"padding-left: 1em; padding-right: 1em; text-align: center; vertical-align: top\">9d6f0ead607ac2a6c2460e4d1<br>4fb439a146b7dec ...</td>\n",
              "        <td style=\"padding-left: 1em; padding-right: 1em; text-align: center; vertical-align: top\">SOCLQES12A58A7BB1D</td>\n",
              "        <td style=\"padding-left: 1em; padding-right: 1em; text-align: center; vertical-align: top\">2</td>\n",
              "        <td style=\"padding-left: 1em; padding-right: 1em; text-align: center; vertical-align: top\">Life In Technicolor</td>\n",
              "        <td style=\"padding-left: 1em; padding-right: 1em; text-align: center; vertical-align: top\">Coldplay</td>\n",
              "    </tr>\n",
              "    <tr>\n",
              "        <td style=\"padding-left: 1em; padding-right: 1em; text-align: center; vertical-align: top\">9d6f0ead607ac2a6c2460e4d1<br>4fb439a146b7dec ...</td>\n",
              "        <td style=\"padding-left: 1em; padding-right: 1em; text-align: center; vertical-align: top\">SOCVTLJ12A6310F0FD</td>\n",
              "        <td style=\"padding-left: 1em; padding-right: 1em; text-align: center; vertical-align: top\">2</td>\n",
              "        <td style=\"padding-left: 1em; padding-right: 1em; text-align: center; vertical-align: top\">Clocks</td>\n",
              "        <td style=\"padding-left: 1em; padding-right: 1em; text-align: center; vertical-align: top\">Coldplay</td>\n",
              "    </tr>\n",
              "    <tr>\n",
              "        <td style=\"padding-left: 1em; padding-right: 1em; text-align: center; vertical-align: top\">9d6f0ead607ac2a6c2460e4d1<br>4fb439a146b7dec ...</td>\n",
              "        <td style=\"padding-left: 1em; padding-right: 1em; text-align: center; vertical-align: top\">SOEWTBE12A58A7E7C2</td>\n",
              "        <td style=\"padding-left: 1em; padding-right: 1em; text-align: center; vertical-align: top\">2</td>\n",
              "        <td style=\"padding-left: 1em; padding-right: 1em; text-align: center; vertical-align: top\">Strawberry Swing</td>\n",
              "        <td style=\"padding-left: 1em; padding-right: 1em; text-align: center; vertical-align: top\">Coldplay</td>\n",
              "    </tr>\n",
              "    <tr>\n",
              "        <td style=\"padding-left: 1em; padding-right: 1em; text-align: center; vertical-align: top\">9d6f0ead607ac2a6c2460e4d1<br>4fb439a146b7dec ...</td>\n",
              "        <td style=\"padding-left: 1em; padding-right: 1em; text-align: center; vertical-align: top\">SOICNON12A8C140437</td>\n",
              "        <td style=\"padding-left: 1em; padding-right: 1em; text-align: center; vertical-align: top\">4</td>\n",
              "        <td style=\"padding-left: 1em; padding-right: 1em; text-align: center; vertical-align: top\">Life In Technicolor ii</td>\n",
              "        <td style=\"padding-left: 1em; padding-right: 1em; text-align: center; vertical-align: top\">Coldplay</td>\n",
              "    </tr>\n",
              "    <tr>\n",
              "        <td style=\"padding-left: 1em; padding-right: 1em; text-align: center; vertical-align: top\">9d6f0ead607ac2a6c2460e4d1<br>4fb439a146b7dec ...</td>\n",
              "        <td style=\"padding-left: 1em; padding-right: 1em; text-align: center; vertical-align: top\">SOKLRPJ12A8C13C3FE</td>\n",
              "        <td style=\"padding-left: 1em; padding-right: 1em; text-align: center; vertical-align: top\">2</td>\n",
              "        <td style=\"padding-left: 1em; padding-right: 1em; text-align: center; vertical-align: top\">The Scientist</td>\n",
              "        <td style=\"padding-left: 1em; padding-right: 1em; text-align: center; vertical-align: top\">Coldplay</td>\n",
              "    </tr>\n",
              "    <tr>\n",
              "        <td style=\"padding-left: 1em; padding-right: 1em; text-align: center; vertical-align: top\">9d6f0ead607ac2a6c2460e4d1<br>4fb439a146b7dec ...</td>\n",
              "        <td style=\"padding-left: 1em; padding-right: 1em; text-align: center; vertical-align: top\">SOMRYYN12A6310F0F3</td>\n",
              "        <td style=\"padding-left: 1em; padding-right: 1em; text-align: center; vertical-align: top\">2</td>\n",
              "        <td style=\"padding-left: 1em; padding-right: 1em; text-align: center; vertical-align: top\">In My Place</td>\n",
              "        <td style=\"padding-left: 1em; padding-right: 1em; text-align: center; vertical-align: top\">Coldplay</td>\n",
              "    </tr>\n",
              "    <tr>\n",
              "        <td style=\"padding-left: 1em; padding-right: 1em; text-align: center; vertical-align: top\">9d6f0ead607ac2a6c2460e4d1<br>4fb439a146b7dec ...</td>\n",
              "        <td style=\"padding-left: 1em; padding-right: 1em; text-align: center; vertical-align: top\">SOOWPBJ12A8C137FB4</td>\n",
              "        <td style=\"padding-left: 1em; padding-right: 1em; text-align: center; vertical-align: top\">2</td>\n",
              "        <td style=\"padding-left: 1em; padding-right: 1em; text-align: center; vertical-align: top\">Lost!</td>\n",
              "        <td style=\"padding-left: 1em; padding-right: 1em; text-align: center; vertical-align: top\">Coldplay</td>\n",
              "    </tr>\n",
              "    <tr>\n",
              "        <td style=\"padding-left: 1em; padding-right: 1em; text-align: center; vertical-align: top\">9d6f0ead607ac2a6c2460e4d1<br>4fb439a146b7dec ...</td>\n",
              "        <td style=\"padding-left: 1em; padding-right: 1em; text-align: center; vertical-align: top\">SOPXKYD12A6D4FA876</td>\n",
              "        <td style=\"padding-left: 1em; padding-right: 1em; text-align: center; vertical-align: top\">3</td>\n",
              "        <td style=\"padding-left: 1em; padding-right: 1em; text-align: center; vertical-align: top\">Yellow</td>\n",
              "        <td style=\"padding-left: 1em; padding-right: 1em; text-align: center; vertical-align: top\">Coldplay</td>\n",
              "    </tr>\n",
              "    <tr>\n",
              "        <td style=\"padding-left: 1em; padding-right: 1em; text-align: center; vertical-align: top\">9d6f0ead607ac2a6c2460e4d1<br>4fb439a146b7dec ...</td>\n",
              "        <td style=\"padding-left: 1em; padding-right: 1em; text-align: center; vertical-align: top\">SOUKJBT12A6701C4D6</td>\n",
              "        <td style=\"padding-left: 1em; padding-right: 1em; text-align: center; vertical-align: top\">2</td>\n",
              "        <td style=\"padding-left: 1em; padding-right: 1em; text-align: center; vertical-align: top\">Speed Of Sound</td>\n",
              "        <td style=\"padding-left: 1em; padding-right: 1em; text-align: center; vertical-align: top\">Coldplay</td>\n",
              "    </tr>\n",
              "</table>\n",
              "<table frame=\"box\" rules=\"cols\">\n",
              "    <tr>\n",
              "        <th style=\"padding-left: 1em; padding-right: 1em; text-align: center\">song</th>\n",
              "    </tr>\n",
              "    <tr>\n",
              "        <td style=\"padding-left: 1em; padding-right: 1em; text-align: center; vertical-align: top\">Swallowed In The Sea -<br>Coldplay ...</td>\n",
              "    </tr>\n",
              "    <tr>\n",
              "        <td style=\"padding-left: 1em; padding-right: 1em; text-align: center; vertical-align: top\">Life In Technicolor -<br>Coldplay ...</td>\n",
              "    </tr>\n",
              "    <tr>\n",
              "        <td style=\"padding-left: 1em; padding-right: 1em; text-align: center; vertical-align: top\">Clocks - Coldplay</td>\n",
              "    </tr>\n",
              "    <tr>\n",
              "        <td style=\"padding-left: 1em; padding-right: 1em; text-align: center; vertical-align: top\">Strawberry Swing -<br>Coldplay ...</td>\n",
              "    </tr>\n",
              "    <tr>\n",
              "        <td style=\"padding-left: 1em; padding-right: 1em; text-align: center; vertical-align: top\">Life In Technicolor ii -<br>Coldplay ...</td>\n",
              "    </tr>\n",
              "    <tr>\n",
              "        <td style=\"padding-left: 1em; padding-right: 1em; text-align: center; vertical-align: top\">The Scientist - Coldplay</td>\n",
              "    </tr>\n",
              "    <tr>\n",
              "        <td style=\"padding-left: 1em; padding-right: 1em; text-align: center; vertical-align: top\">In My Place - Coldplay</td>\n",
              "    </tr>\n",
              "    <tr>\n",
              "        <td style=\"padding-left: 1em; padding-right: 1em; text-align: center; vertical-align: top\">Lost! - Coldplay</td>\n",
              "    </tr>\n",
              "    <tr>\n",
              "        <td style=\"padding-left: 1em; padding-right: 1em; text-align: center; vertical-align: top\">Yellow - Coldplay</td>\n",
              "    </tr>\n",
              "    <tr>\n",
              "        <td style=\"padding-left: 1em; padding-right: 1em; text-align: center; vertical-align: top\">Speed Of Sound - Coldplay</td>\n",
              "    </tr>\n",
              "</table>\n",
              "[? rows x 6 columns]<br/>Note: Only the head of the SFrame is printed. This SFrame is lazily evaluated.<br/>You can use sf.materialize() to force materialization.\n",
              "</div>"
            ],
            "text/plain": [
              "Columns:\n",
              "\tuser_id\tstr\n",
              "\tsong_id\tstr\n",
              "\tlisten_count\tint\n",
              "\ttitle\tstr\n",
              "\tartist\tstr\n",
              "\tsong\tstr\n",
              "\n",
              "Rows: Unknown\n",
              "\n",
              "Data:\n",
              "+-------------------------------+--------------------+--------------+\n",
              "|            user_id            |      song_id       | listen_count |\n",
              "+-------------------------------+--------------------+--------------+\n",
              "| 9d6f0ead607ac2a6c2460e4d14... | SOAUBGU12A6701C57A |      2       |\n",
              "| 9d6f0ead607ac2a6c2460e4d14... | SOCLQES12A58A7BB1D |      2       |\n",
              "| 9d6f0ead607ac2a6c2460e4d14... | SOCVTLJ12A6310F0FD |      2       |\n",
              "| 9d6f0ead607ac2a6c2460e4d14... | SOEWTBE12A58A7E7C2 |      2       |\n",
              "| 9d6f0ead607ac2a6c2460e4d14... | SOICNON12A8C140437 |      4       |\n",
              "| 9d6f0ead607ac2a6c2460e4d14... | SOKLRPJ12A8C13C3FE |      2       |\n",
              "| 9d6f0ead607ac2a6c2460e4d14... | SOMRYYN12A6310F0F3 |      2       |\n",
              "| 9d6f0ead607ac2a6c2460e4d14... | SOOWPBJ12A8C137FB4 |      2       |\n",
              "| 9d6f0ead607ac2a6c2460e4d14... | SOPXKYD12A6D4FA876 |      3       |\n",
              "| 9d6f0ead607ac2a6c2460e4d14... | SOUKJBT12A6701C4D6 |      2       |\n",
              "+-------------------------------+--------------------+--------------+\n",
              "+------------------------+----------+--------------------------------+\n",
              "|         title          |  artist  |              song              |\n",
              "+------------------------+----------+--------------------------------+\n",
              "|  Swallowed In The Sea  | Coldplay | Swallowed In The Sea - Col...  |\n",
              "|  Life In Technicolor   | Coldplay | Life In Technicolor - Coldplay |\n",
              "|         Clocks         | Coldplay |       Clocks - Coldplay        |\n",
              "|    Strawberry Swing    | Coldplay |  Strawberry Swing - Coldplay   |\n",
              "| Life In Technicolor ii | Coldplay | Life In Technicolor ii - C...  |\n",
              "|     The Scientist      | Coldplay |    The Scientist - Coldplay    |\n",
              "|      In My Place       | Coldplay |     In My Place - Coldplay     |\n",
              "|         Lost!          | Coldplay |        Lost! - Coldplay        |\n",
              "|         Yellow         | Coldplay |       Yellow - Coldplay        |\n",
              "|     Speed Of Sound     | Coldplay |   Speed Of Sound - Coldplay    |\n",
              "+------------------------+----------+--------------------------------+\n",
              "[? rows x 6 columns]\n",
              "Note: Only the head of the SFrame is printed. This SFrame is lazily evaluated.\n",
              "You can use sf.materialize() to force materialization."
            ]
          },
          "metadata": {},
          "execution_count": 116
        }
      ]
    },
    {
      "cell_type": "code",
      "metadata": {
        "colab": {
          "base_uri": "https://localhost:8080/"
        },
        "id": "2yaU_kwtC8E3",
        "outputId": "596eb918-2e9e-4f5b-9bca-dbcb663b8c54"
      },
      "source": [
        "len(Coldplay['user_id'])"
      ],
      "execution_count": null,
      "outputs": [
        {
          "output_type": "execute_result",
          "data": {
            "text/plain": [
              "13945"
            ]
          },
          "metadata": {},
          "execution_count": 119
        }
      ]
    },
    {
      "cell_type": "code",
      "metadata": {
        "colab": {
          "base_uri": "https://localhost:8080/"
        },
        "id": "5PCnOwX6CvqU",
        "outputId": "40122415-c249-4d27-c681-f874b1941325"
      },
      "source": [
        "unique_user_Coldplay"
      ],
      "execution_count": null,
      "outputs": [
        {
          "output_type": "execute_result",
          "data": {
            "text/plain": [
              "dtype: str\n",
              "Rows: 6340\n",
              "['4867d5516a280db13695b9b9c7ce6b574f34c6b4', '900ed526660df9c3442ebe736db94eb0bc251b73', 'a34314df8787c38474847520beb1aff59611af28', 'f95cf2639491a235881359cfacfbe99dbe9784e1', '44390e2c54f1307b56fb0b1d4b4b89ee181942fe', '3621baf59d58962f2d0e1c8923ac08e663caafae', '83b1428917b47a6b130ed471b09033820be78a8c', '0ecb1f480ebb237dc7821c898c94219cdfe38789', '18325842a941bc58449ee71d659a08d1c1bd2383', '5f98b842f9546755d5da7bc0ea1627e97ac07cea', '0f7ba73c2939bbc3914c98d71b577c24369b4078', '9685135efd0757150edb8d49e192fbb301e70e94', '3f2a5636078d12dab36f61f92efc1fc62f72f815', '878d66c89048528dd629cab65760188353624aff', 'b472a8e0407792249a28e8a24f0f82e6cc860822', '360b4499ebb6a98afbcfe95377ff8709eb95faac', '908d133f745bcab047d97dd0ecd1da3f53ee53d4', '5318605561e19f37ea36ee3013acda16c53bac38', '5ea99baa1641cb509749e53bbe7bff4b7521ace3', '046311081a8703bdee3be2e6d9da07ccdc135340', '6523bfcf51658ea82550a69ea1393a44a7f68622', '9af6d375c6ac606acda8e2704f49b7770be0e06b', '225ea420b4bede50919d1bfe24a599691522d176', '2a806a33a9b8394ea22a14a06eafeb4b0aef0af3', '6b17deda6a5e5f22005e3aebc007e74c2574c7df', '9665c54fd38d681a2c80b56a7e92a21ab388ed7b', '02dcb27d8367b0d52e3962afbe3c7290d1bba93b', '39e3f95866d57b76064864a48823d0eeb90704fa', '9fd403cf953d4bc8f77980f2bd9dbb174a567d15', '34e861a2cbcb3a05f6746b9b8152948e42dd353c', 'b850728862a266078fc87cb041bbe352185da495', 'e70c4dd69296c7c57f64feb49a4a2a19bf3f688e', '38b77950a0d776effcdd6a7c101cc4d008059885', '39e73752d9e0bcf08ecc456495f979fa06223b4d', '8c1022e54b28810ca20abb601328f1105f025125', '11e266d0d2d7a841bd1a2604b14cc05f4bcecd8e', '531bbf65b9fd21d4e56d837def9399f304691207', 'e1deb0afe4e908da20e96879a39601e28760d62f', '632af0475de5f2d90838520df96e4b681a383114', 'c51a526c11322c4bd87f99f80e68776110fe727a', 'c46038495c5f7fe43b12c3cea012517998fd78a0', '9e47dcebaa4af46b192ff8cc1b5133b1d93fcce5', '8b46ff34ca4e56f7332775f14eab898eeb23294f', 'a66ea5374d0d605a51307e13874395a625500d52', 'd6dbb0578fe5baf513cad07fbf07801f89fd9313', 'ff086fee0f50246d91aa14b65faf1e0867baaad8', '440d746bca2c78f02d4b1af23b7b0d07cd3a489d', '3146e27848fe3e0987a6ccab87436527248d0bb6', '64d4b02087e9433c4a82aeba087cd8967453afa1', 'd7a9aecb32a5c64da4247432da00be1173794f26', '58fcc1ee8eb4bff5a9bedff6e7510f0167367c1a', '908d50d0cebcaff0f40b1393ba43e46a831d069c', '9b5a8a4cf10004440a9d392eef3a53101f3a918e', '6a807c22703065088a2e2fa4a0c4453070637718', 'e515167115d0b125f811056dd5113f9cad86855d', '5c4632b90bed9b1c69573f1de1c8d6dee1eb8d0c', '3439613a0f559a6137334bc4454a09a88e06392e', 'ca62b0779d7b6cdaed0408230e5421ccb78bae0c', '2cc3314f90b8a3206a1ff3982d9195244f0504f0', '5264bce396b58ba18b13fa8bc692b9e13095b238', '3bc0d3c1c82b4160b388eaaeb97bb006ffd4b038', 'c2487df39d832b0372de736e8193aa04cdce1e7a', '13728a9bd30a2aa451a849173ac7609417b0b563', 'fc7e6b0ab9b9ecd499369837f29ec8af3aa74489', '3d68b21acc9a5f5ec999d230ee694e5ce7cc3b65', '4acef2396c81f71fd57eb99b69ade6e6511fb8e4', 'a57d0e93327e03ba4f39cfdd633dbcb2b4f526f6', '3c579fbbb5d31d669ce02f69a131cda63b65f918', 'e7f52e05379405efb9f37186d344f01648237a16', 'e8a637985a7f9c743a135c5a110654909388be16', 'dfb344b0c7ded8a6de5a94f7e94e8ad0fc807b07', '767a1998bbd47e7ea6c587dc131db8a7a98e6135', '13239e5c03b7cb15ed6a2007920f2e5d36466af2', 'c453bc1f727c61219e4ee2807628067d614af345', '9116c65d75343f5ac19f27b2eb8b1b447855e2ba', 'a673806a59c9d4a9148147fc6dddcd1ef58342ea', 'b919f662b26957782fa1ea3543438edf53489ec7', 'cdc56c276751b2f52b19023591f50feb9c5492fb', '9fd616a80b94d0b0f4b1dd438eae250e6fab9bfb', 'c8529f95b292bad3a1d6ecaaa36f1d102b24598f', 'ca51216616cf1953ee93db8c54188a1eea1d5e6f', '1ca1cdacb789eee8e097bfa049771bd874d6bbb7', 'a0e5d1525ec5c7efb30108494aa9349acc24cd82', '6aec4dab96d3d0c174c554cc6c663ddca006e66f', '155a28718ffc04e874d0bf3a734b1fcdc3ce3797', 'dbc6b70d02051fa6925fe7827be3316543c10537', '0f5d113aeeaba246a610291d7e26137c78413e6b', 'bfb312b86758a4749f7ebe0767a6344a0187fe88', '21061b3af26cd9d0ac1c43cc9bc22d7416ff65f4', '119328758b74419eb99b031a4966253bd493c66a', '673f20cd0efd60a6833b32fca5da14e626e45236', '55a33f397fe9ef6dde63f140ff47666bc7a9247b', '0d1ca69de3aa4ab48aa7e9e6eb42d1a824515bcb', '25c847dc1d33e2b43de9a41569c2feee473411c1', '9bfba2830c7e05b959449676ed2faf3b189f1745', 'a511000cf643c94115e07e0a91e81213e129a782', 'c89ebf23ff1d22634bc9e8b64421db047c50d1b5', 'd64948d5c1557c682ae3b172edc2cc96924fbb17', '61a48f347a6b9218cdc98458c7da13ba8fbd86f6', '4d7b263e00678587c92a381904862c258c995f3a', ... ]"
            ]
          },
          "metadata": {},
          "execution_count": 117
        }
      ]
    },
    {
      "cell_type": "code",
      "metadata": {
        "colab": {
          "base_uri": "https://localhost:8080/"
        },
        "id": "T8ajQFGfCyhU",
        "outputId": "860d6c6e-41c1-4518-d049-6a157450098e"
      },
      "source": [
        "Coldplay['listen_count'].sum()"
      ],
      "execution_count": null,
      "outputs": [
        {
          "output_type": "execute_result",
          "data": {
            "text/plain": [
              "35362"
            ]
          },
          "metadata": {},
          "execution_count": 120
        }
      ]
    },
    {
      "cell_type": "markdown",
      "metadata": {
        "id": "PX17EFRDFfFJ"
      },
      "source": [
        " \n",
        "## Which of the artists below have had the most unique users listening to their songs?\n",
        "\n",
        "\n"
      ]
    },
    {
      "cell_type": "code",
      "metadata": {
        "colab": {
          "base_uri": "https://localhost:8080/"
        },
        "id": "NJo54l98EcEG",
        "outputId": "816c5eb9-f0df-453a-f3b2-68755ca18e33"
      },
      "source": [
        "unique_user_kayne"
      ],
      "execution_count": null,
      "outputs": [
        {
          "output_type": "execute_result",
          "data": {
            "text/plain": [
              "dtype: str\n",
              "Rows: 2522\n",
              "['900ed526660df9c3442ebe736db94eb0bc251b73', '5c604b6fc3d4077dfca40a57eea49388b69a19d6', 'b4c75391d49ce797c1af18468f1aa3ae5943f9de', '18325842a941bc58449ee71d659a08d1c1bd2383', '9685135efd0757150edb8d49e192fbb301e70e94', '71c17371dff96abe86663a7dc83e4334f3e4a67f', '9f78f038854c3ffb9e864ad281a7201d4dd999b2', 'b8474ad076d711b04a8732baab59872e72b487ff', 'd98c7abec08395694f7e469a8780d5cb54c809ba', 'b82c94bab6013453c2a0618f2079dff7c74599f0', '8c1022e54b28810ca20abb601328f1105f025125', '3abef8c80a5c697fcf7da4495bef26899ed13c77', 'c4f5e1f732f7ee646b58045d23643243abb561de', 'a90a12b1d303da46ecb3f77b8efd0d03370a9e86', 'e0c4690cbdd89e8817e7a25bce072b1ddc9618a5', '4c7f3dcad92dcb7e625aeb61e3b79d2fdffccc93', '744c384772ec76b403094d3ee97d2d6e07d3e0c3', 'ac76f1fb38d2c9c27178cccc502c2be2cc5b9acf', '82c458f2e9bc30f87890b408e5b965114989edf4', '37b97745b5649ca367aab9e4999528b470ecc692', 'd6dbb0578fe5baf513cad07fbf07801f89fd9313', '99d724639a1e51f53770236f24c87e2ca9126ec6', '07ca4e60b62326eeef7cff3bd95da257dc96b812', 'd36f8a8106e7f8f1dc111eb5cb5cc9dbe5ae07a9', '58fcc1ee8eb4bff5a9bedff6e7510f0167367c1a', '7a1e5f38af5197ee59857b48ac1eb2854e84a000', '2f03ae415b7efb7c015cdc79fa6166dcf1ddef32', '87fa091833add3a9b90404d4bae5d2cd709f632b', '790839cdd4ee24d5998952c1175848a51ec510a8', 'f34ffb77d1ca071bfa40fcf51fa5b716cd8f4219', 'fc7e6b0ab9b9ecd499369837f29ec8af3aa74489', '2bf4aa323998874797bff1b9a7d4049e38c2e706', 'efa2438cc0dba26b71b88fbf2b4fc27641c9a902', 'd0e43e3058cbd5a55ab57b5d367b154c35650419', 'e843882b389e96078a7b94476d9d1e884bd812e7', 'eb7f101c8b52a56d0e73100f5dbbd609df79c620', '9116c65d75343f5ac19f27b2eb8b1b447855e2ba', 'd6837d433e0f6731840991046ea4db076c1060db', 'ed328acd96a4147df93f64586eb56103ffa26c5e', '5d5e0142e54c3bb7b69f548c2ee55066c90700eb', '55a33f397fe9ef6dde63f140ff47666bc7a9247b', '95e20b2c4f1259ebf5cf4b05cbe9e7f7b9b79f74', '1dd37d51b9998623083f5b276ba8e95fdf72a0d5', 'f1a5555ab79f8a31c8d79112f7be7a84349bf92f', 'ff9de5c42ae7797c4cdcfb04370e77c51c80beef', '382868b3daba2e6924877d39492079944e998b55', 'de94198175aeadef534c4584691817d154cb9d41', 'd08fc0b2e67e4dc36b1b04397420a1cc2af137c0', '8584451eb3d5182afcbf9b5cc19e20e21f7cede2', 'c99946eb35e4afe71c11bc98fb5e5673a121db93', 'bdaba23f8e99fe6766d093d6849783e6316a500c', 'c1329a0da27e6ee4b09e570a71312111d4f0189c', '18142d8258c86a7f92be79afaff23390a4fd527a', 'c6a107ef87bd4fe87e399b5cf1c8d1e9c49f18de', '9ae6728cbd759d2cd5ab4ccbdc1ee0b35331c78b', '086ec1b75b81368a614a2ffb73087e1ce4e5f008', '59cdfbf5b20ad2c01fcc0f91efae59d8cc193be3', '31ba2ce3ed47b193d0e8c3ba9bbc44f452542e38', '3ad8a10d38d8fb5a1947217c946f7091a12bd53b', 'b4ed2e915b089c7d8d75d129a868212816c73f87', 'ba21d60c0ee0a8fe17c37477f9428b19f69a6ee7', '83188c3328c10898012181b0f430519396f9f184', '9cdfc2f12bb7591afefca28682345667f3bca6e4', '12789b3b67efc997897d019fff50e226357ebbfd', '536b99fac3204bc6667991d6efc1b8e9cbf4680e', 'e3f8995093f0eef5b2d42524ae7a0be636267501', '8e560b427cb35f48ff51b5cc8b9f83672af25b1e', 'f63dd9cbfdb69a6fc1bae4f9722e4c4781a3ddb1', 'df35169cca3926c1deb012edf045d2e161c353f2', 'f6763e5bf2e5ee2e363c1593728aac0e2aa38a10', 'a84a112e35ae2f5ddf7eca7d816a1f2765a9cc02', 'dc17f3b44d24b8ce3de605967f9ed3263c53b6fc', '205a0c66dd63a3e53b03ef4f195b17fe540aa119', '02f4560725c8d330688f0c392789ba2d53654632', '705449d46b99784af9bca24a0fa4abf91695e47e', '3a2e72debb878bdc9abc0938ae4dc5789c20a3b2', 'c58b794a6ce3dc723729f846c63cd4059c157515', '0bc4db4d1c154eb886f2b7093d39551f8db032fe', '32b05b10e8a25ebccb561adaa7033d3eefa8900e', 'ca3929eaabe4b0f59515c775b0dd5436f1ff09d6', '3f8f6107fc8a5ed5770a84baf3bd08c284c97cf0', 'fac8e47cd0cda54f910ab135cc977553717d69a6', '312efc1c3eb41bf1fa1d1e57443f74509fcb222e', '99c592d0064709497b9e18186ee9ccd75e02bdca', 'dea2c7bf2fd8001b6f09f01dff1217ea76a28ac9', '5c4f5bef192bc76cee4c4cbcd44d7ba5a2df5737', '4c9ef5f5ebe80d3f949bdcdb724800a7e33f2268', 'f9eecc6b0326348a943a91d750472d65d14a3c94', '932ad377a3bb70d0d32969f4941f0268d560afc9', '6a1432a23977a6515dcf49092f3424fecce2fd44', '871d004a886a45317e425b5516ba3391b50e2443', '8c9fdb5f1bb4e817ca4fdcbd2a7810fc286064d6', '62b62d87446db8c34cb64c2f3371ab1493ca0271', 'c697d270d46e1ee69569f60265c287b84f65ec80', 'd0f0134594ad065e29e9a236da4c38e7ab7bd3e8', '904fac1e1c7470c1c47bc3d2cd5f95b8dbedcecf', '4eef50154960c5238764dbda04e76df48206ec3b', '04935d7e3f0be93ac79e3d9c088aa1a0af6d9d80', '417862529ebc6866ea0baa9f4a066d7cbfbb4adb', 'bf02313f9b057d4d69124a7c1c4023f44167c065', ... ]"
            ]
          },
          "metadata": {},
          "execution_count": 125
        }
      ]
    },
    {
      "cell_type": "code",
      "metadata": {
        "colab": {
          "base_uri": "https://localhost:8080/"
        },
        "id": "b42gUyR5Fs1u",
        "outputId": "5d6f0e02-8886-4a33-837f-6f50b8a8604c"
      },
      "source": [
        "f=songs[songs['artist']=='Foo Fighters']\n",
        "f['user_id'].unique()"
      ],
      "execution_count": null,
      "outputs": [
        {
          "output_type": "execute_result",
          "data": {
            "text/plain": [
              "dtype: str\n",
              "Rows: 2055\n",
              "['dc4a6ab83084f5f1c858793fa22f1200d5b6c267', '83b1428917b47a6b130ed471b09033820be78a8c', '5c9f68452a0a591d1fa7987bf2465fa646b99788', 'fc1b68dc9b3f0dd8752dd27cf5abc72993d6f81b', 'd98c7abec08395694f7e469a8780d5cb54c809ba', '4a3a1ae2748f12f7ab921a47d6d79abf82e3e325', '73453446c77ec6d9f01804dd94b4548a1680e828', 'e70c4dd69296c7c57f64feb49a4a2a19bf3f688e', '66515166dc465cb51af511db9f6e708095af31a6', '632af0475de5f2d90838520df96e4b681a383114', '9e47dcebaa4af46b192ff8cc1b5133b1d93fcce5', 'b41053464974bb6df6cabd2dd7a66039f182e9cb', 'd95df4df9d6f25e76f13556ce6cf5b50f979c76c', '2cc3314f90b8a3206a1ff3982d9195244f0504f0', 'd0e43e3058cbd5a55ab57b5d367b154c35650419', '13239e5c03b7cb15ed6a2007920f2e5d36466af2', 'b919f662b26957782fa1ea3543438edf53489ec7', 'cdc56c276751b2f52b19023591f50feb9c5492fb', '8a4dda75f8f820852dccd878ae2f725fd54d947d', 'c8529f95b292bad3a1d6ecaaa36f1d102b24598f', 'ca51216616cf1953ee93db8c54188a1eea1d5e6f', 'dbc6b70d02051fa6925fe7827be3316543c10537', 'f6255ef4f5df81d81ff98f9fde5f19e0b9e28613', 'f9d2599a999d601ad598fe0cb79b41329ba3d42c', '8c88450b68ebcace647cf0b4d25ec023a512c8ee', '822d61e5fe7d8b7b120e1fad28fce06a48db2255', '8ab12a0531093fb7180cbc53cf6466fc913370e9', '19e4bf53bf61f2348a2715ea99d3d0c416a51bf0', 'd2c662dab58b57d6438e664ed7ad411c64791efe', '1e8b32fed770c105c85284eeefdec5b5ec35dc43', '06010bea94826f4b317ed734ef0e320364b7be39', 'd3036a899284146c078dd9a9ae7a275988e66160', '94f1aa677069c65df6336e52d3b1109f40df7355', 'e4f9cfac3c236a5f3680dba4beb094b2c277b6ac', '8c4a88d04a71cafedeffa47b46d3ad44f523c0f4', '4a7a2bb6ceca48ada53f859763ea2aba05f49516', 'd056ed2b72bf6df2fab8392505f4c371bbc600cf', '3317977b0d3a0a4a3ce8b47ae22a75d62bca2a20', 'd6eb3834db466dad7885fcb7068ba3e2da7ebb60', '4df851b2aa631d02e299b79156a12d9581a9ab9f', '76781a987bd206a5a5581f843bd2363225fb4a18', '8e560b427cb35f48ff51b5cc8b9f83672af25b1e', '81f5e4f9d86d4df88750dbf81bc17addc6ef3c4e', '1f1db21105cbc879e195577db88acf044fc4deb6', 'd7cff075521649636b455da7cb259d2aee8416dc', 'e8b9604867cabe7ec34ee7db9bee54d93f3158c3', 'c3c1f32554541b5263e4c0801fc81075365f1916', '96a95de817bacaa7dce891d978500b222e12de9e', '763db23a8347f8103a8c99905b34fe24f85704ca', '18fd5364b431023cd1d6e469dc11140688106a21', '5f48e02d2c39c14ea6c3efdf832f9e091ec7009e', '4d784ec57dd616b92f6ac856c196951fc2226157', 'bd51142252349f35b2f2b0545065249936552a2a', 'd9cc3601c05102e33fc41ee319ee7ccf7bbb3fb8', '1d5425537c3e95af824d6ab174cc07daff6b030b', 'df085609a2ae4c23d92476548bf12fa29afd7774', '40d803e96c3852afb0d2d741b3737f714b4d79fe', '771e13e5f01cd1fe1024f97e735d34f18a0bda67', 'd188dfd446f57e544477e84f336e9633c0c4f5e0', '5a5e6993f2b2002209ecabf1162ee241aa4b73f6', '8fc5e2933511644954707d474eb0e3ca50bc902f', '78fc4c761dd20d9fc9f16826a2062829b89b5e0d', '20eb4e86128ba1b24748c42275356dc7e4806ac1', 'b78eda8b0ac71008ae2c4bdfbd1a8dd6b98d1410', '97c86e154dd5f98f6250c2de18e6f431b3a00def', '932ad377a3bb70d0d32969f4941f0268d560afc9', '82d4e28ae90ad0adbd1bfe6bb80e661aef088169', 'dfb5b9ac32dec9feeb1f846aa3a9dd2c547ee9a2', 'd45acd9ba011e8e88fcc922cb5fe5786746c6885', '595f872a132675e6e9940f37429367472c5b9161', '037a544789425070598d8de42f06fc7dd3f49bd9', '5e161b9e14f303a0cef2d3f44d07dd946549f89f', '3887c145fb91a26b3ce9c80903231539411c601e', '3212cbd1512b015d4ac30a07f8a1c0512a1c49b0', '9954c0a333df0a5cca17e81781f35155a1f3d298', '11a6b843c5161507f323fd574f0c0fe953d09fe5', 'a201e7bf3edaa5ab837c3725b91beba0b93c65c8', '6c4b89b09b634ff6dbb13f616d20c9f908c1ccec', 'e85bb213da0624269a1356bcb004fc87a9a92229', '46e4998584dc59acb5be224f3c9c481ec6c6283e', '0684a2f3b2700f128f268bc1d2ff460cfb096f20', '2bfb4e41fa919e0313c63ee16a7acfb38082040f', '399f1a0ce21480605587ebdc926346a97b9db5a3', 'bc908051af3f5aa5ee07b341e10edced8b8d4d09', 'cb0934c10663ed3f4a13c8e4fcd4bc08ea08c0aa', '32c46af3c6934225f4b4bc29c5ed1fd4acdfbc6e', 'dcaca21546352fc3eba998f9139a45505ec2733d', '15db9928831a6f3206918dec0f63c7e4a077eb63', 'ead6a62fc06ab22a9e2dcb3a8e254903967238a1', '61d0aafa1ff01dbca287e7fc92f2e0ceefa3e3bf', '43ccaa2106bbca57992ec9d89f05c2a022ecbcf3', 'b247831747088e8e8d672923ee5b16373dcd38e1', 'aee02d259133c391eb2e5599bd4259d99a0a58b9', '1f89725bd2030370acabe0872a8871cda7b16e82', '056d2cef8d222940468c84af9dded7c2ff5f6813', 'a0fe44e63d4540aecf068fe94ac8c102b5b84d38', '24c414e42be7976e3900fd26662d60b5acc424b3', '71f7020c5ab450ea0be0e2ad28199e61e0428d39', '1dbe96766e39e2297c1d4d92318825c61efce164', '920fb1c1cfddc1b2d3a95cbcd12a1d219b02eaa8', ... ]"
            ]
          },
          "metadata": {},
          "execution_count": 129
        }
      ]
    },
    {
      "cell_type": "code",
      "metadata": {
        "colab": {
          "base_uri": "https://localhost:8080/"
        },
        "id": "yrI8y0sxF0AU",
        "outputId": "e09fe272-566a-4b6c-ae0a-cf51f0a19244"
      },
      "source": [
        "t=songs[songs['artist']=='Taylor Swift']\n",
        "t['user_id'].unique()"
      ],
      "execution_count": null,
      "outputs": [
        {
          "output_type": "execute_result",
          "data": {
            "text/plain": [
              "dtype: str\n",
              "Rows: 3246\n",
              "['02f015d32ac2cd1e52d26e3ec36048711dd5711b', '968f1baebc490d3c6999ee6c85c5cab8b726b347', '8a8eb87dc4de1a671451e4f6745739c77b97c202', '360b4499ebb6a98afbcfe95377ff8709eb95faac', 'b8474ad076d711b04a8732baab59872e72b487ff', 'd99ead40aad574d76c8c1121d0a0b3420987ab2a', '62c4bf887b7b1e5cf6ab62723481099c7f98377e', 'e0039fa2e1d0c51c729d2521a48eccc52a375cc2', 'b7b5408ba99a68a4d8d9df6007e8516a8fabb43f', '92337c69d4ff1c13f5c9ad4e9c62a0654be9d230', 'e8813fe73c90d69b4f744251c68fce896ec2aede', '73b81196e7429ef73636704acf70fa5cb22e0294', 'a558facade7c856f056b13692c348ad22c624633', 'affe67dcd8452def0784688df632cbf53b4c66c6', 'b82c94bab6013453c2a0618f2079dff7c74599f0', '7906b560bae5f8b3eb5d7f78ae65dbe94f248f4d', '8b46ff34ca4e56f7332775f14eab898eeb23294f', '02a898aab6609c477535af8a92036687d17b75c7', 'd6dbb0578fe5baf513cad07fbf07801f89fd9313', '5d55e0bebd46ac419e4e0fbacfee57602fe8cc1f', '08698dcb702ef3b79c57ab3027e6e3db8a6df526', '1c765481d4103de594ce8292b199cf7ce5aaf696', '56dd181814f67cac489d51c5828f2905c165db47', '9232eeaa942af2ff3f3e2b90f996d3ad003e4b31', '13728a9bd30a2aa451a849173ac7609417b0b563', '41787ce6600a8dd9579377ae90e21bec3b65a09a', '88c4a09085538ff1d25405ea2bcf97cad800af3b', 'e7f52e05379405efb9f37186d344f01648237a16', 'd0e43e3058cbd5a55ab57b5d367b154c35650419', 'b3bda43148fb16602e0839344c7e4ae82277b68c', '6a37f8118af2f2ac3a9acf220fc3d5c5bd20b084', 'b6c6617585b3b80edb02c5df9b161bb28000478a', '9fd616a80b94d0b0f4b1dd438eae250e6fab9bfb', '5d5e0142e54c3bb7b69f548c2ee55066c90700eb', '9c9fa2abc2ede71089c682f06ec9626c3e6cfa04', '56df8017a3210df0806714dd7ca43755b33b27a1', 'e7efda75b906b247d4c78d957cde9fe2998b2361', '1d78cca2d2fa9c19bc9f73e721136fbebb2d8ed5', '34ab060bf8ef3c3708ef66c60b5e025f5c6d083c', '91ab0be9a4d9c9ef3e38f7c9b21507d672c7bf11', '4d7b263e00678587c92a381904862c258c995f3a', '0427a32b3c7cee90eadbeb0a11349bb5c7ab286e', '8ab12a0531093fb7180cbc53cf6466fc913370e9', '0a20576ead7f1849c267027ad27a8b68c267e1f9', '9e02b9e44467fbe8fdca3c5724cba7cb34d55a1b', '06010bea94826f4b317ed734ef0e320364b7be39', 'bbbdbcecf3130d9975abae71581e362a100bde2f', '0998c6d0bc4a7ae29bd2835f36c8d38bb8245dab', 'bdaba23f8e99fe6766d093d6849783e6316a500c', '5fcc6dc3f10c59c285e7be96a93ccf78aec78200', '645a71077552e42572a9472eb41ec1f5d192e7b3', '9b8ca75bf3eafca09c69ad0f0c38bfe0cbab387b', '6e1807de2afc4221553409949926f23e36e9a4e8', 'a528763f37c5ba598fa746f04743efe5e4ea2c1c', '4a7a2bb6ceca48ada53f859763ea2aba05f49516', '87c3ca32d1f6d7ccd66a1288b4ecc60b74983867', '72354c0af6c478b61283a996a27d18e70a5d01ce', '518f5f43429304c11668623bb73655e8a97e95a5', '55d23329a89210beb789b6026e5bacef5f9cca69', '9a660cd0e498aeb08cd6d8b62cddcc6762c541c6', '5f8c1c9447fd95b9c273c55807a92dbd5e128aff', '379c45229de17fb596a3007580591b90642d4433', 'd997c7db3862f5ddb87ccd87ea3670d8700618d4', '05f226ee64b3233ce188010025e23464f780d821', '523dbe38910336a4d523f58a408d43f3576bd7e9', 'c8504ae53bce0a990140eaead1e5289efb1515f8', '28156cb1d0b71b06742ab821a8b88bef72965c82', '2dae5fcf510b95c20ea9ce2ebb7fde8e27768cbf', 'd87c106bda1f0df2a3e52cdc5c8aa37e30d58e58', 'b8a378e53e8510ca8bde97a68ce3874417505e7d', '365995a61187c26a3fe83ff4babcb24393b0376f', '210f3a581078971a7b4ae481ab8411a4f7837cee', '85650cebb4809c45f2c8ea4a875b25f74eb379d9', 'ce437bd511ae1fb47cac33c55818395657eaa1cc', '6ead9d97aa5d2278b51e9cd142be52191379435b', '76ae586b0c3c581d1f6cd86f43d39d57fcc0691f', 'c9a6232343943de241f9601eeb175edaa838ea77', 'de45b20f74ba24e55e0945ad698823b2f2582da0', '1039dae804ff0a96f689b2c2961d390aa13914cf', '2510038527855bd611844cce31164f71c42ce3ad', '708ae260f8ec276eae688a3f07d1eb0557d3c75b', '44a1668fd941e14bb1dffbe94248b680a97f87e2', '1f1db21105cbc879e195577db88acf044fc4deb6', '4a4709290b5d7e0b0bda6c70e6ee7e229be463ba', 'd32d9337c6672ee56a7d22f0cbc8e7e979af6350', '2c65722c771aac12213af740b9c0ce19f897913f', 'f71e12a27b574a83118b3fb9e4aaa09563cba738', 'cb33272c3010321cead6db6ac24ff33922365a3a', '86142ff8d467861bc66da4b32578b1206cb4ea32', 'ced33ee66eac5185e552941a0d987142f8ea8485', '4b31445a10173690532ce8a4b0fa5c7b30ccdb98', '461aca64a5aa057a68b6ca6421180b7b6a8a8638', '6de6e21c98a5206aa9a057c4bebb0ad925b91a94', '7c81e7e7d4348e03a594734108a2889a825ac704', '82dd101e9644cd0fd344428fa445db31c3479f24', 'b43ba8479f37d7763985249021553a465009bbad', '164da3325d23aa05f9f37273db4393440e771a6c', '29efb1235caf082c40392fa016e2d94ed834ca26', '10e312bfa5ab4dbd9c290776309ef65cd8e646d4', 'e4f0bcd8e3c158d4e57b5921bb1bf3dd4c6d8474', ... ]"
            ]
          },
          "metadata": {},
          "execution_count": 133
        }
      ]
    },
    {
      "cell_type": "code",
      "metadata": {
        "colab": {
          "base_uri": "https://localhost:8080/"
        },
        "id": "yzPnT3FkGX8d",
        "outputId": "1d51c8db-1d43-45e8-8276-d75b66d22cf4"
      },
      "source": [
        "l=songs[songs['artist']=='Lady GaGa']\n",
        "l['user_id'].unique()"
      ],
      "execution_count": null,
      "outputs": [
        {
          "output_type": "execute_result",
          "data": {
            "text/plain": [
              "dtype: str\n",
              "Rows: 2928\n",
              "['0ecb1f480ebb237dc7821c898c94219cdfe38789', '7ad06615d118067e1bf973aa86c672874e0eb78f', 'b2b08a84654f90585e0dc3c5155d330fb8e4ba59', '360b4499ebb6a98afbcfe95377ff8709eb95faac', '2e9cbd200d67910aeb97b36efe9cd4341cc06030', 'fe85b96ba1983219b296f6b4869dd29eb2b72ff9', 'b0a570c42ba00edff4804f5d63916021ecfbd23c', 'e132e16e64f99edc3a674f823ce241da8dfbda21', '6b17deda6a5e5f22005e3aebc007e74c2574c7df', 'e8813fe73c90d69b4f744251c68fce896ec2aede', '090e635812d596bd980db8abc8226413441d8144', 'e70c4dd69296c7c57f64feb49a4a2a19bf3f688e', '38b77950a0d776effcdd6a7c101cc4d008059885', '4a6c404b2726ea68403d998be9c5118a0e91ca72', '3cea6c2878acf2f2996f98424d7f656adfaa2f6a', '7906b560bae5f8b3eb5d7f78ae65dbe94f248f4d', 'de5b7f935683035a6cde7f5886254fd293a73869', '531bbf65b9fd21d4e56d837def9399f304691207', '181d9c254ff957a396b8bbcec10228f84cfa5c2c', 'ad3e5d8acd955dd709794043e7ae02a85df12d65', 'efad1bd178aa3996d6fd40412ca0e5af4794e983', '3a829c9fa2a7b69f4067260200d35cc1af84020d', '5c4632b90bed9b1c69573f1de1c8d6dee1eb8d0c', '9232eeaa942af2ff3f3e2b90f996d3ad003e4b31', '48315fdbceba830680c924d8806cff317c6798c6', '5264bce396b58ba18b13fa8bc692b9e13095b238', '2ef5361054d5f4da80de8d59e767096cfe1d4e0e', 'a57d0e93327e03ba4f39cfdd633dbcb2b4f526f6', 'b3bda43148fb16602e0839344c7e4ae82277b68c', '4efd7650a476a016e4a65b0df7e640f239032b3c', '6a37f8118af2f2ac3a9acf220fc3d5c5bd20b084', '427f79a4116066653aa6959974f8a5986c2a8459', '9fd616a80b94d0b0f4b1dd438eae250e6fab9bfb', '21061b3af26cd9d0ac1c43cc9bc22d7416ff65f4', '358382780371437a861b90ff4f33022b30615b58', 'e4006c24d8a66fe85e825f8d4b0a9078be1b9204', 'fa34b04be0338811ccaae543e0ea5f7f2573f23d', '64db7e5580fb973cbcd9eca0532bd23f746c308a', '4d7b263e00678587c92a381904862c258c995f3a', 'db66a2159e681457517e5e7ddec88e89f8bdf934', '3a472c895a3ee2d99a2bffe10769235131de5bce', '8ff780d7f6c9e406e85603ecd804f8de42f0efc7', '751d4245454f7d7600ddbb355e6e5212af2f1ddd', '7717fe4c7c003887cce5a09d6eb1d8e739ac5d62', '90182c2fff16adc1d0ef229f39ff963cf37a6615', 'dbefed38a75a3f73e79262227c531a07e8c1c75c', '15596405a3b22023bbd3965cc6329cdae8e475b1', '9b8ca75bf3eafca09c69ad0f0c38bfe0cbab387b', '57be59aea99414a297899a04fb469f7b46592fc4', '4a7a2bb6ceca48ada53f859763ea2aba05f49516', '587d72d47d50a6940a78ff3fcd91caf8d4054c6a', '09b99937f1b90425c490321ec3027251eccfac3d', '05f226ee64b3233ce188010025e23464f780d821', 'd2f6e3542854934ecb56c3083f6a74c2b259d367', '0f0182cafb8d8d3c4c384aedb1a0d316c602ed7d', '2f46eb8ef4cfe8ed86c869e393ea5ce0eaaee461', 'd1b75f8014af0ba7e22bc1e95a28d6be19003886', '84c6475a73261c4a1db1d16f3ad80af1a0256f92', 'e8fc7111df017488a7c6630dc0bab52931cab644', '3fbc5e73ac917bf857102bd4e8b26983a7881035', '6cde3794dd8b2862015d850127be9bc60f1b3c31', '33fe674851b6a7a1f03e5bada3c200116ece3943', '12789b3b67efc997897d019fff50e226357ebbfd', 'fccefe057c1fe8571277ce99bc4746cd71eb5147', 'b12e25ca77f4d6d24a3cc43b5d68744c3b4a8e2c', '1d7b9780e492c062c739517c89e794985c7cf4bb', '1039dae804ff0a96f689b2c2961d390aa13914cf', '6cb2acdc7878bb390f470a5affb706fc821829fd', '0ef3fc780b2d3e3d95668a1d7d649b38c7c8e6c4', '286d0e09b1e974dc664d6f701bf3f8eda09a1ad6', '8fe2ebdb95db4564544947cb16d442bea81554ac', '1a8e700876bdab8669019bee20d193103f76ab92', '120b2dc2699659ae3b708a613abc3d7ecb5326e2', '410787892d06c77fe0d5afd8b3b00dc874a11091', '355429a240c40b288d8b9c48e2849c5f67303dab', '6a76f7237d1e4988bf23ed184c10b7a9d2f96974', '1a23569da6434614c5a2aa14ef67fcf4c07d17b7', '8f3bf00c389715e5a350848cab74ea71f3855eb3', 'd9cc3601c05102e33fc41ee319ee7ccf7bbb3fb8', '0125127617030cb2793e6944075d99046123c37e', 'd0e60617ed4a08b97e17bf7204c1ab666551e50e', '13716875b4aa5052b2cf87a3e1275db249bf798a', '1bd140b16562bf0c720fefe784470dd0f72370d3', 'b6c4164b5b7764e86c695dfa5895ee063c236943', '5a5302263531077e0d4c07217ad4741278f13ce3', '148a5727b25b2b1703668e2b03f4df88225f166d', 'af1227fa8640d0155e12ce87de8279050407ee93', 'dea2c7bf2fd8001b6f09f01dff1217ea76a28ac9', '7c81e7e7d4348e03a594734108a2889a825ac704', 'd7e65e4295729ceafe349b056d743038ce2bf7e4', '298c645a8d538157b09dbb3669b50c42ba36075f', '29efb1235caf082c40392fa016e2d94ed834ca26', '686c886260ae27f539ee9c4d38b9d5800afa7ede', '6a1432a23977a6515dcf49092f3424fecce2fd44', '514033d39196cbe7ad55004ac3acc589c604335f', '91cc1993adadcc66d133c1f57e4a4a0131612c8c', 'ac6836ccde6a2cbf6ed80d319a191a0776da235b', 'a84c816dae73862b28b8df29829e1418788fa97c', '8c907427d706aab41a79dd1d8e898fcc2f4c41e9', '983090cc71f8f386c18694d36ad1ff4480aaba20', ... ]"
            ]
          },
          "metadata": {},
          "execution_count": 134
        }
      ]
    },
    {
      "cell_type": "code",
      "metadata": {
        "colab": {
          "base_uri": "https://localhost:8080/"
        },
        "id": "pCTo85OqGxLr",
        "outputId": "6458ea3a-8a29-46b0-be99-ca3974c7ed0c"
      },
      "source": [
        "w=songs[songs['artist']=='William Tabbert']\n",
        "w['listen_count'].sum()\n"
      ],
      "execution_count": null,
      "outputs": [
        {
          "output_type": "execute_result",
          "data": {
            "text/plain": [
              "14"
            ]
          },
          "metadata": {},
          "execution_count": 135
        }
      ]
    },
    {
      "cell_type": "code",
      "metadata": {
        "id": "76pRIQi1Ht0J"
      },
      "source": [
        ""
      ],
      "execution_count": null,
      "outputs": []
    }
  ]
}